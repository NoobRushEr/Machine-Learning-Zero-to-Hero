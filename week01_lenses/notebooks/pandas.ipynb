{
 "cells": [
  {
   "metadata": {
    "ExecuteTime": {
     "end_time": "2025-09-10T15:42:10.375574Z",
     "start_time": "2025-09-10T15:42:08.232204Z"
    }
   },
   "cell_type": "code",
   "source": [
    "import numpy as np\n",
    "import pandas as pd"
   ],
   "id": "7d5ad9400b6ba277",
   "outputs": [],
   "execution_count": 1
  },
  {
   "metadata": {},
   "cell_type": "markdown",
   "source": "## Object Creation",
   "id": "e82942afcd75220"
  },
  {
   "metadata": {
    "ExecuteTime": {
     "end_time": "2025-09-10T15:53:11.637290Z",
     "start_time": "2025-09-10T15:53:11.617649Z"
    }
   },
   "cell_type": "code",
   "source": [
    "s = pd.Series([1,3,5,np.nan, 6, 8])\n",
    "s"
   ],
   "id": "2ad8e9124e20f1d3",
   "outputs": [
    {
     "data": {
      "text/plain": [
       "0    1.0\n",
       "1    3.0\n",
       "2    5.0\n",
       "3    NaN\n",
       "4    6.0\n",
       "5    8.0\n",
       "dtype: float64"
      ]
     },
     "execution_count": 3,
     "metadata": {},
     "output_type": "execute_result"
    }
   ],
   "execution_count": 3
  },
  {
   "metadata": {
    "ExecuteTime": {
     "end_time": "2025-09-10T15:54:28.118108Z",
     "start_time": "2025-09-10T15:54:28.046538Z"
    }
   },
   "cell_type": "code",
   "source": [
    "dates = pd.date_range(\"20250101\", periods=6)\n",
    "dates"
   ],
   "id": "3317cc88688202e2",
   "outputs": [
    {
     "data": {
      "text/plain": [
       "DatetimeIndex(['2025-01-01', '2025-01-02', '2025-01-03', '2025-01-04',\n",
       "               '2025-01-05', '2025-01-06'],\n",
       "              dtype='datetime64[ns]', freq='D')"
      ]
     },
     "execution_count": 5,
     "metadata": {},
     "output_type": "execute_result"
    }
   ],
   "execution_count": 5
  },
  {
   "metadata": {
    "ExecuteTime": {
     "end_time": "2025-09-10T15:55:56.351816Z",
     "start_time": "2025-09-10T15:55:56.336305Z"
    }
   },
   "cell_type": "code",
   "source": [
    "df = pd.DataFrame(np.random.randn(6,4), index=dates, columns=list(\"ABCD\"))\n",
    "df"
   ],
   "id": "588b5cb10e9a64b6",
   "outputs": [
    {
     "data": {
      "text/plain": [
       "                   A         B         C         D\n",
       "2025-01-01 -0.485034  0.565759  1.020790  0.048231\n",
       "2025-01-02  1.234250 -0.017665 -2.565648  0.380577\n",
       "2025-01-03 -3.096719  0.117656  1.409707  0.996535\n",
       "2025-01-04 -0.354393  1.490735  1.790957 -1.017048\n",
       "2025-01-05 -0.449488 -1.597510 -1.110994  0.737309\n",
       "2025-01-06  1.685621  0.513039  0.514706 -0.201411"
      ],
      "text/html": [
       "<div>\n",
       "<style scoped>\n",
       "    .dataframe tbody tr th:only-of-type {\n",
       "        vertical-align: middle;\n",
       "    }\n",
       "\n",
       "    .dataframe tbody tr th {\n",
       "        vertical-align: top;\n",
       "    }\n",
       "\n",
       "    .dataframe thead th {\n",
       "        text-align: right;\n",
       "    }\n",
       "</style>\n",
       "<table border=\"1\" class=\"dataframe\">\n",
       "  <thead>\n",
       "    <tr style=\"text-align: right;\">\n",
       "      <th></th>\n",
       "      <th>A</th>\n",
       "      <th>B</th>\n",
       "      <th>C</th>\n",
       "      <th>D</th>\n",
       "    </tr>\n",
       "  </thead>\n",
       "  <tbody>\n",
       "    <tr>\n",
       "      <th>2025-01-01</th>\n",
       "      <td>-0.485034</td>\n",
       "      <td>0.565759</td>\n",
       "      <td>1.020790</td>\n",
       "      <td>0.048231</td>\n",
       "    </tr>\n",
       "    <tr>\n",
       "      <th>2025-01-02</th>\n",
       "      <td>1.234250</td>\n",
       "      <td>-0.017665</td>\n",
       "      <td>-2.565648</td>\n",
       "      <td>0.380577</td>\n",
       "    </tr>\n",
       "    <tr>\n",
       "      <th>2025-01-03</th>\n",
       "      <td>-3.096719</td>\n",
       "      <td>0.117656</td>\n",
       "      <td>1.409707</td>\n",
       "      <td>0.996535</td>\n",
       "    </tr>\n",
       "    <tr>\n",
       "      <th>2025-01-04</th>\n",
       "      <td>-0.354393</td>\n",
       "      <td>1.490735</td>\n",
       "      <td>1.790957</td>\n",
       "      <td>-1.017048</td>\n",
       "    </tr>\n",
       "    <tr>\n",
       "      <th>2025-01-05</th>\n",
       "      <td>-0.449488</td>\n",
       "      <td>-1.597510</td>\n",
       "      <td>-1.110994</td>\n",
       "      <td>0.737309</td>\n",
       "    </tr>\n",
       "    <tr>\n",
       "      <th>2025-01-06</th>\n",
       "      <td>1.685621</td>\n",
       "      <td>0.513039</td>\n",
       "      <td>0.514706</td>\n",
       "      <td>-0.201411</td>\n",
       "    </tr>\n",
       "  </tbody>\n",
       "</table>\n",
       "</div>"
      ]
     },
     "execution_count": 8,
     "metadata": {},
     "output_type": "execute_result"
    }
   ],
   "execution_count": 8
  },
  {
   "metadata": {
    "ExecuteTime": {
     "end_time": "2025-09-10T16:12:04.471698Z",
     "start_time": "2025-09-10T16:12:04.443403Z"
    }
   },
   "cell_type": "code",
   "source": [
    "df2 = pd.DataFrame({\n",
    "    \"A\": 2.0,\n",
    "    \"B\": pd.Timestamp(\"20250101\"),\n",
    "    \"C\": pd.Series(1, index=list(range(8)), dtype = \"float32\"),\n",
    "    \"D\": np.array([3,4,5,6, 11, 15, 20, 25], dtype='int32'),\n",
    "    \"E\": pd.Categorical([\"test\", \"train\", \"test\", \"train\", \"test\", \"train\", \"test\", \"train\"]),\n",
    "    \"Z\": \"foo\"\n",
    "})\n",
    "df2"
   ],
   "id": "27b81a1136268382",
   "outputs": [
    {
     "data": {
      "text/plain": [
       "     A          B    C   D      E    Z\n",
       "0  2.0 2025-01-01  1.0   3   test  foo\n",
       "1  2.0 2025-01-01  1.0   4  train  foo\n",
       "2  2.0 2025-01-01  1.0   5   test  foo\n",
       "3  2.0 2025-01-01  1.0   6  train  foo\n",
       "4  2.0 2025-01-01  1.0  11   test  foo\n",
       "5  2.0 2025-01-01  1.0  15  train  foo\n",
       "6  2.0 2025-01-01  1.0  20   test  foo\n",
       "7  2.0 2025-01-01  1.0  25  train  foo"
      ],
      "text/html": [
       "<div>\n",
       "<style scoped>\n",
       "    .dataframe tbody tr th:only-of-type {\n",
       "        vertical-align: middle;\n",
       "    }\n",
       "\n",
       "    .dataframe tbody tr th {\n",
       "        vertical-align: top;\n",
       "    }\n",
       "\n",
       "    .dataframe thead th {\n",
       "        text-align: right;\n",
       "    }\n",
       "</style>\n",
       "<table border=\"1\" class=\"dataframe\">\n",
       "  <thead>\n",
       "    <tr style=\"text-align: right;\">\n",
       "      <th></th>\n",
       "      <th>A</th>\n",
       "      <th>B</th>\n",
       "      <th>C</th>\n",
       "      <th>D</th>\n",
       "      <th>E</th>\n",
       "      <th>Z</th>\n",
       "    </tr>\n",
       "  </thead>\n",
       "  <tbody>\n",
       "    <tr>\n",
       "      <th>0</th>\n",
       "      <td>2.0</td>\n",
       "      <td>2025-01-01</td>\n",
       "      <td>1.0</td>\n",
       "      <td>3</td>\n",
       "      <td>test</td>\n",
       "      <td>foo</td>\n",
       "    </tr>\n",
       "    <tr>\n",
       "      <th>1</th>\n",
       "      <td>2.0</td>\n",
       "      <td>2025-01-01</td>\n",
       "      <td>1.0</td>\n",
       "      <td>4</td>\n",
       "      <td>train</td>\n",
       "      <td>foo</td>\n",
       "    </tr>\n",
       "    <tr>\n",
       "      <th>2</th>\n",
       "      <td>2.0</td>\n",
       "      <td>2025-01-01</td>\n",
       "      <td>1.0</td>\n",
       "      <td>5</td>\n",
       "      <td>test</td>\n",
       "      <td>foo</td>\n",
       "    </tr>\n",
       "    <tr>\n",
       "      <th>3</th>\n",
       "      <td>2.0</td>\n",
       "      <td>2025-01-01</td>\n",
       "      <td>1.0</td>\n",
       "      <td>6</td>\n",
       "      <td>train</td>\n",
       "      <td>foo</td>\n",
       "    </tr>\n",
       "    <tr>\n",
       "      <th>4</th>\n",
       "      <td>2.0</td>\n",
       "      <td>2025-01-01</td>\n",
       "      <td>1.0</td>\n",
       "      <td>11</td>\n",
       "      <td>test</td>\n",
       "      <td>foo</td>\n",
       "    </tr>\n",
       "    <tr>\n",
       "      <th>5</th>\n",
       "      <td>2.0</td>\n",
       "      <td>2025-01-01</td>\n",
       "      <td>1.0</td>\n",
       "      <td>15</td>\n",
       "      <td>train</td>\n",
       "      <td>foo</td>\n",
       "    </tr>\n",
       "    <tr>\n",
       "      <th>6</th>\n",
       "      <td>2.0</td>\n",
       "      <td>2025-01-01</td>\n",
       "      <td>1.0</td>\n",
       "      <td>20</td>\n",
       "      <td>test</td>\n",
       "      <td>foo</td>\n",
       "    </tr>\n",
       "    <tr>\n",
       "      <th>7</th>\n",
       "      <td>2.0</td>\n",
       "      <td>2025-01-01</td>\n",
       "      <td>1.0</td>\n",
       "      <td>25</td>\n",
       "      <td>train</td>\n",
       "      <td>foo</td>\n",
       "    </tr>\n",
       "  </tbody>\n",
       "</table>\n",
       "</div>"
      ]
     },
     "execution_count": 40,
     "metadata": {},
     "output_type": "execute_result"
    }
   ],
   "execution_count": 40
  },
  {
   "metadata": {},
   "cell_type": "markdown",
   "source": "### data types (dtypes)",
   "id": "4d8c26a6c4a6f0b8"
  },
  {
   "metadata": {
    "ExecuteTime": {
     "end_time": "2025-09-10T16:12:04.966026Z",
     "start_time": "2025-09-10T16:12:04.954503Z"
    }
   },
   "cell_type": "code",
   "source": "df2.dtypes",
   "id": "a7cc0f88854b0d92",
   "outputs": [
    {
     "data": {
      "text/plain": [
       "A          float64\n",
       "B    datetime64[s]\n",
       "C          float32\n",
       "D            int32\n",
       "E         category\n",
       "Z           object\n",
       "dtype: object"
      ]
     },
     "execution_count": 41,
     "metadata": {},
     "output_type": "execute_result"
    }
   ],
   "execution_count": 41
  },
  {
   "metadata": {},
   "cell_type": "markdown",
   "source": "### Viewing data",
   "id": "82e4b0fa5b9fd81a"
  },
  {
   "metadata": {
    "ExecuteTime": {
     "end_time": "2025-09-10T16:12:05.438378Z",
     "start_time": "2025-09-10T16:12:05.418790Z"
    }
   },
   "cell_type": "code",
   "source": [
    "#Top Rows\n",
    "df2.head()"
   ],
   "id": "59761c618057e858",
   "outputs": [
    {
     "data": {
      "text/plain": [
       "     A          B    C   D      E    Z\n",
       "0  2.0 2025-01-01  1.0   3   test  foo\n",
       "1  2.0 2025-01-01  1.0   4  train  foo\n",
       "2  2.0 2025-01-01  1.0   5   test  foo\n",
       "3  2.0 2025-01-01  1.0   6  train  foo\n",
       "4  2.0 2025-01-01  1.0  11   test  foo"
      ],
      "text/html": [
       "<div>\n",
       "<style scoped>\n",
       "    .dataframe tbody tr th:only-of-type {\n",
       "        vertical-align: middle;\n",
       "    }\n",
       "\n",
       "    .dataframe tbody tr th {\n",
       "        vertical-align: top;\n",
       "    }\n",
       "\n",
       "    .dataframe thead th {\n",
       "        text-align: right;\n",
       "    }\n",
       "</style>\n",
       "<table border=\"1\" class=\"dataframe\">\n",
       "  <thead>\n",
       "    <tr style=\"text-align: right;\">\n",
       "      <th></th>\n",
       "      <th>A</th>\n",
       "      <th>B</th>\n",
       "      <th>C</th>\n",
       "      <th>D</th>\n",
       "      <th>E</th>\n",
       "      <th>Z</th>\n",
       "    </tr>\n",
       "  </thead>\n",
       "  <tbody>\n",
       "    <tr>\n",
       "      <th>0</th>\n",
       "      <td>2.0</td>\n",
       "      <td>2025-01-01</td>\n",
       "      <td>1.0</td>\n",
       "      <td>3</td>\n",
       "      <td>test</td>\n",
       "      <td>foo</td>\n",
       "    </tr>\n",
       "    <tr>\n",
       "      <th>1</th>\n",
       "      <td>2.0</td>\n",
       "      <td>2025-01-01</td>\n",
       "      <td>1.0</td>\n",
       "      <td>4</td>\n",
       "      <td>train</td>\n",
       "      <td>foo</td>\n",
       "    </tr>\n",
       "    <tr>\n",
       "      <th>2</th>\n",
       "      <td>2.0</td>\n",
       "      <td>2025-01-01</td>\n",
       "      <td>1.0</td>\n",
       "      <td>5</td>\n",
       "      <td>test</td>\n",
       "      <td>foo</td>\n",
       "    </tr>\n",
       "    <tr>\n",
       "      <th>3</th>\n",
       "      <td>2.0</td>\n",
       "      <td>2025-01-01</td>\n",
       "      <td>1.0</td>\n",
       "      <td>6</td>\n",
       "      <td>train</td>\n",
       "      <td>foo</td>\n",
       "    </tr>\n",
       "    <tr>\n",
       "      <th>4</th>\n",
       "      <td>2.0</td>\n",
       "      <td>2025-01-01</td>\n",
       "      <td>1.0</td>\n",
       "      <td>11</td>\n",
       "      <td>test</td>\n",
       "      <td>foo</td>\n",
       "    </tr>\n",
       "  </tbody>\n",
       "</table>\n",
       "</div>"
      ]
     },
     "execution_count": 42,
     "metadata": {},
     "output_type": "execute_result"
    }
   ],
   "execution_count": 42
  },
  {
   "metadata": {
    "ExecuteTime": {
     "end_time": "2025-09-10T16:12:06.048567Z",
     "start_time": "2025-09-10T16:12:06.031242Z"
    }
   },
   "cell_type": "code",
   "source": [
    "#Bottom Rows\n",
    "df2.tail()"
   ],
   "id": "4ecc8b7c6080db50",
   "outputs": [
    {
     "data": {
      "text/plain": [
       "     A          B    C   D      E    Z\n",
       "3  2.0 2025-01-01  1.0   6  train  foo\n",
       "4  2.0 2025-01-01  1.0  11   test  foo\n",
       "5  2.0 2025-01-01  1.0  15  train  foo\n",
       "6  2.0 2025-01-01  1.0  20   test  foo\n",
       "7  2.0 2025-01-01  1.0  25  train  foo"
      ],
      "text/html": [
       "<div>\n",
       "<style scoped>\n",
       "    .dataframe tbody tr th:only-of-type {\n",
       "        vertical-align: middle;\n",
       "    }\n",
       "\n",
       "    .dataframe tbody tr th {\n",
       "        vertical-align: top;\n",
       "    }\n",
       "\n",
       "    .dataframe thead th {\n",
       "        text-align: right;\n",
       "    }\n",
       "</style>\n",
       "<table border=\"1\" class=\"dataframe\">\n",
       "  <thead>\n",
       "    <tr style=\"text-align: right;\">\n",
       "      <th></th>\n",
       "      <th>A</th>\n",
       "      <th>B</th>\n",
       "      <th>C</th>\n",
       "      <th>D</th>\n",
       "      <th>E</th>\n",
       "      <th>Z</th>\n",
       "    </tr>\n",
       "  </thead>\n",
       "  <tbody>\n",
       "    <tr>\n",
       "      <th>3</th>\n",
       "      <td>2.0</td>\n",
       "      <td>2025-01-01</td>\n",
       "      <td>1.0</td>\n",
       "      <td>6</td>\n",
       "      <td>train</td>\n",
       "      <td>foo</td>\n",
       "    </tr>\n",
       "    <tr>\n",
       "      <th>4</th>\n",
       "      <td>2.0</td>\n",
       "      <td>2025-01-01</td>\n",
       "      <td>1.0</td>\n",
       "      <td>11</td>\n",
       "      <td>test</td>\n",
       "      <td>foo</td>\n",
       "    </tr>\n",
       "    <tr>\n",
       "      <th>5</th>\n",
       "      <td>2.0</td>\n",
       "      <td>2025-01-01</td>\n",
       "      <td>1.0</td>\n",
       "      <td>15</td>\n",
       "      <td>train</td>\n",
       "      <td>foo</td>\n",
       "    </tr>\n",
       "    <tr>\n",
       "      <th>6</th>\n",
       "      <td>2.0</td>\n",
       "      <td>2025-01-01</td>\n",
       "      <td>1.0</td>\n",
       "      <td>20</td>\n",
       "      <td>test</td>\n",
       "      <td>foo</td>\n",
       "    </tr>\n",
       "    <tr>\n",
       "      <th>7</th>\n",
       "      <td>2.0</td>\n",
       "      <td>2025-01-01</td>\n",
       "      <td>1.0</td>\n",
       "      <td>25</td>\n",
       "      <td>train</td>\n",
       "      <td>foo</td>\n",
       "    </tr>\n",
       "  </tbody>\n",
       "</table>\n",
       "</div>"
      ]
     },
     "execution_count": 43,
     "metadata": {},
     "output_type": "execute_result"
    }
   ],
   "execution_count": 43
  },
  {
   "metadata": {
    "ExecuteTime": {
     "end_time": "2025-09-10T16:12:06.440778Z",
     "start_time": "2025-09-10T16:12:06.430238Z"
    }
   },
   "cell_type": "code",
   "source": "df.index",
   "id": "330188f87189c6a",
   "outputs": [
    {
     "data": {
      "text/plain": [
       "DatetimeIndex(['2025-01-01', '2025-01-02', '2025-01-03', '2025-01-04',\n",
       "               '2025-01-05', '2025-01-06'],\n",
       "              dtype='datetime64[ns]', freq='D')"
      ]
     },
     "execution_count": 44,
     "metadata": {},
     "output_type": "execute_result"
    }
   ],
   "execution_count": 44
  },
  {
   "metadata": {
    "ExecuteTime": {
     "end_time": "2025-09-10T16:12:06.986343Z",
     "start_time": "2025-09-10T16:12:06.977548Z"
    }
   },
   "cell_type": "code",
   "source": "df2.index",
   "id": "d87bacbd9a2cb6c9",
   "outputs": [
    {
     "data": {
      "text/plain": [
       "Index([0, 1, 2, 3, 4, 5, 6, 7], dtype='int64')"
      ]
     },
     "execution_count": 45,
     "metadata": {},
     "output_type": "execute_result"
    }
   ],
   "execution_count": 45
  },
  {
   "metadata": {
    "ExecuteTime": {
     "end_time": "2025-09-10T16:12:07.301047Z",
     "start_time": "2025-09-10T16:12:07.291427Z"
    }
   },
   "cell_type": "code",
   "source": "df.columns",
   "id": "23ac5612eeda184c",
   "outputs": [
    {
     "data": {
      "text/plain": [
       "Index(['A', 'B', 'C', 'D'], dtype='object')"
      ]
     },
     "execution_count": 46,
     "metadata": {},
     "output_type": "execute_result"
    }
   ],
   "execution_count": 46
  },
  {
   "metadata": {
    "ExecuteTime": {
     "end_time": "2025-09-10T16:12:07.426675Z",
     "start_time": "2025-09-10T16:12:07.415134Z"
    }
   },
   "cell_type": "code",
   "source": "df2.columns",
   "id": "6f7a4ceeacd727a4",
   "outputs": [
    {
     "data": {
      "text/plain": [
       "Index(['A', 'B', 'C', 'D', 'E', 'Z'], dtype='object')"
      ]
     },
     "execution_count": 47,
     "metadata": {},
     "output_type": "execute_result"
    }
   ],
   "execution_count": 47
  },
  {
   "metadata": {
    "ExecuteTime": {
     "end_time": "2025-09-10T16:12:07.660162Z",
     "start_time": "2025-09-10T16:12:07.652778Z"
    }
   },
   "cell_type": "code",
   "source": [
    "# df2.dtypes\n",
    "# df2.to_numpy()"
   ],
   "id": "4fcddea3b5ef469d",
   "outputs": [],
   "execution_count": 48
  },
  {
   "metadata": {
    "ExecuteTime": {
     "end_time": "2025-09-10T16:13:57.079396Z",
     "start_time": "2025-09-10T16:13:57.035202Z"
    }
   },
   "cell_type": "code",
   "source": [
    "# Describe numeric columns by default ifmixed\n",
    "df2.describe()\n",
    "\n",
    "# Describe all columns\n",
    "df2.describe(include='all')"
   ],
   "id": "66a537b0869369c4",
   "outputs": [
    {
     "data": {
      "text/plain": [
       "          A                    B    C          D     E    Z\n",
       "count   8.0                    8  8.0   8.000000     8    8\n",
       "unique  NaN                  NaN  NaN        NaN     2    1\n",
       "top     NaN                  NaN  NaN        NaN  test  foo\n",
       "freq    NaN                  NaN  NaN        NaN     4    8\n",
       "mean    2.0  2025-01-01 00:00:00  1.0  11.125000   NaN  NaN\n",
       "min     2.0  2025-01-01 00:00:00  1.0   3.000000   NaN  NaN\n",
       "25%     2.0  2025-01-01 00:00:00  1.0   4.750000   NaN  NaN\n",
       "50%     2.0  2025-01-01 00:00:00  1.0   8.500000   NaN  NaN\n",
       "75%     2.0  2025-01-01 00:00:00  1.0  16.250000   NaN  NaN\n",
       "max     2.0  2025-01-01 00:00:00  1.0  25.000000   NaN  NaN\n",
       "std     0.0                  NaN  0.0   8.166788   NaN  NaN"
      ],
      "text/html": [
       "<div>\n",
       "<style scoped>\n",
       "    .dataframe tbody tr th:only-of-type {\n",
       "        vertical-align: middle;\n",
       "    }\n",
       "\n",
       "    .dataframe tbody tr th {\n",
       "        vertical-align: top;\n",
       "    }\n",
       "\n",
       "    .dataframe thead th {\n",
       "        text-align: right;\n",
       "    }\n",
       "</style>\n",
       "<table border=\"1\" class=\"dataframe\">\n",
       "  <thead>\n",
       "    <tr style=\"text-align: right;\">\n",
       "      <th></th>\n",
       "      <th>A</th>\n",
       "      <th>B</th>\n",
       "      <th>C</th>\n",
       "      <th>D</th>\n",
       "      <th>E</th>\n",
       "      <th>Z</th>\n",
       "    </tr>\n",
       "  </thead>\n",
       "  <tbody>\n",
       "    <tr>\n",
       "      <th>count</th>\n",
       "      <td>8.0</td>\n",
       "      <td>8</td>\n",
       "      <td>8.0</td>\n",
       "      <td>8.000000</td>\n",
       "      <td>8</td>\n",
       "      <td>8</td>\n",
       "    </tr>\n",
       "    <tr>\n",
       "      <th>unique</th>\n",
       "      <td>NaN</td>\n",
       "      <td>NaN</td>\n",
       "      <td>NaN</td>\n",
       "      <td>NaN</td>\n",
       "      <td>2</td>\n",
       "      <td>1</td>\n",
       "    </tr>\n",
       "    <tr>\n",
       "      <th>top</th>\n",
       "      <td>NaN</td>\n",
       "      <td>NaN</td>\n",
       "      <td>NaN</td>\n",
       "      <td>NaN</td>\n",
       "      <td>test</td>\n",
       "      <td>foo</td>\n",
       "    </tr>\n",
       "    <tr>\n",
       "      <th>freq</th>\n",
       "      <td>NaN</td>\n",
       "      <td>NaN</td>\n",
       "      <td>NaN</td>\n",
       "      <td>NaN</td>\n",
       "      <td>4</td>\n",
       "      <td>8</td>\n",
       "    </tr>\n",
       "    <tr>\n",
       "      <th>mean</th>\n",
       "      <td>2.0</td>\n",
       "      <td>2025-01-01 00:00:00</td>\n",
       "      <td>1.0</td>\n",
       "      <td>11.125000</td>\n",
       "      <td>NaN</td>\n",
       "      <td>NaN</td>\n",
       "    </tr>\n",
       "    <tr>\n",
       "      <th>min</th>\n",
       "      <td>2.0</td>\n",
       "      <td>2025-01-01 00:00:00</td>\n",
       "      <td>1.0</td>\n",
       "      <td>3.000000</td>\n",
       "      <td>NaN</td>\n",
       "      <td>NaN</td>\n",
       "    </tr>\n",
       "    <tr>\n",
       "      <th>25%</th>\n",
       "      <td>2.0</td>\n",
       "      <td>2025-01-01 00:00:00</td>\n",
       "      <td>1.0</td>\n",
       "      <td>4.750000</td>\n",
       "      <td>NaN</td>\n",
       "      <td>NaN</td>\n",
       "    </tr>\n",
       "    <tr>\n",
       "      <th>50%</th>\n",
       "      <td>2.0</td>\n",
       "      <td>2025-01-01 00:00:00</td>\n",
       "      <td>1.0</td>\n",
       "      <td>8.500000</td>\n",
       "      <td>NaN</td>\n",
       "      <td>NaN</td>\n",
       "    </tr>\n",
       "    <tr>\n",
       "      <th>75%</th>\n",
       "      <td>2.0</td>\n",
       "      <td>2025-01-01 00:00:00</td>\n",
       "      <td>1.0</td>\n",
       "      <td>16.250000</td>\n",
       "      <td>NaN</td>\n",
       "      <td>NaN</td>\n",
       "    </tr>\n",
       "    <tr>\n",
       "      <th>max</th>\n",
       "      <td>2.0</td>\n",
       "      <td>2025-01-01 00:00:00</td>\n",
       "      <td>1.0</td>\n",
       "      <td>25.000000</td>\n",
       "      <td>NaN</td>\n",
       "      <td>NaN</td>\n",
       "    </tr>\n",
       "    <tr>\n",
       "      <th>std</th>\n",
       "      <td>0.0</td>\n",
       "      <td>NaN</td>\n",
       "      <td>0.0</td>\n",
       "      <td>8.166788</td>\n",
       "      <td>NaN</td>\n",
       "      <td>NaN</td>\n",
       "    </tr>\n",
       "  </tbody>\n",
       "</table>\n",
       "</div>"
      ]
     },
     "execution_count": 51,
     "metadata": {},
     "output_type": "execute_result"
    }
   ],
   "execution_count": 51
  },
  {
   "metadata": {
    "ExecuteTime": {
     "end_time": "2025-09-10T16:14:17.212089Z",
     "start_time": "2025-09-10T16:14:17.206988Z"
    }
   },
   "cell_type": "code",
   "source": "# Transposing your data",
   "id": "cef8211cef312662",
   "outputs": [],
   "execution_count": 52
  },
  {
   "metadata": {
    "ExecuteTime": {
     "end_time": "2025-09-10T16:14:19.620332Z",
     "start_time": "2025-09-10T16:14:19.602643Z"
    }
   },
   "cell_type": "code",
   "source": "df2.T",
   "id": "4fd05bf3ac872b72",
   "outputs": [
    {
     "data": {
      "text/plain": [
       "                     0                    1                    2  \\\n",
       "A                  2.0                  2.0                  2.0   \n",
       "B  2025-01-01 00:00:00  2025-01-01 00:00:00  2025-01-01 00:00:00   \n",
       "C                  1.0                  1.0                  1.0   \n",
       "D                    3                    4                    5   \n",
       "E                 test                train                 test   \n",
       "Z                  foo                  foo                  foo   \n",
       "\n",
       "                     3                    4                    5  \\\n",
       "A                  2.0                  2.0                  2.0   \n",
       "B  2025-01-01 00:00:00  2025-01-01 00:00:00  2025-01-01 00:00:00   \n",
       "C                  1.0                  1.0                  1.0   \n",
       "D                    6                   11                   15   \n",
       "E                train                 test                train   \n",
       "Z                  foo                  foo                  foo   \n",
       "\n",
       "                     6                    7  \n",
       "A                  2.0                  2.0  \n",
       "B  2025-01-01 00:00:00  2025-01-01 00:00:00  \n",
       "C                  1.0                  1.0  \n",
       "D                   20                   25  \n",
       "E                 test                train  \n",
       "Z                  foo                  foo  "
      ],
      "text/html": [
       "<div>\n",
       "<style scoped>\n",
       "    .dataframe tbody tr th:only-of-type {\n",
       "        vertical-align: middle;\n",
       "    }\n",
       "\n",
       "    .dataframe tbody tr th {\n",
       "        vertical-align: top;\n",
       "    }\n",
       "\n",
       "    .dataframe thead th {\n",
       "        text-align: right;\n",
       "    }\n",
       "</style>\n",
       "<table border=\"1\" class=\"dataframe\">\n",
       "  <thead>\n",
       "    <tr style=\"text-align: right;\">\n",
       "      <th></th>\n",
       "      <th>0</th>\n",
       "      <th>1</th>\n",
       "      <th>2</th>\n",
       "      <th>3</th>\n",
       "      <th>4</th>\n",
       "      <th>5</th>\n",
       "      <th>6</th>\n",
       "      <th>7</th>\n",
       "    </tr>\n",
       "  </thead>\n",
       "  <tbody>\n",
       "    <tr>\n",
       "      <th>A</th>\n",
       "      <td>2.0</td>\n",
       "      <td>2.0</td>\n",
       "      <td>2.0</td>\n",
       "      <td>2.0</td>\n",
       "      <td>2.0</td>\n",
       "      <td>2.0</td>\n",
       "      <td>2.0</td>\n",
       "      <td>2.0</td>\n",
       "    </tr>\n",
       "    <tr>\n",
       "      <th>B</th>\n",
       "      <td>2025-01-01 00:00:00</td>\n",
       "      <td>2025-01-01 00:00:00</td>\n",
       "      <td>2025-01-01 00:00:00</td>\n",
       "      <td>2025-01-01 00:00:00</td>\n",
       "      <td>2025-01-01 00:00:00</td>\n",
       "      <td>2025-01-01 00:00:00</td>\n",
       "      <td>2025-01-01 00:00:00</td>\n",
       "      <td>2025-01-01 00:00:00</td>\n",
       "    </tr>\n",
       "    <tr>\n",
       "      <th>C</th>\n",
       "      <td>1.0</td>\n",
       "      <td>1.0</td>\n",
       "      <td>1.0</td>\n",
       "      <td>1.0</td>\n",
       "      <td>1.0</td>\n",
       "      <td>1.0</td>\n",
       "      <td>1.0</td>\n",
       "      <td>1.0</td>\n",
       "    </tr>\n",
       "    <tr>\n",
       "      <th>D</th>\n",
       "      <td>3</td>\n",
       "      <td>4</td>\n",
       "      <td>5</td>\n",
       "      <td>6</td>\n",
       "      <td>11</td>\n",
       "      <td>15</td>\n",
       "      <td>20</td>\n",
       "      <td>25</td>\n",
       "    </tr>\n",
       "    <tr>\n",
       "      <th>E</th>\n",
       "      <td>test</td>\n",
       "      <td>train</td>\n",
       "      <td>test</td>\n",
       "      <td>train</td>\n",
       "      <td>test</td>\n",
       "      <td>train</td>\n",
       "      <td>test</td>\n",
       "      <td>train</td>\n",
       "    </tr>\n",
       "    <tr>\n",
       "      <th>Z</th>\n",
       "      <td>foo</td>\n",
       "      <td>foo</td>\n",
       "      <td>foo</td>\n",
       "      <td>foo</td>\n",
       "      <td>foo</td>\n",
       "      <td>foo</td>\n",
       "      <td>foo</td>\n",
       "      <td>foo</td>\n",
       "    </tr>\n",
       "  </tbody>\n",
       "</table>\n",
       "</div>"
      ]
     },
     "execution_count": 53,
     "metadata": {},
     "output_type": "execute_result"
    }
   ],
   "execution_count": 53
  },
  {
   "metadata": {
    "ExecuteTime": {
     "end_time": "2025-09-10T16:18:19.634317Z",
     "start_time": "2025-09-10T16:18:19.615511Z"
    }
   },
   "cell_type": "code",
   "source": [
    "#sorting your data\n",
    "#by index\n",
    "df2.sort_index(axis=1, ascending=False)"
   ],
   "id": "dade1492d119b6e",
   "outputs": [
    {
     "data": {
      "text/plain": [
       "     Z      E   D    C          B    A\n",
       "0  foo   test   3  1.0 2025-01-01  2.0\n",
       "1  foo  train   4  1.0 2025-01-01  2.0\n",
       "2  foo   test   5  1.0 2025-01-01  2.0\n",
       "3  foo  train   6  1.0 2025-01-01  2.0\n",
       "4  foo   test  11  1.0 2025-01-01  2.0\n",
       "5  foo  train  15  1.0 2025-01-01  2.0\n",
       "6  foo   test  20  1.0 2025-01-01  2.0\n",
       "7  foo  train  25  1.0 2025-01-01  2.0"
      ],
      "text/html": [
       "<div>\n",
       "<style scoped>\n",
       "    .dataframe tbody tr th:only-of-type {\n",
       "        vertical-align: middle;\n",
       "    }\n",
       "\n",
       "    .dataframe tbody tr th {\n",
       "        vertical-align: top;\n",
       "    }\n",
       "\n",
       "    .dataframe thead th {\n",
       "        text-align: right;\n",
       "    }\n",
       "</style>\n",
       "<table border=\"1\" class=\"dataframe\">\n",
       "  <thead>\n",
       "    <tr style=\"text-align: right;\">\n",
       "      <th></th>\n",
       "      <th>Z</th>\n",
       "      <th>E</th>\n",
       "      <th>D</th>\n",
       "      <th>C</th>\n",
       "      <th>B</th>\n",
       "      <th>A</th>\n",
       "    </tr>\n",
       "  </thead>\n",
       "  <tbody>\n",
       "    <tr>\n",
       "      <th>0</th>\n",
       "      <td>foo</td>\n",
       "      <td>test</td>\n",
       "      <td>3</td>\n",
       "      <td>1.0</td>\n",
       "      <td>2025-01-01</td>\n",
       "      <td>2.0</td>\n",
       "    </tr>\n",
       "    <tr>\n",
       "      <th>1</th>\n",
       "      <td>foo</td>\n",
       "      <td>train</td>\n",
       "      <td>4</td>\n",
       "      <td>1.0</td>\n",
       "      <td>2025-01-01</td>\n",
       "      <td>2.0</td>\n",
       "    </tr>\n",
       "    <tr>\n",
       "      <th>2</th>\n",
       "      <td>foo</td>\n",
       "      <td>test</td>\n",
       "      <td>5</td>\n",
       "      <td>1.0</td>\n",
       "      <td>2025-01-01</td>\n",
       "      <td>2.0</td>\n",
       "    </tr>\n",
       "    <tr>\n",
       "      <th>3</th>\n",
       "      <td>foo</td>\n",
       "      <td>train</td>\n",
       "      <td>6</td>\n",
       "      <td>1.0</td>\n",
       "      <td>2025-01-01</td>\n",
       "      <td>2.0</td>\n",
       "    </tr>\n",
       "    <tr>\n",
       "      <th>4</th>\n",
       "      <td>foo</td>\n",
       "      <td>test</td>\n",
       "      <td>11</td>\n",
       "      <td>1.0</td>\n",
       "      <td>2025-01-01</td>\n",
       "      <td>2.0</td>\n",
       "    </tr>\n",
       "    <tr>\n",
       "      <th>5</th>\n",
       "      <td>foo</td>\n",
       "      <td>train</td>\n",
       "      <td>15</td>\n",
       "      <td>1.0</td>\n",
       "      <td>2025-01-01</td>\n",
       "      <td>2.0</td>\n",
       "    </tr>\n",
       "    <tr>\n",
       "      <th>6</th>\n",
       "      <td>foo</td>\n",
       "      <td>test</td>\n",
       "      <td>20</td>\n",
       "      <td>1.0</td>\n",
       "      <td>2025-01-01</td>\n",
       "      <td>2.0</td>\n",
       "    </tr>\n",
       "    <tr>\n",
       "      <th>7</th>\n",
       "      <td>foo</td>\n",
       "      <td>train</td>\n",
       "      <td>25</td>\n",
       "      <td>1.0</td>\n",
       "      <td>2025-01-01</td>\n",
       "      <td>2.0</td>\n",
       "    </tr>\n",
       "  </tbody>\n",
       "</table>\n",
       "</div>"
      ]
     },
     "execution_count": 59,
     "metadata": {},
     "output_type": "execute_result"
    }
   ],
   "execution_count": 59
  },
  {
   "metadata": {
    "ExecuteTime": {
     "end_time": "2025-09-10T16:22:05.139464Z",
     "start_time": "2025-09-10T16:22:05.116428Z"
    }
   },
   "cell_type": "code",
   "source": [
    "df2.sort_values(by='D', ascending=True)\n",
    "df2.sort_values(by=['E','D'], ascending=False)"
   ],
   "id": "3deb24de23150053",
   "outputs": [
    {
     "data": {
      "text/plain": [
       "     A          B    C   D      E    Z\n",
       "7  2.0 2025-01-01  1.0  25  train  foo\n",
       "5  2.0 2025-01-01  1.0  15  train  foo\n",
       "3  2.0 2025-01-01  1.0   6  train  foo\n",
       "1  2.0 2025-01-01  1.0   4  train  foo\n",
       "6  2.0 2025-01-01  1.0  20   test  foo\n",
       "4  2.0 2025-01-01  1.0  11   test  foo\n",
       "2  2.0 2025-01-01  1.0   5   test  foo\n",
       "0  2.0 2025-01-01  1.0   3   test  foo"
      ],
      "text/html": [
       "<div>\n",
       "<style scoped>\n",
       "    .dataframe tbody tr th:only-of-type {\n",
       "        vertical-align: middle;\n",
       "    }\n",
       "\n",
       "    .dataframe tbody tr th {\n",
       "        vertical-align: top;\n",
       "    }\n",
       "\n",
       "    .dataframe thead th {\n",
       "        text-align: right;\n",
       "    }\n",
       "</style>\n",
       "<table border=\"1\" class=\"dataframe\">\n",
       "  <thead>\n",
       "    <tr style=\"text-align: right;\">\n",
       "      <th></th>\n",
       "      <th>A</th>\n",
       "      <th>B</th>\n",
       "      <th>C</th>\n",
       "      <th>D</th>\n",
       "      <th>E</th>\n",
       "      <th>Z</th>\n",
       "    </tr>\n",
       "  </thead>\n",
       "  <tbody>\n",
       "    <tr>\n",
       "      <th>7</th>\n",
       "      <td>2.0</td>\n",
       "      <td>2025-01-01</td>\n",
       "      <td>1.0</td>\n",
       "      <td>25</td>\n",
       "      <td>train</td>\n",
       "      <td>foo</td>\n",
       "    </tr>\n",
       "    <tr>\n",
       "      <th>5</th>\n",
       "      <td>2.0</td>\n",
       "      <td>2025-01-01</td>\n",
       "      <td>1.0</td>\n",
       "      <td>15</td>\n",
       "      <td>train</td>\n",
       "      <td>foo</td>\n",
       "    </tr>\n",
       "    <tr>\n",
       "      <th>3</th>\n",
       "      <td>2.0</td>\n",
       "      <td>2025-01-01</td>\n",
       "      <td>1.0</td>\n",
       "      <td>6</td>\n",
       "      <td>train</td>\n",
       "      <td>foo</td>\n",
       "    </tr>\n",
       "    <tr>\n",
       "      <th>1</th>\n",
       "      <td>2.0</td>\n",
       "      <td>2025-01-01</td>\n",
       "      <td>1.0</td>\n",
       "      <td>4</td>\n",
       "      <td>train</td>\n",
       "      <td>foo</td>\n",
       "    </tr>\n",
       "    <tr>\n",
       "      <th>6</th>\n",
       "      <td>2.0</td>\n",
       "      <td>2025-01-01</td>\n",
       "      <td>1.0</td>\n",
       "      <td>20</td>\n",
       "      <td>test</td>\n",
       "      <td>foo</td>\n",
       "    </tr>\n",
       "    <tr>\n",
       "      <th>4</th>\n",
       "      <td>2.0</td>\n",
       "      <td>2025-01-01</td>\n",
       "      <td>1.0</td>\n",
       "      <td>11</td>\n",
       "      <td>test</td>\n",
       "      <td>foo</td>\n",
       "    </tr>\n",
       "    <tr>\n",
       "      <th>2</th>\n",
       "      <td>2.0</td>\n",
       "      <td>2025-01-01</td>\n",
       "      <td>1.0</td>\n",
       "      <td>5</td>\n",
       "      <td>test</td>\n",
       "      <td>foo</td>\n",
       "    </tr>\n",
       "    <tr>\n",
       "      <th>0</th>\n",
       "      <td>2.0</td>\n",
       "      <td>2025-01-01</td>\n",
       "      <td>1.0</td>\n",
       "      <td>3</td>\n",
       "      <td>test</td>\n",
       "      <td>foo</td>\n",
       "    </tr>\n",
       "  </tbody>\n",
       "</table>\n",
       "</div>"
      ]
     },
     "execution_count": 66,
     "metadata": {},
     "output_type": "execute_result"
    }
   ],
   "execution_count": 66
  },
  {
   "metadata": {},
   "cell_type": "markdown",
   "source": "### Selection",
   "id": "7468f7083c9c93bb"
  },
  {
   "metadata": {},
   "cell_type": "markdown",
   "source": "#### GetItem([])",
   "id": "533389326ec33811"
  },
  {
   "metadata": {
    "ExecuteTime": {
     "end_time": "2025-09-10T16:46:29.646889Z",
     "start_time": "2025-09-10T16:46:29.636295Z"
    }
   },
   "cell_type": "code",
   "source": [
    "# GetItem([])\n",
    "df['A']"
   ],
   "id": "9d15ed4dcbe6ceb0",
   "outputs": [
    {
     "data": {
      "text/plain": [
       "2025-01-01   -0.485034\n",
       "2025-01-02    1.234250\n",
       "2025-01-03   -3.096719\n",
       "2025-01-04   -0.354393\n",
       "2025-01-05   -0.449488\n",
       "2025-01-06    1.685621\n",
       "Freq: D, Name: A, dtype: float64"
      ]
     },
     "execution_count": 67,
     "metadata": {},
     "output_type": "execute_result"
    }
   ],
   "execution_count": 67
  },
  {
   "metadata": {
    "ExecuteTime": {
     "end_time": "2025-09-10T16:47:40.100797Z",
     "start_time": "2025-09-10T16:47:40.086717Z"
    }
   },
   "cell_type": "code",
   "source": "df[0:3]",
   "id": "770cd6e313a3d063",
   "outputs": [
    {
     "data": {
      "text/plain": [
       "                   A         B         C         D\n",
       "2025-01-01 -0.485034  0.565759  1.020790  0.048231\n",
       "2025-01-02  1.234250 -0.017665 -2.565648  0.380577\n",
       "2025-01-03 -3.096719  0.117656  1.409707  0.996535"
      ],
      "text/html": [
       "<div>\n",
       "<style scoped>\n",
       "    .dataframe tbody tr th:only-of-type {\n",
       "        vertical-align: middle;\n",
       "    }\n",
       "\n",
       "    .dataframe tbody tr th {\n",
       "        vertical-align: top;\n",
       "    }\n",
       "\n",
       "    .dataframe thead th {\n",
       "        text-align: right;\n",
       "    }\n",
       "</style>\n",
       "<table border=\"1\" class=\"dataframe\">\n",
       "  <thead>\n",
       "    <tr style=\"text-align: right;\">\n",
       "      <th></th>\n",
       "      <th>A</th>\n",
       "      <th>B</th>\n",
       "      <th>C</th>\n",
       "      <th>D</th>\n",
       "    </tr>\n",
       "  </thead>\n",
       "  <tbody>\n",
       "    <tr>\n",
       "      <th>2025-01-01</th>\n",
       "      <td>-0.485034</td>\n",
       "      <td>0.565759</td>\n",
       "      <td>1.020790</td>\n",
       "      <td>0.048231</td>\n",
       "    </tr>\n",
       "    <tr>\n",
       "      <th>2025-01-02</th>\n",
       "      <td>1.234250</td>\n",
       "      <td>-0.017665</td>\n",
       "      <td>-2.565648</td>\n",
       "      <td>0.380577</td>\n",
       "    </tr>\n",
       "    <tr>\n",
       "      <th>2025-01-03</th>\n",
       "      <td>-3.096719</td>\n",
       "      <td>0.117656</td>\n",
       "      <td>1.409707</td>\n",
       "      <td>0.996535</td>\n",
       "    </tr>\n",
       "  </tbody>\n",
       "</table>\n",
       "</div>"
      ]
     },
     "execution_count": 71,
     "metadata": {},
     "output_type": "execute_result"
    }
   ],
   "execution_count": 71
  },
  {
   "metadata": {},
   "cell_type": "markdown",
   "source": "#### Selection by label",
   "id": "5f92f97ff80cddf6"
  },
  {
   "metadata": {
    "ExecuteTime": {
     "end_time": "2025-09-10T16:48:27.058900Z",
     "start_time": "2025-09-10T16:48:27.047321Z"
    }
   },
   "cell_type": "code",
   "source": [
    "# Selection by Label\n",
    "df.loc[dates[0]]"
   ],
   "id": "ac3fb30c4365b034",
   "outputs": [
    {
     "data": {
      "text/plain": [
       "A   -0.485034\n",
       "B    0.565759\n",
       "C    1.020790\n",
       "D    0.048231\n",
       "Name: 2025-01-01 00:00:00, dtype: float64"
      ]
     },
     "execution_count": 72,
     "metadata": {},
     "output_type": "execute_result"
    }
   ],
   "execution_count": 72
  },
  {
   "metadata": {
    "ExecuteTime": {
     "end_time": "2025-09-10T16:51:34.282771Z",
     "start_time": "2025-09-10T16:51:34.268492Z"
    }
   },
   "cell_type": "code",
   "source": "df.loc[:, ['A', 'B']]",
   "id": "66f527963693c4d1",
   "outputs": [
    {
     "data": {
      "text/plain": [
       "                   A         B\n",
       "2025-01-01 -0.485034  0.565759\n",
       "2025-01-02  1.234250 -0.017665\n",
       "2025-01-03 -3.096719  0.117656\n",
       "2025-01-04 -0.354393  1.490735\n",
       "2025-01-05 -0.449488 -1.597510\n",
       "2025-01-06  1.685621  0.513039"
      ],
      "text/html": [
       "<div>\n",
       "<style scoped>\n",
       "    .dataframe tbody tr th:only-of-type {\n",
       "        vertical-align: middle;\n",
       "    }\n",
       "\n",
       "    .dataframe tbody tr th {\n",
       "        vertical-align: top;\n",
       "    }\n",
       "\n",
       "    .dataframe thead th {\n",
       "        text-align: right;\n",
       "    }\n",
       "</style>\n",
       "<table border=\"1\" class=\"dataframe\">\n",
       "  <thead>\n",
       "    <tr style=\"text-align: right;\">\n",
       "      <th></th>\n",
       "      <th>A</th>\n",
       "      <th>B</th>\n",
       "    </tr>\n",
       "  </thead>\n",
       "  <tbody>\n",
       "    <tr>\n",
       "      <th>2025-01-01</th>\n",
       "      <td>-0.485034</td>\n",
       "      <td>0.565759</td>\n",
       "    </tr>\n",
       "    <tr>\n",
       "      <th>2025-01-02</th>\n",
       "      <td>1.234250</td>\n",
       "      <td>-0.017665</td>\n",
       "    </tr>\n",
       "    <tr>\n",
       "      <th>2025-01-03</th>\n",
       "      <td>-3.096719</td>\n",
       "      <td>0.117656</td>\n",
       "    </tr>\n",
       "    <tr>\n",
       "      <th>2025-01-04</th>\n",
       "      <td>-0.354393</td>\n",
       "      <td>1.490735</td>\n",
       "    </tr>\n",
       "    <tr>\n",
       "      <th>2025-01-05</th>\n",
       "      <td>-0.449488</td>\n",
       "      <td>-1.597510</td>\n",
       "    </tr>\n",
       "    <tr>\n",
       "      <th>2025-01-06</th>\n",
       "      <td>1.685621</td>\n",
       "      <td>0.513039</td>\n",
       "    </tr>\n",
       "  </tbody>\n",
       "</table>\n",
       "</div>"
      ]
     },
     "execution_count": 73,
     "metadata": {},
     "output_type": "execute_result"
    }
   ],
   "execution_count": 73
  },
  {
   "metadata": {
    "ExecuteTime": {
     "end_time": "2025-09-10T16:52:14.257424Z",
     "start_time": "2025-09-10T16:52:14.241058Z"
    }
   },
   "cell_type": "code",
   "source": "df.loc[\"20250102\":\"20250104\", [\"A\", \"B\"]]",
   "id": "176d2d5ede10a682",
   "outputs": [
    {
     "data": {
      "text/plain": [
       "                   A         B\n",
       "2025-01-02  1.234250 -0.017665\n",
       "2025-01-03 -3.096719  0.117656\n",
       "2025-01-04 -0.354393  1.490735"
      ],
      "text/html": [
       "<div>\n",
       "<style scoped>\n",
       "    .dataframe tbody tr th:only-of-type {\n",
       "        vertical-align: middle;\n",
       "    }\n",
       "\n",
       "    .dataframe tbody tr th {\n",
       "        vertical-align: top;\n",
       "    }\n",
       "\n",
       "    .dataframe thead th {\n",
       "        text-align: right;\n",
       "    }\n",
       "</style>\n",
       "<table border=\"1\" class=\"dataframe\">\n",
       "  <thead>\n",
       "    <tr style=\"text-align: right;\">\n",
       "      <th></th>\n",
       "      <th>A</th>\n",
       "      <th>B</th>\n",
       "    </tr>\n",
       "  </thead>\n",
       "  <tbody>\n",
       "    <tr>\n",
       "      <th>2025-01-02</th>\n",
       "      <td>1.234250</td>\n",
       "      <td>-0.017665</td>\n",
       "    </tr>\n",
       "    <tr>\n",
       "      <th>2025-01-03</th>\n",
       "      <td>-3.096719</td>\n",
       "      <td>0.117656</td>\n",
       "    </tr>\n",
       "    <tr>\n",
       "      <th>2025-01-04</th>\n",
       "      <td>-0.354393</td>\n",
       "      <td>1.490735</td>\n",
       "    </tr>\n",
       "  </tbody>\n",
       "</table>\n",
       "</div>"
      ]
     },
     "execution_count": 75,
     "metadata": {},
     "output_type": "execute_result"
    }
   ],
   "execution_count": 75
  },
  {
   "metadata": {
    "ExecuteTime": {
     "end_time": "2025-09-10T16:52:52.446809Z",
     "start_time": "2025-09-10T16:52:52.437234Z"
    }
   },
   "cell_type": "code",
   "source": "df.loc[dates[0], 'A']",
   "id": "b3886954e4139050",
   "outputs": [
    {
     "data": {
      "text/plain": [
       "np.float64(-0.485033599251505)"
      ]
     },
     "execution_count": 76,
     "metadata": {},
     "output_type": "execute_result"
    }
   ],
   "execution_count": 76
  },
  {
   "metadata": {},
   "cell_type": "markdown",
   "source": "#### Selection by position",
   "id": "9d2529e8f0d4efa9"
  },
  {
   "metadata": {
    "ExecuteTime": {
     "end_time": "2025-09-10T16:54:53.330740Z",
     "start_time": "2025-09-10T16:54:53.321924Z"
    }
   },
   "cell_type": "code",
   "source": "df.iloc[3]",
   "id": "a50127f572a58d56",
   "outputs": [
    {
     "data": {
      "text/plain": [
       "A   -0.354393\n",
       "B    1.490735\n",
       "C    1.790957\n",
       "D   -1.017048\n",
       "Name: 2025-01-04 00:00:00, dtype: float64"
      ]
     },
     "execution_count": 77,
     "metadata": {},
     "output_type": "execute_result"
    }
   ],
   "execution_count": 77
  },
  {
   "metadata": {
    "ExecuteTime": {
     "end_time": "2025-09-10T16:55:09.957991Z",
     "start_time": "2025-09-10T16:55:09.941421Z"
    }
   },
   "cell_type": "code",
   "source": "df.iloc[3:5, 0:2]",
   "id": "71402280b520f0d5",
   "outputs": [
    {
     "data": {
      "text/plain": [
       "                   A         B\n",
       "2025-01-04 -0.354393  1.490735\n",
       "2025-01-05 -0.449488 -1.597510"
      ],
      "text/html": [
       "<div>\n",
       "<style scoped>\n",
       "    .dataframe tbody tr th:only-of-type {\n",
       "        vertical-align: middle;\n",
       "    }\n",
       "\n",
       "    .dataframe tbody tr th {\n",
       "        vertical-align: top;\n",
       "    }\n",
       "\n",
       "    .dataframe thead th {\n",
       "        text-align: right;\n",
       "    }\n",
       "</style>\n",
       "<table border=\"1\" class=\"dataframe\">\n",
       "  <thead>\n",
       "    <tr style=\"text-align: right;\">\n",
       "      <th></th>\n",
       "      <th>A</th>\n",
       "      <th>B</th>\n",
       "    </tr>\n",
       "  </thead>\n",
       "  <tbody>\n",
       "    <tr>\n",
       "      <th>2025-01-04</th>\n",
       "      <td>-0.354393</td>\n",
       "      <td>1.490735</td>\n",
       "    </tr>\n",
       "    <tr>\n",
       "      <th>2025-01-05</th>\n",
       "      <td>-0.449488</td>\n",
       "      <td>-1.597510</td>\n",
       "    </tr>\n",
       "  </tbody>\n",
       "</table>\n",
       "</div>"
      ]
     },
     "execution_count": 78,
     "metadata": {},
     "output_type": "execute_result"
    }
   ],
   "execution_count": 78
  },
  {
   "metadata": {
    "ExecuteTime": {
     "end_time": "2025-09-10T16:55:36.600241Z",
     "start_time": "2025-09-10T16:55:36.587245Z"
    }
   },
   "cell_type": "code",
   "source": "df.iloc[[1, 2, 4], [0, 2]]",
   "id": "1e35b5de4b2b497d",
   "outputs": [
    {
     "data": {
      "text/plain": [
       "                   A         C\n",
       "2025-01-02  1.234250 -2.565648\n",
       "2025-01-03 -3.096719  1.409707\n",
       "2025-01-05 -0.449488 -1.110994"
      ],
      "text/html": [
       "<div>\n",
       "<style scoped>\n",
       "    .dataframe tbody tr th:only-of-type {\n",
       "        vertical-align: middle;\n",
       "    }\n",
       "\n",
       "    .dataframe tbody tr th {\n",
       "        vertical-align: top;\n",
       "    }\n",
       "\n",
       "    .dataframe thead th {\n",
       "        text-align: right;\n",
       "    }\n",
       "</style>\n",
       "<table border=\"1\" class=\"dataframe\">\n",
       "  <thead>\n",
       "    <tr style=\"text-align: right;\">\n",
       "      <th></th>\n",
       "      <th>A</th>\n",
       "      <th>C</th>\n",
       "    </tr>\n",
       "  </thead>\n",
       "  <tbody>\n",
       "    <tr>\n",
       "      <th>2025-01-02</th>\n",
       "      <td>1.234250</td>\n",
       "      <td>-2.565648</td>\n",
       "    </tr>\n",
       "    <tr>\n",
       "      <th>2025-01-03</th>\n",
       "      <td>-3.096719</td>\n",
       "      <td>1.409707</td>\n",
       "    </tr>\n",
       "    <tr>\n",
       "      <th>2025-01-05</th>\n",
       "      <td>-0.449488</td>\n",
       "      <td>-1.110994</td>\n",
       "    </tr>\n",
       "  </tbody>\n",
       "</table>\n",
       "</div>"
      ]
     },
     "execution_count": 79,
     "metadata": {},
     "output_type": "execute_result"
    }
   ],
   "execution_count": 79
  },
  {
   "metadata": {
    "ExecuteTime": {
     "end_time": "2025-09-10T16:56:12.551238Z",
     "start_time": "2025-09-10T16:56:12.536397Z"
    }
   },
   "cell_type": "code",
   "source": "df.iloc[1:3, :]",
   "id": "1e6accfefbe0ced1",
   "outputs": [
    {
     "data": {
      "text/plain": [
       "                   A         B         C         D\n",
       "2025-01-02  1.234250 -0.017665 -2.565648  0.380577\n",
       "2025-01-03 -3.096719  0.117656  1.409707  0.996535"
      ],
      "text/html": [
       "<div>\n",
       "<style scoped>\n",
       "    .dataframe tbody tr th:only-of-type {\n",
       "        vertical-align: middle;\n",
       "    }\n",
       "\n",
       "    .dataframe tbody tr th {\n",
       "        vertical-align: top;\n",
       "    }\n",
       "\n",
       "    .dataframe thead th {\n",
       "        text-align: right;\n",
       "    }\n",
       "</style>\n",
       "<table border=\"1\" class=\"dataframe\">\n",
       "  <thead>\n",
       "    <tr style=\"text-align: right;\">\n",
       "      <th></th>\n",
       "      <th>A</th>\n",
       "      <th>B</th>\n",
       "      <th>C</th>\n",
       "      <th>D</th>\n",
       "    </tr>\n",
       "  </thead>\n",
       "  <tbody>\n",
       "    <tr>\n",
       "      <th>2025-01-02</th>\n",
       "      <td>1.234250</td>\n",
       "      <td>-0.017665</td>\n",
       "      <td>-2.565648</td>\n",
       "      <td>0.380577</td>\n",
       "    </tr>\n",
       "    <tr>\n",
       "      <th>2025-01-03</th>\n",
       "      <td>-3.096719</td>\n",
       "      <td>0.117656</td>\n",
       "      <td>1.409707</td>\n",
       "      <td>0.996535</td>\n",
       "    </tr>\n",
       "  </tbody>\n",
       "</table>\n",
       "</div>"
      ]
     },
     "execution_count": 81,
     "metadata": {},
     "output_type": "execute_result"
    }
   ],
   "execution_count": 81
  },
  {
   "metadata": {
    "ExecuteTime": {
     "end_time": "2025-09-10T16:55:53.011356Z",
     "start_time": "2025-09-10T16:55:52.998266Z"
    }
   },
   "cell_type": "code",
   "source": "df.iloc[:, 1:3]",
   "id": "5afb1e44d08b472d",
   "outputs": [
    {
     "data": {
      "text/plain": [
       "                   B         C\n",
       "2025-01-01  0.565759  1.020790\n",
       "2025-01-02 -0.017665 -2.565648\n",
       "2025-01-03  0.117656  1.409707\n",
       "2025-01-04  1.490735  1.790957\n",
       "2025-01-05 -1.597510 -1.110994\n",
       "2025-01-06  0.513039  0.514706"
      ],
      "text/html": [
       "<div>\n",
       "<style scoped>\n",
       "    .dataframe tbody tr th:only-of-type {\n",
       "        vertical-align: middle;\n",
       "    }\n",
       "\n",
       "    .dataframe tbody tr th {\n",
       "        vertical-align: top;\n",
       "    }\n",
       "\n",
       "    .dataframe thead th {\n",
       "        text-align: right;\n",
       "    }\n",
       "</style>\n",
       "<table border=\"1\" class=\"dataframe\">\n",
       "  <thead>\n",
       "    <tr style=\"text-align: right;\">\n",
       "      <th></th>\n",
       "      <th>B</th>\n",
       "      <th>C</th>\n",
       "    </tr>\n",
       "  </thead>\n",
       "  <tbody>\n",
       "    <tr>\n",
       "      <th>2025-01-01</th>\n",
       "      <td>0.565759</td>\n",
       "      <td>1.020790</td>\n",
       "    </tr>\n",
       "    <tr>\n",
       "      <th>2025-01-02</th>\n",
       "      <td>-0.017665</td>\n",
       "      <td>-2.565648</td>\n",
       "    </tr>\n",
       "    <tr>\n",
       "      <th>2025-01-03</th>\n",
       "      <td>0.117656</td>\n",
       "      <td>1.409707</td>\n",
       "    </tr>\n",
       "    <tr>\n",
       "      <th>2025-01-04</th>\n",
       "      <td>1.490735</td>\n",
       "      <td>1.790957</td>\n",
       "    </tr>\n",
       "    <tr>\n",
       "      <th>2025-01-05</th>\n",
       "      <td>-1.597510</td>\n",
       "      <td>-1.110994</td>\n",
       "    </tr>\n",
       "    <tr>\n",
       "      <th>2025-01-06</th>\n",
       "      <td>0.513039</td>\n",
       "      <td>0.514706</td>\n",
       "    </tr>\n",
       "  </tbody>\n",
       "</table>\n",
       "</div>"
      ]
     },
     "execution_count": 80,
     "metadata": {},
     "output_type": "execute_result"
    }
   ],
   "execution_count": 80
  },
  {
   "metadata": {
    "ExecuteTime": {
     "end_time": "2025-09-10T16:56:26.613970Z",
     "start_time": "2025-09-10T16:56:26.603530Z"
    }
   },
   "cell_type": "code",
   "source": "df.iloc[2,2]",
   "id": "65574b1ab02b0d4b",
   "outputs": [
    {
     "data": {
      "text/plain": [
       "np.float64(1.4097074036551032)"
      ]
     },
     "execution_count": 82,
     "metadata": {},
     "output_type": "execute_result"
    }
   ],
   "execution_count": 82
  },
  {
   "metadata": {
    "ExecuteTime": {
     "end_time": "2025-09-10T16:56:40.011191Z",
     "start_time": "2025-09-10T16:56:40.002894Z"
    }
   },
   "cell_type": "code",
   "source": "df.iat[2,2]",
   "id": "d1c932aa297c6faa",
   "outputs": [
    {
     "data": {
      "text/plain": [
       "np.float64(1.4097074036551032)"
      ]
     },
     "execution_count": 83,
     "metadata": {},
     "output_type": "execute_result"
    }
   ],
   "execution_count": 83
  },
  {
   "metadata": {},
   "cell_type": "markdown",
   "source": "#### Boolean Indexing",
   "id": "4a305f09a4f93dc6"
  },
  {
   "metadata": {
    "ExecuteTime": {
     "end_time": "2025-09-10T17:00:37.507794Z",
     "start_time": "2025-09-10T17:00:37.494430Z"
    }
   },
   "cell_type": "code",
   "source": "df[df[\"A\"] > 0]",
   "id": "a248ddad94757930",
   "outputs": [
    {
     "data": {
      "text/plain": [
       "                   A         B         C         D\n",
       "2025-01-02  1.234250 -0.017665 -2.565648  0.380577\n",
       "2025-01-06  1.685621  0.513039  0.514706 -0.201411"
      ],
      "text/html": [
       "<div>\n",
       "<style scoped>\n",
       "    .dataframe tbody tr th:only-of-type {\n",
       "        vertical-align: middle;\n",
       "    }\n",
       "\n",
       "    .dataframe tbody tr th {\n",
       "        vertical-align: top;\n",
       "    }\n",
       "\n",
       "    .dataframe thead th {\n",
       "        text-align: right;\n",
       "    }\n",
       "</style>\n",
       "<table border=\"1\" class=\"dataframe\">\n",
       "  <thead>\n",
       "    <tr style=\"text-align: right;\">\n",
       "      <th></th>\n",
       "      <th>A</th>\n",
       "      <th>B</th>\n",
       "      <th>C</th>\n",
       "      <th>D</th>\n",
       "    </tr>\n",
       "  </thead>\n",
       "  <tbody>\n",
       "    <tr>\n",
       "      <th>2025-01-02</th>\n",
       "      <td>1.234250</td>\n",
       "      <td>-0.017665</td>\n",
       "      <td>-2.565648</td>\n",
       "      <td>0.380577</td>\n",
       "    </tr>\n",
       "    <tr>\n",
       "      <th>2025-01-06</th>\n",
       "      <td>1.685621</td>\n",
       "      <td>0.513039</td>\n",
       "      <td>0.514706</td>\n",
       "      <td>-0.201411</td>\n",
       "    </tr>\n",
       "  </tbody>\n",
       "</table>\n",
       "</div>"
      ]
     },
     "execution_count": 88,
     "metadata": {},
     "output_type": "execute_result"
    }
   ],
   "execution_count": 88
  },
  {
   "metadata": {
    "ExecuteTime": {
     "end_time": "2025-09-10T17:00:52.382481Z",
     "start_time": "2025-09-10T17:00:52.367795Z"
    }
   },
   "cell_type": "code",
   "source": "df[df > 0]",
   "id": "1276d50a4fae365d",
   "outputs": [
    {
     "data": {
      "text/plain": [
       "                   A         B         C         D\n",
       "2025-01-01       NaN  0.565759  1.020790  0.048231\n",
       "2025-01-02  1.234250       NaN       NaN  0.380577\n",
       "2025-01-03       NaN  0.117656  1.409707  0.996535\n",
       "2025-01-04       NaN  1.490735  1.790957       NaN\n",
       "2025-01-05       NaN       NaN       NaN  0.737309\n",
       "2025-01-06  1.685621  0.513039  0.514706       NaN"
      ],
      "text/html": [
       "<div>\n",
       "<style scoped>\n",
       "    .dataframe tbody tr th:only-of-type {\n",
       "        vertical-align: middle;\n",
       "    }\n",
       "\n",
       "    .dataframe tbody tr th {\n",
       "        vertical-align: top;\n",
       "    }\n",
       "\n",
       "    .dataframe thead th {\n",
       "        text-align: right;\n",
       "    }\n",
       "</style>\n",
       "<table border=\"1\" class=\"dataframe\">\n",
       "  <thead>\n",
       "    <tr style=\"text-align: right;\">\n",
       "      <th></th>\n",
       "      <th>A</th>\n",
       "      <th>B</th>\n",
       "      <th>C</th>\n",
       "      <th>D</th>\n",
       "    </tr>\n",
       "  </thead>\n",
       "  <tbody>\n",
       "    <tr>\n",
       "      <th>2025-01-01</th>\n",
       "      <td>NaN</td>\n",
       "      <td>0.565759</td>\n",
       "      <td>1.020790</td>\n",
       "      <td>0.048231</td>\n",
       "    </tr>\n",
       "    <tr>\n",
       "      <th>2025-01-02</th>\n",
       "      <td>1.234250</td>\n",
       "      <td>NaN</td>\n",
       "      <td>NaN</td>\n",
       "      <td>0.380577</td>\n",
       "    </tr>\n",
       "    <tr>\n",
       "      <th>2025-01-03</th>\n",
       "      <td>NaN</td>\n",
       "      <td>0.117656</td>\n",
       "      <td>1.409707</td>\n",
       "      <td>0.996535</td>\n",
       "    </tr>\n",
       "    <tr>\n",
       "      <th>2025-01-04</th>\n",
       "      <td>NaN</td>\n",
       "      <td>1.490735</td>\n",
       "      <td>1.790957</td>\n",
       "      <td>NaN</td>\n",
       "    </tr>\n",
       "    <tr>\n",
       "      <th>2025-01-05</th>\n",
       "      <td>NaN</td>\n",
       "      <td>NaN</td>\n",
       "      <td>NaN</td>\n",
       "      <td>0.737309</td>\n",
       "    </tr>\n",
       "    <tr>\n",
       "      <th>2025-01-06</th>\n",
       "      <td>1.685621</td>\n",
       "      <td>0.513039</td>\n",
       "      <td>0.514706</td>\n",
       "      <td>NaN</td>\n",
       "    </tr>\n",
       "  </tbody>\n",
       "</table>\n",
       "</div>"
      ]
     },
     "execution_count": 89,
     "metadata": {},
     "output_type": "execute_result"
    }
   ],
   "execution_count": 89
  },
  {
   "metadata": {
    "ExecuteTime": {
     "end_time": "2025-09-10T17:02:56.828285Z",
     "start_time": "2025-09-10T17:02:56.812168Z"
    }
   },
   "cell_type": "code",
   "source": [
    "df3 = df.copy()\n",
    "\n",
    "df3['E'] = [\"one\", \"two\", \"three\", \"four\", \"one\", \"four\"]\n",
    "df3"
   ],
   "id": "bd9043dc56cb3b40",
   "outputs": [
    {
     "data": {
      "text/plain": [
       "                   A         B         C         D      E\n",
       "2025-01-01 -0.485034  0.565759  1.020790  0.048231    one\n",
       "2025-01-02  1.234250 -0.017665 -2.565648  0.380577    two\n",
       "2025-01-03 -3.096719  0.117656  1.409707  0.996535  three\n",
       "2025-01-04 -0.354393  1.490735  1.790957 -1.017048   four\n",
       "2025-01-05 -0.449488 -1.597510 -1.110994  0.737309    one\n",
       "2025-01-06  1.685621  0.513039  0.514706 -0.201411   four"
      ],
      "text/html": [
       "<div>\n",
       "<style scoped>\n",
       "    .dataframe tbody tr th:only-of-type {\n",
       "        vertical-align: middle;\n",
       "    }\n",
       "\n",
       "    .dataframe tbody tr th {\n",
       "        vertical-align: top;\n",
       "    }\n",
       "\n",
       "    .dataframe thead th {\n",
       "        text-align: right;\n",
       "    }\n",
       "</style>\n",
       "<table border=\"1\" class=\"dataframe\">\n",
       "  <thead>\n",
       "    <tr style=\"text-align: right;\">\n",
       "      <th></th>\n",
       "      <th>A</th>\n",
       "      <th>B</th>\n",
       "      <th>C</th>\n",
       "      <th>D</th>\n",
       "      <th>E</th>\n",
       "    </tr>\n",
       "  </thead>\n",
       "  <tbody>\n",
       "    <tr>\n",
       "      <th>2025-01-01</th>\n",
       "      <td>-0.485034</td>\n",
       "      <td>0.565759</td>\n",
       "      <td>1.020790</td>\n",
       "      <td>0.048231</td>\n",
       "      <td>one</td>\n",
       "    </tr>\n",
       "    <tr>\n",
       "      <th>2025-01-02</th>\n",
       "      <td>1.234250</td>\n",
       "      <td>-0.017665</td>\n",
       "      <td>-2.565648</td>\n",
       "      <td>0.380577</td>\n",
       "      <td>two</td>\n",
       "    </tr>\n",
       "    <tr>\n",
       "      <th>2025-01-03</th>\n",
       "      <td>-3.096719</td>\n",
       "      <td>0.117656</td>\n",
       "      <td>1.409707</td>\n",
       "      <td>0.996535</td>\n",
       "      <td>three</td>\n",
       "    </tr>\n",
       "    <tr>\n",
       "      <th>2025-01-04</th>\n",
       "      <td>-0.354393</td>\n",
       "      <td>1.490735</td>\n",
       "      <td>1.790957</td>\n",
       "      <td>-1.017048</td>\n",
       "      <td>four</td>\n",
       "    </tr>\n",
       "    <tr>\n",
       "      <th>2025-01-05</th>\n",
       "      <td>-0.449488</td>\n",
       "      <td>-1.597510</td>\n",
       "      <td>-1.110994</td>\n",
       "      <td>0.737309</td>\n",
       "      <td>one</td>\n",
       "    </tr>\n",
       "    <tr>\n",
       "      <th>2025-01-06</th>\n",
       "      <td>1.685621</td>\n",
       "      <td>0.513039</td>\n",
       "      <td>0.514706</td>\n",
       "      <td>-0.201411</td>\n",
       "      <td>four</td>\n",
       "    </tr>\n",
       "  </tbody>\n",
       "</table>\n",
       "</div>"
      ]
     },
     "execution_count": 93,
     "metadata": {},
     "output_type": "execute_result"
    }
   ],
   "execution_count": 93
  },
  {
   "metadata": {
    "ExecuteTime": {
     "end_time": "2025-09-10T17:03:34.117053Z",
     "start_time": "2025-09-10T17:03:34.095245Z"
    }
   },
   "cell_type": "code",
   "source": "df3[df3['E'].isin(['one', 'four'])]",
   "id": "525d502056d53b89",
   "outputs": [
    {
     "data": {
      "text/plain": [
       "                   A         B         C         D     E\n",
       "2025-01-01 -0.485034  0.565759  1.020790  0.048231   one\n",
       "2025-01-04 -0.354393  1.490735  1.790957 -1.017048  four\n",
       "2025-01-05 -0.449488 -1.597510 -1.110994  0.737309   one\n",
       "2025-01-06  1.685621  0.513039  0.514706 -0.201411  four"
      ],
      "text/html": [
       "<div>\n",
       "<style scoped>\n",
       "    .dataframe tbody tr th:only-of-type {\n",
       "        vertical-align: middle;\n",
       "    }\n",
       "\n",
       "    .dataframe tbody tr th {\n",
       "        vertical-align: top;\n",
       "    }\n",
       "\n",
       "    .dataframe thead th {\n",
       "        text-align: right;\n",
       "    }\n",
       "</style>\n",
       "<table border=\"1\" class=\"dataframe\">\n",
       "  <thead>\n",
       "    <tr style=\"text-align: right;\">\n",
       "      <th></th>\n",
       "      <th>A</th>\n",
       "      <th>B</th>\n",
       "      <th>C</th>\n",
       "      <th>D</th>\n",
       "      <th>E</th>\n",
       "    </tr>\n",
       "  </thead>\n",
       "  <tbody>\n",
       "    <tr>\n",
       "      <th>2025-01-01</th>\n",
       "      <td>-0.485034</td>\n",
       "      <td>0.565759</td>\n",
       "      <td>1.020790</td>\n",
       "      <td>0.048231</td>\n",
       "      <td>one</td>\n",
       "    </tr>\n",
       "    <tr>\n",
       "      <th>2025-01-04</th>\n",
       "      <td>-0.354393</td>\n",
       "      <td>1.490735</td>\n",
       "      <td>1.790957</td>\n",
       "      <td>-1.017048</td>\n",
       "      <td>four</td>\n",
       "    </tr>\n",
       "    <tr>\n",
       "      <th>2025-01-05</th>\n",
       "      <td>-0.449488</td>\n",
       "      <td>-1.597510</td>\n",
       "      <td>-1.110994</td>\n",
       "      <td>0.737309</td>\n",
       "      <td>one</td>\n",
       "    </tr>\n",
       "    <tr>\n",
       "      <th>2025-01-06</th>\n",
       "      <td>1.685621</td>\n",
       "      <td>0.513039</td>\n",
       "      <td>0.514706</td>\n",
       "      <td>-0.201411</td>\n",
       "      <td>four</td>\n",
       "    </tr>\n",
       "  </tbody>\n",
       "</table>\n",
       "</div>"
      ]
     },
     "execution_count": 94,
     "metadata": {},
     "output_type": "execute_result"
    }
   ],
   "execution_count": 94
  },
  {
   "metadata": {},
   "cell_type": "markdown",
   "source": "#### Setting",
   "id": "c4f84696218836e7"
  },
  {
   "metadata": {
    "ExecuteTime": {
     "end_time": "2025-09-10T17:07:52.087548Z",
     "start_time": "2025-09-10T17:07:52.076908Z"
    }
   },
   "cell_type": "code",
   "source": [
    "s1 = pd.Series([1,2,3,4,5,6], index=pd.date_range(\"20250102\", periods=6))\n",
    "s1"
   ],
   "id": "a0cd4d072a75a4e9",
   "outputs": [
    {
     "data": {
      "text/plain": [
       "2025-01-02    1\n",
       "2025-01-03    2\n",
       "2025-01-04    3\n",
       "2025-01-05    4\n",
       "2025-01-06    5\n",
       "2025-01-07    6\n",
       "Freq: D, dtype: int64"
      ]
     },
     "execution_count": 96,
     "metadata": {},
     "output_type": "execute_result"
    }
   ],
   "execution_count": 96
  },
  {
   "metadata": {
    "ExecuteTime": {
     "end_time": "2025-09-10T17:07:55.208330Z",
     "start_time": "2025-09-10T17:07:55.188383Z"
    }
   },
   "cell_type": "code",
   "source": [
    "df['F'] = s1\n",
    "df"
   ],
   "id": "41b231f90ddd3bea",
   "outputs": [
    {
     "data": {
      "text/plain": [
       "                   A         B         C         D    F\n",
       "2025-01-01 -0.485034  0.565759  1.020790  0.048231  NaN\n",
       "2025-01-02  1.234250 -0.017665 -2.565648  0.380577  1.0\n",
       "2025-01-03 -3.096719  0.117656  1.409707  0.996535  2.0\n",
       "2025-01-04 -0.354393  1.490735  1.790957 -1.017048  3.0\n",
       "2025-01-05 -0.449488 -1.597510 -1.110994  0.737309  4.0\n",
       "2025-01-06  1.685621  0.513039  0.514706 -0.201411  5.0"
      ],
      "text/html": [
       "<div>\n",
       "<style scoped>\n",
       "    .dataframe tbody tr th:only-of-type {\n",
       "        vertical-align: middle;\n",
       "    }\n",
       "\n",
       "    .dataframe tbody tr th {\n",
       "        vertical-align: top;\n",
       "    }\n",
       "\n",
       "    .dataframe thead th {\n",
       "        text-align: right;\n",
       "    }\n",
       "</style>\n",
       "<table border=\"1\" class=\"dataframe\">\n",
       "  <thead>\n",
       "    <tr style=\"text-align: right;\">\n",
       "      <th></th>\n",
       "      <th>A</th>\n",
       "      <th>B</th>\n",
       "      <th>C</th>\n",
       "      <th>D</th>\n",
       "      <th>F</th>\n",
       "    </tr>\n",
       "  </thead>\n",
       "  <tbody>\n",
       "    <tr>\n",
       "      <th>2025-01-01</th>\n",
       "      <td>-0.485034</td>\n",
       "      <td>0.565759</td>\n",
       "      <td>1.020790</td>\n",
       "      <td>0.048231</td>\n",
       "      <td>NaN</td>\n",
       "    </tr>\n",
       "    <tr>\n",
       "      <th>2025-01-02</th>\n",
       "      <td>1.234250</td>\n",
       "      <td>-0.017665</td>\n",
       "      <td>-2.565648</td>\n",
       "      <td>0.380577</td>\n",
       "      <td>1.0</td>\n",
       "    </tr>\n",
       "    <tr>\n",
       "      <th>2025-01-03</th>\n",
       "      <td>-3.096719</td>\n",
       "      <td>0.117656</td>\n",
       "      <td>1.409707</td>\n",
       "      <td>0.996535</td>\n",
       "      <td>2.0</td>\n",
       "    </tr>\n",
       "    <tr>\n",
       "      <th>2025-01-04</th>\n",
       "      <td>-0.354393</td>\n",
       "      <td>1.490735</td>\n",
       "      <td>1.790957</td>\n",
       "      <td>-1.017048</td>\n",
       "      <td>3.0</td>\n",
       "    </tr>\n",
       "    <tr>\n",
       "      <th>2025-01-05</th>\n",
       "      <td>-0.449488</td>\n",
       "      <td>-1.597510</td>\n",
       "      <td>-1.110994</td>\n",
       "      <td>0.737309</td>\n",
       "      <td>4.0</td>\n",
       "    </tr>\n",
       "    <tr>\n",
       "      <th>2025-01-06</th>\n",
       "      <td>1.685621</td>\n",
       "      <td>0.513039</td>\n",
       "      <td>0.514706</td>\n",
       "      <td>-0.201411</td>\n",
       "      <td>5.0</td>\n",
       "    </tr>\n",
       "  </tbody>\n",
       "</table>\n",
       "</div>"
      ]
     },
     "execution_count": 97,
     "metadata": {},
     "output_type": "execute_result"
    }
   ],
   "execution_count": 97
  },
  {
   "metadata": {
    "ExecuteTime": {
     "end_time": "2025-09-10T17:14:38.260771Z",
     "start_time": "2025-09-10T17:14:38.243424Z"
    }
   },
   "cell_type": "code",
   "source": [
    "df.at[dates[0], 'A'] = 0\n",
    "df"
   ],
   "id": "f76fc65402453134",
   "outputs": [
    {
     "data": {
      "text/plain": [
       "                   A         B         C         D    F\n",
       "2025-01-01  0.000000  0.000000  1.020790  0.048231  NaN\n",
       "2025-01-02  0.000000 -0.017665 -2.565648  0.380577  1.0\n",
       "2025-01-03 -3.096719  0.117656  1.409707  0.996535  2.0\n",
       "2025-01-04 -0.354393  1.490735  1.790957 -1.017048  3.0\n",
       "2025-01-05 -0.449488 -1.597510 -1.110994  0.737309  4.0\n",
       "2025-01-06  1.685621  0.513039  0.514706 -0.201411  5.0"
      ],
      "text/html": [
       "<div>\n",
       "<style scoped>\n",
       "    .dataframe tbody tr th:only-of-type {\n",
       "        vertical-align: middle;\n",
       "    }\n",
       "\n",
       "    .dataframe tbody tr th {\n",
       "        vertical-align: top;\n",
       "    }\n",
       "\n",
       "    .dataframe thead th {\n",
       "        text-align: right;\n",
       "    }\n",
       "</style>\n",
       "<table border=\"1\" class=\"dataframe\">\n",
       "  <thead>\n",
       "    <tr style=\"text-align: right;\">\n",
       "      <th></th>\n",
       "      <th>A</th>\n",
       "      <th>B</th>\n",
       "      <th>C</th>\n",
       "      <th>D</th>\n",
       "      <th>F</th>\n",
       "    </tr>\n",
       "  </thead>\n",
       "  <tbody>\n",
       "    <tr>\n",
       "      <th>2025-01-01</th>\n",
       "      <td>0.000000</td>\n",
       "      <td>0.000000</td>\n",
       "      <td>1.020790</td>\n",
       "      <td>0.048231</td>\n",
       "      <td>NaN</td>\n",
       "    </tr>\n",
       "    <tr>\n",
       "      <th>2025-01-02</th>\n",
       "      <td>0.000000</td>\n",
       "      <td>-0.017665</td>\n",
       "      <td>-2.565648</td>\n",
       "      <td>0.380577</td>\n",
       "      <td>1.0</td>\n",
       "    </tr>\n",
       "    <tr>\n",
       "      <th>2025-01-03</th>\n",
       "      <td>-3.096719</td>\n",
       "      <td>0.117656</td>\n",
       "      <td>1.409707</td>\n",
       "      <td>0.996535</td>\n",
       "      <td>2.0</td>\n",
       "    </tr>\n",
       "    <tr>\n",
       "      <th>2025-01-04</th>\n",
       "      <td>-0.354393</td>\n",
       "      <td>1.490735</td>\n",
       "      <td>1.790957</td>\n",
       "      <td>-1.017048</td>\n",
       "      <td>3.0</td>\n",
       "    </tr>\n",
       "    <tr>\n",
       "      <th>2025-01-05</th>\n",
       "      <td>-0.449488</td>\n",
       "      <td>-1.597510</td>\n",
       "      <td>-1.110994</td>\n",
       "      <td>0.737309</td>\n",
       "      <td>4.0</td>\n",
       "    </tr>\n",
       "    <tr>\n",
       "      <th>2025-01-06</th>\n",
       "      <td>1.685621</td>\n",
       "      <td>0.513039</td>\n",
       "      <td>0.514706</td>\n",
       "      <td>-0.201411</td>\n",
       "      <td>5.0</td>\n",
       "    </tr>\n",
       "  </tbody>\n",
       "</table>\n",
       "</div>"
      ]
     },
     "execution_count": 107,
     "metadata": {},
     "output_type": "execute_result"
    }
   ],
   "execution_count": 107
  },
  {
   "metadata": {
    "ExecuteTime": {
     "end_time": "2025-09-10T17:14:27.993811Z",
     "start_time": "2025-09-10T17:14:27.978165Z"
    }
   },
   "cell_type": "code",
   "source": [
    "df.iat[0, 1] = 0\n",
    "df"
   ],
   "id": "c5c11656e0b68b1b",
   "outputs": [
    {
     "data": {
      "text/plain": [
       "                   A         B         C         D    F\n",
       "2025-01-01  0.000000  0.000000  1.020790  0.048231  NaN\n",
       "2025-01-02  0.000000 -0.017665 -2.565648  0.380577  1.0\n",
       "2025-01-03 -3.096719  0.117656  1.409707  0.996535  2.0\n",
       "2025-01-04 -0.354393  1.490735  1.790957 -1.017048  3.0\n",
       "2025-01-05 -0.449488 -1.597510 -1.110994  0.737309  4.0\n",
       "2025-01-06  1.685621  0.513039  0.514706 -0.201411  5.0"
      ],
      "text/html": [
       "<div>\n",
       "<style scoped>\n",
       "    .dataframe tbody tr th:only-of-type {\n",
       "        vertical-align: middle;\n",
       "    }\n",
       "\n",
       "    .dataframe tbody tr th {\n",
       "        vertical-align: top;\n",
       "    }\n",
       "\n",
       "    .dataframe thead th {\n",
       "        text-align: right;\n",
       "    }\n",
       "</style>\n",
       "<table border=\"1\" class=\"dataframe\">\n",
       "  <thead>\n",
       "    <tr style=\"text-align: right;\">\n",
       "      <th></th>\n",
       "      <th>A</th>\n",
       "      <th>B</th>\n",
       "      <th>C</th>\n",
       "      <th>D</th>\n",
       "      <th>F</th>\n",
       "    </tr>\n",
       "  </thead>\n",
       "  <tbody>\n",
       "    <tr>\n",
       "      <th>2025-01-01</th>\n",
       "      <td>0.000000</td>\n",
       "      <td>0.000000</td>\n",
       "      <td>1.020790</td>\n",
       "      <td>0.048231</td>\n",
       "      <td>NaN</td>\n",
       "    </tr>\n",
       "    <tr>\n",
       "      <th>2025-01-02</th>\n",
       "      <td>0.000000</td>\n",
       "      <td>-0.017665</td>\n",
       "      <td>-2.565648</td>\n",
       "      <td>0.380577</td>\n",
       "      <td>1.0</td>\n",
       "    </tr>\n",
       "    <tr>\n",
       "      <th>2025-01-03</th>\n",
       "      <td>-3.096719</td>\n",
       "      <td>0.117656</td>\n",
       "      <td>1.409707</td>\n",
       "      <td>0.996535</td>\n",
       "      <td>2.0</td>\n",
       "    </tr>\n",
       "    <tr>\n",
       "      <th>2025-01-04</th>\n",
       "      <td>-0.354393</td>\n",
       "      <td>1.490735</td>\n",
       "      <td>1.790957</td>\n",
       "      <td>-1.017048</td>\n",
       "      <td>3.0</td>\n",
       "    </tr>\n",
       "    <tr>\n",
       "      <th>2025-01-05</th>\n",
       "      <td>-0.449488</td>\n",
       "      <td>-1.597510</td>\n",
       "      <td>-1.110994</td>\n",
       "      <td>0.737309</td>\n",
       "      <td>4.0</td>\n",
       "    </tr>\n",
       "    <tr>\n",
       "      <th>2025-01-06</th>\n",
       "      <td>1.685621</td>\n",
       "      <td>0.513039</td>\n",
       "      <td>0.514706</td>\n",
       "      <td>-0.201411</td>\n",
       "      <td>5.0</td>\n",
       "    </tr>\n",
       "  </tbody>\n",
       "</table>\n",
       "</div>"
      ]
     },
     "execution_count": 106,
     "metadata": {},
     "output_type": "execute_result"
    }
   ],
   "execution_count": 106
  },
  {
   "metadata": {
    "ExecuteTime": {
     "end_time": "2025-09-10T17:16:21.881125Z",
     "start_time": "2025-09-10T17:16:21.863910Z"
    }
   },
   "cell_type": "code",
   "source": [
    "df.loc[:, \"D\"] = np.array([5] * len(df))\n",
    "df"
   ],
   "id": "ce222de700375366",
   "outputs": [
    {
     "data": {
      "text/plain": [
       "                   A         B         C    D    F\n",
       "2025-01-01  0.000000  0.000000  1.020790  5.0  NaN\n",
       "2025-01-02  0.000000 -0.017665 -2.565648  5.0  1.0\n",
       "2025-01-03 -3.096719  0.117656  1.409707  5.0  2.0\n",
       "2025-01-04 -0.354393  1.490735  1.790957  5.0  3.0\n",
       "2025-01-05 -0.449488 -1.597510 -1.110994  5.0  4.0\n",
       "2025-01-06  1.685621  0.513039  0.514706  5.0  5.0"
      ],
      "text/html": [
       "<div>\n",
       "<style scoped>\n",
       "    .dataframe tbody tr th:only-of-type {\n",
       "        vertical-align: middle;\n",
       "    }\n",
       "\n",
       "    .dataframe tbody tr th {\n",
       "        vertical-align: top;\n",
       "    }\n",
       "\n",
       "    .dataframe thead th {\n",
       "        text-align: right;\n",
       "    }\n",
       "</style>\n",
       "<table border=\"1\" class=\"dataframe\">\n",
       "  <thead>\n",
       "    <tr style=\"text-align: right;\">\n",
       "      <th></th>\n",
       "      <th>A</th>\n",
       "      <th>B</th>\n",
       "      <th>C</th>\n",
       "      <th>D</th>\n",
       "      <th>F</th>\n",
       "    </tr>\n",
       "  </thead>\n",
       "  <tbody>\n",
       "    <tr>\n",
       "      <th>2025-01-01</th>\n",
       "      <td>0.000000</td>\n",
       "      <td>0.000000</td>\n",
       "      <td>1.020790</td>\n",
       "      <td>5.0</td>\n",
       "      <td>NaN</td>\n",
       "    </tr>\n",
       "    <tr>\n",
       "      <th>2025-01-02</th>\n",
       "      <td>0.000000</td>\n",
       "      <td>-0.017665</td>\n",
       "      <td>-2.565648</td>\n",
       "      <td>5.0</td>\n",
       "      <td>1.0</td>\n",
       "    </tr>\n",
       "    <tr>\n",
       "      <th>2025-01-03</th>\n",
       "      <td>-3.096719</td>\n",
       "      <td>0.117656</td>\n",
       "      <td>1.409707</td>\n",
       "      <td>5.0</td>\n",
       "      <td>2.0</td>\n",
       "    </tr>\n",
       "    <tr>\n",
       "      <th>2025-01-04</th>\n",
       "      <td>-0.354393</td>\n",
       "      <td>1.490735</td>\n",
       "      <td>1.790957</td>\n",
       "      <td>5.0</td>\n",
       "      <td>3.0</td>\n",
       "    </tr>\n",
       "    <tr>\n",
       "      <th>2025-01-05</th>\n",
       "      <td>-0.449488</td>\n",
       "      <td>-1.597510</td>\n",
       "      <td>-1.110994</td>\n",
       "      <td>5.0</td>\n",
       "      <td>4.0</td>\n",
       "    </tr>\n",
       "    <tr>\n",
       "      <th>2025-01-06</th>\n",
       "      <td>1.685621</td>\n",
       "      <td>0.513039</td>\n",
       "      <td>0.514706</td>\n",
       "      <td>5.0</td>\n",
       "      <td>5.0</td>\n",
       "    </tr>\n",
       "  </tbody>\n",
       "</table>\n",
       "</div>"
      ]
     },
     "execution_count": 109,
     "metadata": {},
     "output_type": "execute_result"
    }
   ],
   "execution_count": 109
  },
  {
   "metadata": {
    "ExecuteTime": {
     "end_time": "2025-09-10T17:20:49.798363Z",
     "start_time": "2025-09-10T17:20:49.780990Z"
    }
   },
   "cell_type": "code",
   "source": [
    "df4 = df.copy()\n",
    "df4[df4 > 0] = -df4\n",
    "df4"
   ],
   "id": "64810f57cbba0a54",
   "outputs": [
    {
     "data": {
      "text/plain": [
       "                   A         B         C    D    F\n",
       "2025-01-01  0.000000  0.000000 -1.020790 -5.0  NaN\n",
       "2025-01-02  0.000000 -0.017665 -2.565648 -5.0 -1.0\n",
       "2025-01-03 -3.096719 -0.117656 -1.409707 -5.0 -2.0\n",
       "2025-01-04 -0.354393 -1.490735 -1.790957 -5.0 -3.0\n",
       "2025-01-05 -0.449488 -1.597510 -1.110994 -5.0 -4.0\n",
       "2025-01-06 -1.685621 -0.513039 -0.514706 -5.0 -5.0"
      ],
      "text/html": [
       "<div>\n",
       "<style scoped>\n",
       "    .dataframe tbody tr th:only-of-type {\n",
       "        vertical-align: middle;\n",
       "    }\n",
       "\n",
       "    .dataframe tbody tr th {\n",
       "        vertical-align: top;\n",
       "    }\n",
       "\n",
       "    .dataframe thead th {\n",
       "        text-align: right;\n",
       "    }\n",
       "</style>\n",
       "<table border=\"1\" class=\"dataframe\">\n",
       "  <thead>\n",
       "    <tr style=\"text-align: right;\">\n",
       "      <th></th>\n",
       "      <th>A</th>\n",
       "      <th>B</th>\n",
       "      <th>C</th>\n",
       "      <th>D</th>\n",
       "      <th>F</th>\n",
       "    </tr>\n",
       "  </thead>\n",
       "  <tbody>\n",
       "    <tr>\n",
       "      <th>2025-01-01</th>\n",
       "      <td>0.000000</td>\n",
       "      <td>0.000000</td>\n",
       "      <td>-1.020790</td>\n",
       "      <td>-5.0</td>\n",
       "      <td>NaN</td>\n",
       "    </tr>\n",
       "    <tr>\n",
       "      <th>2025-01-02</th>\n",
       "      <td>0.000000</td>\n",
       "      <td>-0.017665</td>\n",
       "      <td>-2.565648</td>\n",
       "      <td>-5.0</td>\n",
       "      <td>-1.0</td>\n",
       "    </tr>\n",
       "    <tr>\n",
       "      <th>2025-01-03</th>\n",
       "      <td>-3.096719</td>\n",
       "      <td>-0.117656</td>\n",
       "      <td>-1.409707</td>\n",
       "      <td>-5.0</td>\n",
       "      <td>-2.0</td>\n",
       "    </tr>\n",
       "    <tr>\n",
       "      <th>2025-01-04</th>\n",
       "      <td>-0.354393</td>\n",
       "      <td>-1.490735</td>\n",
       "      <td>-1.790957</td>\n",
       "      <td>-5.0</td>\n",
       "      <td>-3.0</td>\n",
       "    </tr>\n",
       "    <tr>\n",
       "      <th>2025-01-05</th>\n",
       "      <td>-0.449488</td>\n",
       "      <td>-1.597510</td>\n",
       "      <td>-1.110994</td>\n",
       "      <td>-5.0</td>\n",
       "      <td>-4.0</td>\n",
       "    </tr>\n",
       "    <tr>\n",
       "      <th>2025-01-06</th>\n",
       "      <td>-1.685621</td>\n",
       "      <td>-0.513039</td>\n",
       "      <td>-0.514706</td>\n",
       "      <td>-5.0</td>\n",
       "      <td>-5.0</td>\n",
       "    </tr>\n",
       "  </tbody>\n",
       "</table>\n",
       "</div>"
      ]
     },
     "execution_count": 113,
     "metadata": {},
     "output_type": "execute_result"
    }
   ],
   "execution_count": 113
  },
  {
   "metadata": {},
   "cell_type": "markdown",
   "source": "### Missing Data",
   "id": "eb870ebeee4bf1c1"
  },
  {
   "metadata": {
    "ExecuteTime": {
     "end_time": "2025-09-10T17:24:53.772070Z",
     "start_time": "2025-09-10T17:24:53.750385Z"
    }
   },
   "cell_type": "code",
   "source": [
    "df_ = df.reindex(index=dates[0:4], columns=list(df.columns) + [\"E\"])\n",
    "df_.loc[dates[0] : dates[1], \"E\"] = 1\n",
    "df_"
   ],
   "id": "1d0144c46eda3061",
   "outputs": [
    {
     "data": {
      "text/plain": [
       "                   A         B         C    D    F    E\n",
       "2025-01-01  0.000000  0.000000  1.020790  5.0  NaN  1.0\n",
       "2025-01-02  0.000000 -0.017665 -2.565648  5.0  1.0  1.0\n",
       "2025-01-03 -3.096719  0.117656  1.409707  5.0  2.0  NaN\n",
       "2025-01-04 -0.354393  1.490735  1.790957  5.0  3.0  NaN"
      ],
      "text/html": [
       "<div>\n",
       "<style scoped>\n",
       "    .dataframe tbody tr th:only-of-type {\n",
       "        vertical-align: middle;\n",
       "    }\n",
       "\n",
       "    .dataframe tbody tr th {\n",
       "        vertical-align: top;\n",
       "    }\n",
       "\n",
       "    .dataframe thead th {\n",
       "        text-align: right;\n",
       "    }\n",
       "</style>\n",
       "<table border=\"1\" class=\"dataframe\">\n",
       "  <thead>\n",
       "    <tr style=\"text-align: right;\">\n",
       "      <th></th>\n",
       "      <th>A</th>\n",
       "      <th>B</th>\n",
       "      <th>C</th>\n",
       "      <th>D</th>\n",
       "      <th>F</th>\n",
       "      <th>E</th>\n",
       "    </tr>\n",
       "  </thead>\n",
       "  <tbody>\n",
       "    <tr>\n",
       "      <th>2025-01-01</th>\n",
       "      <td>0.000000</td>\n",
       "      <td>0.000000</td>\n",
       "      <td>1.020790</td>\n",
       "      <td>5.0</td>\n",
       "      <td>NaN</td>\n",
       "      <td>1.0</td>\n",
       "    </tr>\n",
       "    <tr>\n",
       "      <th>2025-01-02</th>\n",
       "      <td>0.000000</td>\n",
       "      <td>-0.017665</td>\n",
       "      <td>-2.565648</td>\n",
       "      <td>5.0</td>\n",
       "      <td>1.0</td>\n",
       "      <td>1.0</td>\n",
       "    </tr>\n",
       "    <tr>\n",
       "      <th>2025-01-03</th>\n",
       "      <td>-3.096719</td>\n",
       "      <td>0.117656</td>\n",
       "      <td>1.409707</td>\n",
       "      <td>5.0</td>\n",
       "      <td>2.0</td>\n",
       "      <td>NaN</td>\n",
       "    </tr>\n",
       "    <tr>\n",
       "      <th>2025-01-04</th>\n",
       "      <td>-0.354393</td>\n",
       "      <td>1.490735</td>\n",
       "      <td>1.790957</td>\n",
       "      <td>5.0</td>\n",
       "      <td>3.0</td>\n",
       "      <td>NaN</td>\n",
       "    </tr>\n",
       "  </tbody>\n",
       "</table>\n",
       "</div>"
      ]
     },
     "execution_count": 120,
     "metadata": {},
     "output_type": "execute_result"
    }
   ],
   "execution_count": 120
  },
  {
   "metadata": {
    "ExecuteTime": {
     "end_time": "2025-09-10T17:23:55.534178Z",
     "start_time": "2025-09-10T17:23:55.517848Z"
    }
   },
   "cell_type": "code",
   "source": "df_.dropna(how='any')",
   "id": "5e2bc0c5e963b609",
   "outputs": [
    {
     "data": {
      "text/plain": [
       "              A         B         C    D    F    E\n",
       "2025-01-02  0.0 -0.017665 -2.565648  5.0  1.0  1.0"
      ],
      "text/html": [
       "<div>\n",
       "<style scoped>\n",
       "    .dataframe tbody tr th:only-of-type {\n",
       "        vertical-align: middle;\n",
       "    }\n",
       "\n",
       "    .dataframe tbody tr th {\n",
       "        vertical-align: top;\n",
       "    }\n",
       "\n",
       "    .dataframe thead th {\n",
       "        text-align: right;\n",
       "    }\n",
       "</style>\n",
       "<table border=\"1\" class=\"dataframe\">\n",
       "  <thead>\n",
       "    <tr style=\"text-align: right;\">\n",
       "      <th></th>\n",
       "      <th>A</th>\n",
       "      <th>B</th>\n",
       "      <th>C</th>\n",
       "      <th>D</th>\n",
       "      <th>F</th>\n",
       "      <th>E</th>\n",
       "    </tr>\n",
       "  </thead>\n",
       "  <tbody>\n",
       "    <tr>\n",
       "      <th>2025-01-02</th>\n",
       "      <td>0.0</td>\n",
       "      <td>-0.017665</td>\n",
       "      <td>-2.565648</td>\n",
       "      <td>5.0</td>\n",
       "      <td>1.0</td>\n",
       "      <td>1.0</td>\n",
       "    </tr>\n",
       "  </tbody>\n",
       "</table>\n",
       "</div>"
      ]
     },
     "execution_count": 117,
     "metadata": {},
     "output_type": "execute_result"
    }
   ],
   "execution_count": 117
  },
  {
   "metadata": {
    "ExecuteTime": {
     "end_time": "2025-09-10T17:24:16.255394Z",
     "start_time": "2025-09-10T17:24:16.237697Z"
    }
   },
   "cell_type": "code",
   "source": "df_.fillna(value=5)",
   "id": "904d50603f891485",
   "outputs": [
    {
     "data": {
      "text/plain": [
       "                   A         B         C    D    F    E\n",
       "2025-01-01  0.000000  0.000000  1.020790  5.0  5.0  1.0\n",
       "2025-01-02  0.000000 -0.017665 -2.565648  5.0  1.0  1.0\n",
       "2025-01-03 -3.096719  0.117656  1.409707  5.0  2.0  5.0\n",
       "2025-01-04 -0.354393  1.490735  1.790957  5.0  3.0  5.0"
      ],
      "text/html": [
       "<div>\n",
       "<style scoped>\n",
       "    .dataframe tbody tr th:only-of-type {\n",
       "        vertical-align: middle;\n",
       "    }\n",
       "\n",
       "    .dataframe tbody tr th {\n",
       "        vertical-align: top;\n",
       "    }\n",
       "\n",
       "    .dataframe thead th {\n",
       "        text-align: right;\n",
       "    }\n",
       "</style>\n",
       "<table border=\"1\" class=\"dataframe\">\n",
       "  <thead>\n",
       "    <tr style=\"text-align: right;\">\n",
       "      <th></th>\n",
       "      <th>A</th>\n",
       "      <th>B</th>\n",
       "      <th>C</th>\n",
       "      <th>D</th>\n",
       "      <th>F</th>\n",
       "      <th>E</th>\n",
       "    </tr>\n",
       "  </thead>\n",
       "  <tbody>\n",
       "    <tr>\n",
       "      <th>2025-01-01</th>\n",
       "      <td>0.000000</td>\n",
       "      <td>0.000000</td>\n",
       "      <td>1.020790</td>\n",
       "      <td>5.0</td>\n",
       "      <td>5.0</td>\n",
       "      <td>1.0</td>\n",
       "    </tr>\n",
       "    <tr>\n",
       "      <th>2025-01-02</th>\n",
       "      <td>0.000000</td>\n",
       "      <td>-0.017665</td>\n",
       "      <td>-2.565648</td>\n",
       "      <td>5.0</td>\n",
       "      <td>1.0</td>\n",
       "      <td>1.0</td>\n",
       "    </tr>\n",
       "    <tr>\n",
       "      <th>2025-01-03</th>\n",
       "      <td>-3.096719</td>\n",
       "      <td>0.117656</td>\n",
       "      <td>1.409707</td>\n",
       "      <td>5.0</td>\n",
       "      <td>2.0</td>\n",
       "      <td>5.0</td>\n",
       "    </tr>\n",
       "    <tr>\n",
       "      <th>2025-01-04</th>\n",
       "      <td>-0.354393</td>\n",
       "      <td>1.490735</td>\n",
       "      <td>1.790957</td>\n",
       "      <td>5.0</td>\n",
       "      <td>3.0</td>\n",
       "      <td>5.0</td>\n",
       "    </tr>\n",
       "  </tbody>\n",
       "</table>\n",
       "</div>"
      ]
     },
     "execution_count": 118,
     "metadata": {},
     "output_type": "execute_result"
    }
   ],
   "execution_count": 118
  },
  {
   "metadata": {
    "ExecuteTime": {
     "end_time": "2025-09-10T17:24:58.299402Z",
     "start_time": "2025-09-10T17:24:58.280923Z"
    }
   },
   "cell_type": "code",
   "source": "pd.isna(df_)",
   "id": "a01c3fd4e370659d",
   "outputs": [
    {
     "data": {
      "text/plain": [
       "                A      B      C      D      F      E\n",
       "2025-01-01  False  False  False  False   True  False\n",
       "2025-01-02  False  False  False  False  False  False\n",
       "2025-01-03  False  False  False  False  False   True\n",
       "2025-01-04  False  False  False  False  False   True"
      ],
      "text/html": [
       "<div>\n",
       "<style scoped>\n",
       "    .dataframe tbody tr th:only-of-type {\n",
       "        vertical-align: middle;\n",
       "    }\n",
       "\n",
       "    .dataframe tbody tr th {\n",
       "        vertical-align: top;\n",
       "    }\n",
       "\n",
       "    .dataframe thead th {\n",
       "        text-align: right;\n",
       "    }\n",
       "</style>\n",
       "<table border=\"1\" class=\"dataframe\">\n",
       "  <thead>\n",
       "    <tr style=\"text-align: right;\">\n",
       "      <th></th>\n",
       "      <th>A</th>\n",
       "      <th>B</th>\n",
       "      <th>C</th>\n",
       "      <th>D</th>\n",
       "      <th>F</th>\n",
       "      <th>E</th>\n",
       "    </tr>\n",
       "  </thead>\n",
       "  <tbody>\n",
       "    <tr>\n",
       "      <th>2025-01-01</th>\n",
       "      <td>False</td>\n",
       "      <td>False</td>\n",
       "      <td>False</td>\n",
       "      <td>False</td>\n",
       "      <td>True</td>\n",
       "      <td>False</td>\n",
       "    </tr>\n",
       "    <tr>\n",
       "      <th>2025-01-02</th>\n",
       "      <td>False</td>\n",
       "      <td>False</td>\n",
       "      <td>False</td>\n",
       "      <td>False</td>\n",
       "      <td>False</td>\n",
       "      <td>False</td>\n",
       "    </tr>\n",
       "    <tr>\n",
       "      <th>2025-01-03</th>\n",
       "      <td>False</td>\n",
       "      <td>False</td>\n",
       "      <td>False</td>\n",
       "      <td>False</td>\n",
       "      <td>False</td>\n",
       "      <td>True</td>\n",
       "    </tr>\n",
       "    <tr>\n",
       "      <th>2025-01-04</th>\n",
       "      <td>False</td>\n",
       "      <td>False</td>\n",
       "      <td>False</td>\n",
       "      <td>False</td>\n",
       "      <td>False</td>\n",
       "      <td>True</td>\n",
       "    </tr>\n",
       "  </tbody>\n",
       "</table>\n",
       "</div>"
      ]
     },
     "execution_count": 121,
     "metadata": {},
     "output_type": "execute_result"
    }
   ],
   "execution_count": 121
  },
  {
   "metadata": {},
   "cell_type": "markdown",
   "source": "### Operations",
   "id": "8811b2f7f8541d34"
  },
  {
   "metadata": {},
   "cell_type": "markdown",
   "source": "#### Stats",
   "id": "5a081ea85345439a"
  },
  {
   "metadata": {
    "ExecuteTime": {
     "end_time": "2025-09-10T17:26:02.351800Z",
     "start_time": "2025-09-10T17:26:02.337177Z"
    }
   },
   "cell_type": "code",
   "source": "df.mean",
   "id": "b90dcd8acaa001f",
   "outputs": [
    {
     "data": {
      "text/plain": [
       "<bound method DataFrame.mean of                    A         B         C    D    F\n",
       "2025-01-01  0.000000  0.000000  1.020790  5.0  NaN\n",
       "2025-01-02  0.000000 -0.017665 -2.565648  5.0  1.0\n",
       "2025-01-03 -3.096719  0.117656  1.409707  5.0  2.0\n",
       "2025-01-04 -0.354393  1.490735  1.790957  5.0  3.0\n",
       "2025-01-05 -0.449488 -1.597510 -1.110994  5.0  4.0\n",
       "2025-01-06  1.685621  0.513039  0.514706  5.0  5.0>"
      ]
     },
     "execution_count": 122,
     "metadata": {},
     "output_type": "execute_result"
    }
   ],
   "execution_count": 122
  },
  {
   "metadata": {
    "ExecuteTime": {
     "end_time": "2025-09-10T17:30:24.949975Z",
     "start_time": "2025-09-10T17:30:24.939457Z"
    }
   },
   "cell_type": "code",
   "source": "df.mean(axis=0)",
   "id": "166cc9c2b5747281",
   "outputs": [
    {
     "data": {
      "text/plain": [
       "A   -0.369163\n",
       "B    0.084376\n",
       "C    0.176586\n",
       "D    5.000000\n",
       "F    3.000000\n",
       "dtype: float64"
      ]
     },
     "execution_count": 125,
     "metadata": {},
     "output_type": "execute_result"
    }
   ],
   "execution_count": 125
  },
  {
   "metadata": {
    "ExecuteTime": {
     "end_time": "2025-09-10T18:00:41.911992Z",
     "start_time": "2025-09-10T18:00:41.899696Z"
    }
   },
   "cell_type": "code",
   "source": [
    "s = pd.Series([1, 3, 5, np.nan, 6, 8], index=dates).shift(2)\n",
    "s"
   ],
   "id": "8d08d7a9cbaa0797",
   "outputs": [
    {
     "data": {
      "text/plain": [
       "2025-01-01    NaN\n",
       "2025-01-02    NaN\n",
       "2025-01-03    1.0\n",
       "2025-01-04    3.0\n",
       "2025-01-05    5.0\n",
       "2025-01-06    NaN\n",
       "Freq: D, dtype: float64"
      ]
     },
     "execution_count": 128,
     "metadata": {},
     "output_type": "execute_result"
    }
   ],
   "execution_count": 128
  },
  {
   "metadata": {
    "ExecuteTime": {
     "end_time": "2025-09-10T18:01:13.941923Z",
     "start_time": "2025-09-10T18:01:13.922207Z"
    }
   },
   "cell_type": "code",
   "source": [
    "df.sub(s, axis=\"index\")\n",
    "df"
   ],
   "id": "6376ac4ec3fcf916",
   "outputs": [
    {
     "data": {
      "text/plain": [
       "                   A         B         C    D    F\n",
       "2025-01-01  0.000000  0.000000  1.020790  5.0  NaN\n",
       "2025-01-02  0.000000 -0.017665 -2.565648  5.0  1.0\n",
       "2025-01-03 -3.096719  0.117656  1.409707  5.0  2.0\n",
       "2025-01-04 -0.354393  1.490735  1.790957  5.0  3.0\n",
       "2025-01-05 -0.449488 -1.597510 -1.110994  5.0  4.0\n",
       "2025-01-06  1.685621  0.513039  0.514706  5.0  5.0"
      ],
      "text/html": [
       "<div>\n",
       "<style scoped>\n",
       "    .dataframe tbody tr th:only-of-type {\n",
       "        vertical-align: middle;\n",
       "    }\n",
       "\n",
       "    .dataframe tbody tr th {\n",
       "        vertical-align: top;\n",
       "    }\n",
       "\n",
       "    .dataframe thead th {\n",
       "        text-align: right;\n",
       "    }\n",
       "</style>\n",
       "<table border=\"1\" class=\"dataframe\">\n",
       "  <thead>\n",
       "    <tr style=\"text-align: right;\">\n",
       "      <th></th>\n",
       "      <th>A</th>\n",
       "      <th>B</th>\n",
       "      <th>C</th>\n",
       "      <th>D</th>\n",
       "      <th>F</th>\n",
       "    </tr>\n",
       "  </thead>\n",
       "  <tbody>\n",
       "    <tr>\n",
       "      <th>2025-01-01</th>\n",
       "      <td>0.000000</td>\n",
       "      <td>0.000000</td>\n",
       "      <td>1.020790</td>\n",
       "      <td>5.0</td>\n",
       "      <td>NaN</td>\n",
       "    </tr>\n",
       "    <tr>\n",
       "      <th>2025-01-02</th>\n",
       "      <td>0.000000</td>\n",
       "      <td>-0.017665</td>\n",
       "      <td>-2.565648</td>\n",
       "      <td>5.0</td>\n",
       "      <td>1.0</td>\n",
       "    </tr>\n",
       "    <tr>\n",
       "      <th>2025-01-03</th>\n",
       "      <td>-3.096719</td>\n",
       "      <td>0.117656</td>\n",
       "      <td>1.409707</td>\n",
       "      <td>5.0</td>\n",
       "      <td>2.0</td>\n",
       "    </tr>\n",
       "    <tr>\n",
       "      <th>2025-01-04</th>\n",
       "      <td>-0.354393</td>\n",
       "      <td>1.490735</td>\n",
       "      <td>1.790957</td>\n",
       "      <td>5.0</td>\n",
       "      <td>3.0</td>\n",
       "    </tr>\n",
       "    <tr>\n",
       "      <th>2025-01-05</th>\n",
       "      <td>-0.449488</td>\n",
       "      <td>-1.597510</td>\n",
       "      <td>-1.110994</td>\n",
       "      <td>5.0</td>\n",
       "      <td>4.0</td>\n",
       "    </tr>\n",
       "    <tr>\n",
       "      <th>2025-01-06</th>\n",
       "      <td>1.685621</td>\n",
       "      <td>0.513039</td>\n",
       "      <td>0.514706</td>\n",
       "      <td>5.0</td>\n",
       "      <td>5.0</td>\n",
       "    </tr>\n",
       "  </tbody>\n",
       "</table>\n",
       "</div>"
      ]
     },
     "execution_count": 129,
     "metadata": {},
     "output_type": "execute_result"
    }
   ],
   "execution_count": 129
  },
  {
   "metadata": {},
   "cell_type": "markdown",
   "source": "#### User defined function",
   "id": "d1d66da7eec1945b"
  },
  {
   "metadata": {
    "ExecuteTime": {
     "end_time": "2025-09-10T18:04:21.581649Z",
     "start_time": "2025-09-10T18:04:21.561701Z"
    }
   },
   "cell_type": "code",
   "source": "df.agg(lambda x: np.mean(x) * 5.6)",
   "id": "df09ee5ac47821d5",
   "outputs": [
    {
     "data": {
      "text/plain": [
       "A    -2.067313\n",
       "B     0.472504\n",
       "C     0.988884\n",
       "D    28.000000\n",
       "F    16.800000\n",
       "dtype: float64"
      ]
     },
     "execution_count": 130,
     "metadata": {},
     "output_type": "execute_result"
    }
   ],
   "execution_count": 130
  },
  {
   "metadata": {
    "ExecuteTime": {
     "end_time": "2025-09-10T18:04:54.053782Z",
     "start_time": "2025-09-10T18:04:54.032409Z"
    }
   },
   "cell_type": "code",
   "source": "df.transform(lambda x: x * 101.2)",
   "id": "ef4d50a0e70a0f0e",
   "outputs": [
    {
     "data": {
      "text/plain": [
       "                     A           B           C      D      F\n",
       "2025-01-01    0.000000    0.000000  103.303932  506.0    NaN\n",
       "2025-01-02    0.000000   -1.787714 -259.643606  506.0  101.2\n",
       "2025-01-03 -313.387924   11.906751  142.662389  506.0  202.4\n",
       "2025-01-04  -35.864525  150.862404  181.244837  506.0  303.6\n",
       "2025-01-05  -45.488178 -161.668052 -112.432563  506.0  404.8\n",
       "2025-01-06  170.584809   51.919551   52.088262  506.0  506.0"
      ],
      "text/html": [
       "<div>\n",
       "<style scoped>\n",
       "    .dataframe tbody tr th:only-of-type {\n",
       "        vertical-align: middle;\n",
       "    }\n",
       "\n",
       "    .dataframe tbody tr th {\n",
       "        vertical-align: top;\n",
       "    }\n",
       "\n",
       "    .dataframe thead th {\n",
       "        text-align: right;\n",
       "    }\n",
       "</style>\n",
       "<table border=\"1\" class=\"dataframe\">\n",
       "  <thead>\n",
       "    <tr style=\"text-align: right;\">\n",
       "      <th></th>\n",
       "      <th>A</th>\n",
       "      <th>B</th>\n",
       "      <th>C</th>\n",
       "      <th>D</th>\n",
       "      <th>F</th>\n",
       "    </tr>\n",
       "  </thead>\n",
       "  <tbody>\n",
       "    <tr>\n",
       "      <th>2025-01-01</th>\n",
       "      <td>0.000000</td>\n",
       "      <td>0.000000</td>\n",
       "      <td>103.303932</td>\n",
       "      <td>506.0</td>\n",
       "      <td>NaN</td>\n",
       "    </tr>\n",
       "    <tr>\n",
       "      <th>2025-01-02</th>\n",
       "      <td>0.000000</td>\n",
       "      <td>-1.787714</td>\n",
       "      <td>-259.643606</td>\n",
       "      <td>506.0</td>\n",
       "      <td>101.2</td>\n",
       "    </tr>\n",
       "    <tr>\n",
       "      <th>2025-01-03</th>\n",
       "      <td>-313.387924</td>\n",
       "      <td>11.906751</td>\n",
       "      <td>142.662389</td>\n",
       "      <td>506.0</td>\n",
       "      <td>202.4</td>\n",
       "    </tr>\n",
       "    <tr>\n",
       "      <th>2025-01-04</th>\n",
       "      <td>-35.864525</td>\n",
       "      <td>150.862404</td>\n",
       "      <td>181.244837</td>\n",
       "      <td>506.0</td>\n",
       "      <td>303.6</td>\n",
       "    </tr>\n",
       "    <tr>\n",
       "      <th>2025-01-05</th>\n",
       "      <td>-45.488178</td>\n",
       "      <td>-161.668052</td>\n",
       "      <td>-112.432563</td>\n",
       "      <td>506.0</td>\n",
       "      <td>404.8</td>\n",
       "    </tr>\n",
       "    <tr>\n",
       "      <th>2025-01-06</th>\n",
       "      <td>170.584809</td>\n",
       "      <td>51.919551</td>\n",
       "      <td>52.088262</td>\n",
       "      <td>506.0</td>\n",
       "      <td>506.0</td>\n",
       "    </tr>\n",
       "  </tbody>\n",
       "</table>\n",
       "</div>"
      ]
     },
     "execution_count": 131,
     "metadata": {},
     "output_type": "execute_result"
    }
   ],
   "execution_count": 131
  },
  {
   "metadata": {},
   "cell_type": "markdown",
   "source": "#### Value counts",
   "id": "8fa717306eb6346f"
  },
  {
   "metadata": {
    "ExecuteTime": {
     "end_time": "2025-09-10T18:06:25.890317Z",
     "start_time": "2025-09-10T18:06:25.876328Z"
    }
   },
   "cell_type": "code",
   "source": [
    "s = pd.Series(np.random.randint(0, 7, size=10))\n",
    "s\n",
    "s.value_counts()"
   ],
   "id": "271343662fe23ba3",
   "outputs": [
    {
     "data": {
      "text/plain": [
       "3    3\n",
       "1    2\n",
       "2    2\n",
       "6    2\n",
       "4    1\n",
       "Name: count, dtype: int64"
      ]
     },
     "execution_count": 137,
     "metadata": {},
     "output_type": "execute_result"
    }
   ],
   "execution_count": 137
  },
  {
   "metadata": {},
   "cell_type": "markdown",
   "source": "#### String methods",
   "id": "378391e17dc1089c"
  },
  {
   "metadata": {
    "ExecuteTime": {
     "end_time": "2025-09-10T18:06:54.746096Z",
     "start_time": "2025-09-10T18:06:54.729143Z"
    }
   },
   "cell_type": "code",
   "source": [
    "s = pd.Series([\"A\", \"B\", \"C\", \"Aaba\", \"Baca\", np.nan, \"CABA\", \"dog\", \"cat\"])\n",
    "s.str.lower()"
   ],
   "id": "cf39bc0a592b8399",
   "outputs": [
    {
     "data": {
      "text/plain": [
       "0       a\n",
       "1       b\n",
       "2       c\n",
       "3    aaba\n",
       "4    baca\n",
       "5     NaN\n",
       "6    caba\n",
       "7     dog\n",
       "8     cat\n",
       "dtype: object"
      ]
     },
     "execution_count": 138,
     "metadata": {},
     "output_type": "execute_result"
    }
   ],
   "execution_count": 138
  },
  {
   "metadata": {},
   "cell_type": "code",
   "outputs": [],
   "execution_count": null,
   "source": "",
   "id": "985de47d6934b697"
  }
 ],
 "metadata": {
  "kernelspec": {
   "name": "python3",
   "language": "python",
   "display_name": "Python 3 (ipykernel)"
  }
 },
 "nbformat": 4,
 "nbformat_minor": 5
}
