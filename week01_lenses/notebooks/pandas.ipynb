{
 "cells": [
  {
   "metadata": {
    "ExecuteTime": {
     "end_time": "2025-09-20T16:24:38.052659Z",
     "start_time": "2025-09-20T16:24:38.047291Z"
    }
   },
   "cell_type": "code",
   "source": [
    "import numpy as np\n",
    "import pandas as pd"
   ],
   "id": "7d5ad9400b6ba277",
   "outputs": [],
   "execution_count": 78
  },
  {
   "metadata": {},
   "cell_type": "markdown",
   "source": "## Object Creation",
   "id": "e82942afcd75220"
  },
  {
   "metadata": {
    "ExecuteTime": {
     "end_time": "2025-09-20T16:24:38.609911Z",
     "start_time": "2025-09-20T16:24:38.170758Z"
    }
   },
   "cell_type": "code",
   "source": [
    "s = pd.Series([1,3,5,np.nan, 6, 8])\n",
    "s"
   ],
   "id": "2ad8e9124e20f1d3",
   "outputs": [
    {
     "data": {
      "text/plain": [
       "0    1.0\n",
       "1    3.0\n",
       "2    5.0\n",
       "3    NaN\n",
       "4    6.0\n",
       "5    8.0\n",
       "dtype: float64"
      ]
     },
     "execution_count": 79,
     "metadata": {},
     "output_type": "execute_result"
    }
   ],
   "execution_count": 79
  },
  {
   "metadata": {
    "ExecuteTime": {
     "end_time": "2025-09-20T16:24:47.173926Z",
     "start_time": "2025-09-20T16:24:47.161342Z"
    }
   },
   "cell_type": "code",
   "source": [
    "dates = pd.date_range(\"20250101\", periods=6)\n",
    "dates"
   ],
   "id": "3317cc88688202e2",
   "outputs": [
    {
     "data": {
      "text/plain": [
       "DatetimeIndex(['2025-01-01', '2025-01-02', '2025-01-03', '2025-01-04',\n",
       "               '2025-01-05', '2025-01-06'],\n",
       "              dtype='datetime64[ns]', freq='D')"
      ]
     },
     "execution_count": 80,
     "metadata": {},
     "output_type": "execute_result"
    }
   ],
   "execution_count": 80
  },
  {
   "metadata": {
    "ExecuteTime": {
     "end_time": "2025-09-20T16:24:51.114422Z",
     "start_time": "2025-09-20T16:24:51.093418Z"
    }
   },
   "cell_type": "code",
   "source": [
    "df = pd.DataFrame(np.random.randn(6,4), index=dates, columns=list(\"ABCD\"))\n",
    "df"
   ],
   "id": "588b5cb10e9a64b6",
   "outputs": [
    {
     "data": {
      "text/plain": [
       "                   A         B         C         D\n",
       "2025-01-01 -0.685904  0.141574 -1.374438 -0.797057\n",
       "2025-01-02  1.279021 -0.373057  0.139537  0.040292\n",
       "2025-01-03  0.870803  1.201307  1.037000  0.111405\n",
       "2025-01-04  1.105289 -0.432941  0.815832  0.754984\n",
       "2025-01-05 -0.308253 -1.149304 -0.610502  0.344888\n",
       "2025-01-06 -0.224270 -0.494670 -0.119892  1.511535"
      ],
      "text/html": [
       "<div>\n",
       "<style scoped>\n",
       "    .dataframe tbody tr th:only-of-type {\n",
       "        vertical-align: middle;\n",
       "    }\n",
       "\n",
       "    .dataframe tbody tr th {\n",
       "        vertical-align: top;\n",
       "    }\n",
       "\n",
       "    .dataframe thead th {\n",
       "        text-align: right;\n",
       "    }\n",
       "</style>\n",
       "<table border=\"1\" class=\"dataframe\">\n",
       "  <thead>\n",
       "    <tr style=\"text-align: right;\">\n",
       "      <th></th>\n",
       "      <th>A</th>\n",
       "      <th>B</th>\n",
       "      <th>C</th>\n",
       "      <th>D</th>\n",
       "    </tr>\n",
       "  </thead>\n",
       "  <tbody>\n",
       "    <tr>\n",
       "      <th>2025-01-01</th>\n",
       "      <td>-0.685904</td>\n",
       "      <td>0.141574</td>\n",
       "      <td>-1.374438</td>\n",
       "      <td>-0.797057</td>\n",
       "    </tr>\n",
       "    <tr>\n",
       "      <th>2025-01-02</th>\n",
       "      <td>1.279021</td>\n",
       "      <td>-0.373057</td>\n",
       "      <td>0.139537</td>\n",
       "      <td>0.040292</td>\n",
       "    </tr>\n",
       "    <tr>\n",
       "      <th>2025-01-03</th>\n",
       "      <td>0.870803</td>\n",
       "      <td>1.201307</td>\n",
       "      <td>1.037000</td>\n",
       "      <td>0.111405</td>\n",
       "    </tr>\n",
       "    <tr>\n",
       "      <th>2025-01-04</th>\n",
       "      <td>1.105289</td>\n",
       "      <td>-0.432941</td>\n",
       "      <td>0.815832</td>\n",
       "      <td>0.754984</td>\n",
       "    </tr>\n",
       "    <tr>\n",
       "      <th>2025-01-05</th>\n",
       "      <td>-0.308253</td>\n",
       "      <td>-1.149304</td>\n",
       "      <td>-0.610502</td>\n",
       "      <td>0.344888</td>\n",
       "    </tr>\n",
       "    <tr>\n",
       "      <th>2025-01-06</th>\n",
       "      <td>-0.224270</td>\n",
       "      <td>-0.494670</td>\n",
       "      <td>-0.119892</td>\n",
       "      <td>1.511535</td>\n",
       "    </tr>\n",
       "  </tbody>\n",
       "</table>\n",
       "</div>"
      ]
     },
     "execution_count": 81,
     "metadata": {},
     "output_type": "execute_result"
    }
   ],
   "execution_count": 81
  },
  {
   "metadata": {
    "ExecuteTime": {
     "end_time": "2025-09-20T16:24:52.955473Z",
     "start_time": "2025-09-20T16:24:51.166431Z"
    }
   },
   "cell_type": "code",
   "source": [
    "df2 = pd.DataFrame({\n",
    "    \"A\": 2.0,\n",
    "    \"B\": pd.Timestamp(\"20250101\"),\n",
    "    \"C\": pd.Series(1, index=list(range(8)), dtype = \"float32\"),\n",
    "    \"D\": np.array([3,4,5,6, 11, 15, 20, 25], dtype='int32'),\n",
    "    \"E\": pd.Categorical([\"test\", \"train\", \"test\", \"train\", \"test\", \"train\", \"test\", \"train\"]),\n",
    "    \"Z\": \"foo\"\n",
    "})\n",
    "df2"
   ],
   "id": "27b81a1136268382",
   "outputs": [
    {
     "data": {
      "text/plain": [
       "     A          B    C   D      E    Z\n",
       "0  2.0 2025-01-01  1.0   3   test  foo\n",
       "1  2.0 2025-01-01  1.0   4  train  foo\n",
       "2  2.0 2025-01-01  1.0   5   test  foo\n",
       "3  2.0 2025-01-01  1.0   6  train  foo\n",
       "4  2.0 2025-01-01  1.0  11   test  foo\n",
       "5  2.0 2025-01-01  1.0  15  train  foo\n",
       "6  2.0 2025-01-01  1.0  20   test  foo\n",
       "7  2.0 2025-01-01  1.0  25  train  foo"
      ],
      "text/html": [
       "<div>\n",
       "<style scoped>\n",
       "    .dataframe tbody tr th:only-of-type {\n",
       "        vertical-align: middle;\n",
       "    }\n",
       "\n",
       "    .dataframe tbody tr th {\n",
       "        vertical-align: top;\n",
       "    }\n",
       "\n",
       "    .dataframe thead th {\n",
       "        text-align: right;\n",
       "    }\n",
       "</style>\n",
       "<table border=\"1\" class=\"dataframe\">\n",
       "  <thead>\n",
       "    <tr style=\"text-align: right;\">\n",
       "      <th></th>\n",
       "      <th>A</th>\n",
       "      <th>B</th>\n",
       "      <th>C</th>\n",
       "      <th>D</th>\n",
       "      <th>E</th>\n",
       "      <th>Z</th>\n",
       "    </tr>\n",
       "  </thead>\n",
       "  <tbody>\n",
       "    <tr>\n",
       "      <th>0</th>\n",
       "      <td>2.0</td>\n",
       "      <td>2025-01-01</td>\n",
       "      <td>1.0</td>\n",
       "      <td>3</td>\n",
       "      <td>test</td>\n",
       "      <td>foo</td>\n",
       "    </tr>\n",
       "    <tr>\n",
       "      <th>1</th>\n",
       "      <td>2.0</td>\n",
       "      <td>2025-01-01</td>\n",
       "      <td>1.0</td>\n",
       "      <td>4</td>\n",
       "      <td>train</td>\n",
       "      <td>foo</td>\n",
       "    </tr>\n",
       "    <tr>\n",
       "      <th>2</th>\n",
       "      <td>2.0</td>\n",
       "      <td>2025-01-01</td>\n",
       "      <td>1.0</td>\n",
       "      <td>5</td>\n",
       "      <td>test</td>\n",
       "      <td>foo</td>\n",
       "    </tr>\n",
       "    <tr>\n",
       "      <th>3</th>\n",
       "      <td>2.0</td>\n",
       "      <td>2025-01-01</td>\n",
       "      <td>1.0</td>\n",
       "      <td>6</td>\n",
       "      <td>train</td>\n",
       "      <td>foo</td>\n",
       "    </tr>\n",
       "    <tr>\n",
       "      <th>4</th>\n",
       "      <td>2.0</td>\n",
       "      <td>2025-01-01</td>\n",
       "      <td>1.0</td>\n",
       "      <td>11</td>\n",
       "      <td>test</td>\n",
       "      <td>foo</td>\n",
       "    </tr>\n",
       "    <tr>\n",
       "      <th>5</th>\n",
       "      <td>2.0</td>\n",
       "      <td>2025-01-01</td>\n",
       "      <td>1.0</td>\n",
       "      <td>15</td>\n",
       "      <td>train</td>\n",
       "      <td>foo</td>\n",
       "    </tr>\n",
       "    <tr>\n",
       "      <th>6</th>\n",
       "      <td>2.0</td>\n",
       "      <td>2025-01-01</td>\n",
       "      <td>1.0</td>\n",
       "      <td>20</td>\n",
       "      <td>test</td>\n",
       "      <td>foo</td>\n",
       "    </tr>\n",
       "    <tr>\n",
       "      <th>7</th>\n",
       "      <td>2.0</td>\n",
       "      <td>2025-01-01</td>\n",
       "      <td>1.0</td>\n",
       "      <td>25</td>\n",
       "      <td>train</td>\n",
       "      <td>foo</td>\n",
       "    </tr>\n",
       "  </tbody>\n",
       "</table>\n",
       "</div>"
      ]
     },
     "execution_count": 82,
     "metadata": {},
     "output_type": "execute_result"
    }
   ],
   "execution_count": 82
  },
  {
   "metadata": {},
   "cell_type": "markdown",
   "source": "### data types (dtypes)",
   "id": "4d8c26a6c4a6f0b8"
  },
  {
   "metadata": {
    "ExecuteTime": {
     "end_time": "2025-09-20T16:24:56.569743Z",
     "start_time": "2025-09-20T16:24:56.551638Z"
    }
   },
   "cell_type": "code",
   "source": "df2.dtypes",
   "id": "a7cc0f88854b0d92",
   "outputs": [
    {
     "data": {
      "text/plain": [
       "A          float64\n",
       "B    datetime64[s]\n",
       "C          float32\n",
       "D            int32\n",
       "E         category\n",
       "Z           object\n",
       "dtype: object"
      ]
     },
     "execution_count": 83,
     "metadata": {},
     "output_type": "execute_result"
    }
   ],
   "execution_count": 83
  },
  {
   "metadata": {},
   "cell_type": "markdown",
   "source": "### Viewing data",
   "id": "82e4b0fa5b9fd81a"
  },
  {
   "metadata": {
    "ExecuteTime": {
     "end_time": "2025-09-20T16:25:07.767354Z",
     "start_time": "2025-09-20T16:25:07.653324Z"
    }
   },
   "cell_type": "code",
   "source": [
    "#Top Rows\n",
    "df2.head()"
   ],
   "id": "59761c618057e858",
   "outputs": [
    {
     "data": {
      "text/plain": [
       "     A          B    C   D      E    Z\n",
       "0  2.0 2025-01-01  1.0   3   test  foo\n",
       "1  2.0 2025-01-01  1.0   4  train  foo\n",
       "2  2.0 2025-01-01  1.0   5   test  foo\n",
       "3  2.0 2025-01-01  1.0   6  train  foo\n",
       "4  2.0 2025-01-01  1.0  11   test  foo"
      ],
      "text/html": [
       "<div>\n",
       "<style scoped>\n",
       "    .dataframe tbody tr th:only-of-type {\n",
       "        vertical-align: middle;\n",
       "    }\n",
       "\n",
       "    .dataframe tbody tr th {\n",
       "        vertical-align: top;\n",
       "    }\n",
       "\n",
       "    .dataframe thead th {\n",
       "        text-align: right;\n",
       "    }\n",
       "</style>\n",
       "<table border=\"1\" class=\"dataframe\">\n",
       "  <thead>\n",
       "    <tr style=\"text-align: right;\">\n",
       "      <th></th>\n",
       "      <th>A</th>\n",
       "      <th>B</th>\n",
       "      <th>C</th>\n",
       "      <th>D</th>\n",
       "      <th>E</th>\n",
       "      <th>Z</th>\n",
       "    </tr>\n",
       "  </thead>\n",
       "  <tbody>\n",
       "    <tr>\n",
       "      <th>0</th>\n",
       "      <td>2.0</td>\n",
       "      <td>2025-01-01</td>\n",
       "      <td>1.0</td>\n",
       "      <td>3</td>\n",
       "      <td>test</td>\n",
       "      <td>foo</td>\n",
       "    </tr>\n",
       "    <tr>\n",
       "      <th>1</th>\n",
       "      <td>2.0</td>\n",
       "      <td>2025-01-01</td>\n",
       "      <td>1.0</td>\n",
       "      <td>4</td>\n",
       "      <td>train</td>\n",
       "      <td>foo</td>\n",
       "    </tr>\n",
       "    <tr>\n",
       "      <th>2</th>\n",
       "      <td>2.0</td>\n",
       "      <td>2025-01-01</td>\n",
       "      <td>1.0</td>\n",
       "      <td>5</td>\n",
       "      <td>test</td>\n",
       "      <td>foo</td>\n",
       "    </tr>\n",
       "    <tr>\n",
       "      <th>3</th>\n",
       "      <td>2.0</td>\n",
       "      <td>2025-01-01</td>\n",
       "      <td>1.0</td>\n",
       "      <td>6</td>\n",
       "      <td>train</td>\n",
       "      <td>foo</td>\n",
       "    </tr>\n",
       "    <tr>\n",
       "      <th>4</th>\n",
       "      <td>2.0</td>\n",
       "      <td>2025-01-01</td>\n",
       "      <td>1.0</td>\n",
       "      <td>11</td>\n",
       "      <td>test</td>\n",
       "      <td>foo</td>\n",
       "    </tr>\n",
       "  </tbody>\n",
       "</table>\n",
       "</div>"
      ]
     },
     "execution_count": 84,
     "metadata": {},
     "output_type": "execute_result"
    }
   ],
   "execution_count": 84
  },
  {
   "metadata": {
    "ExecuteTime": {
     "end_time": "2025-09-20T16:25:08.260987Z",
     "start_time": "2025-09-20T16:25:07.819357Z"
    }
   },
   "cell_type": "code",
   "source": [
    "#Bottom Rows\n",
    "df2.tail()"
   ],
   "id": "4ecc8b7c6080db50",
   "outputs": [
    {
     "data": {
      "text/plain": [
       "     A          B    C   D      E    Z\n",
       "3  2.0 2025-01-01  1.0   6  train  foo\n",
       "4  2.0 2025-01-01  1.0  11   test  foo\n",
       "5  2.0 2025-01-01  1.0  15  train  foo\n",
       "6  2.0 2025-01-01  1.0  20   test  foo\n",
       "7  2.0 2025-01-01  1.0  25  train  foo"
      ],
      "text/html": [
       "<div>\n",
       "<style scoped>\n",
       "    .dataframe tbody tr th:only-of-type {\n",
       "        vertical-align: middle;\n",
       "    }\n",
       "\n",
       "    .dataframe tbody tr th {\n",
       "        vertical-align: top;\n",
       "    }\n",
       "\n",
       "    .dataframe thead th {\n",
       "        text-align: right;\n",
       "    }\n",
       "</style>\n",
       "<table border=\"1\" class=\"dataframe\">\n",
       "  <thead>\n",
       "    <tr style=\"text-align: right;\">\n",
       "      <th></th>\n",
       "      <th>A</th>\n",
       "      <th>B</th>\n",
       "      <th>C</th>\n",
       "      <th>D</th>\n",
       "      <th>E</th>\n",
       "      <th>Z</th>\n",
       "    </tr>\n",
       "  </thead>\n",
       "  <tbody>\n",
       "    <tr>\n",
       "      <th>3</th>\n",
       "      <td>2.0</td>\n",
       "      <td>2025-01-01</td>\n",
       "      <td>1.0</td>\n",
       "      <td>6</td>\n",
       "      <td>train</td>\n",
       "      <td>foo</td>\n",
       "    </tr>\n",
       "    <tr>\n",
       "      <th>4</th>\n",
       "      <td>2.0</td>\n",
       "      <td>2025-01-01</td>\n",
       "      <td>1.0</td>\n",
       "      <td>11</td>\n",
       "      <td>test</td>\n",
       "      <td>foo</td>\n",
       "    </tr>\n",
       "    <tr>\n",
       "      <th>5</th>\n",
       "      <td>2.0</td>\n",
       "      <td>2025-01-01</td>\n",
       "      <td>1.0</td>\n",
       "      <td>15</td>\n",
       "      <td>train</td>\n",
       "      <td>foo</td>\n",
       "    </tr>\n",
       "    <tr>\n",
       "      <th>6</th>\n",
       "      <td>2.0</td>\n",
       "      <td>2025-01-01</td>\n",
       "      <td>1.0</td>\n",
       "      <td>20</td>\n",
       "      <td>test</td>\n",
       "      <td>foo</td>\n",
       "    </tr>\n",
       "    <tr>\n",
       "      <th>7</th>\n",
       "      <td>2.0</td>\n",
       "      <td>2025-01-01</td>\n",
       "      <td>1.0</td>\n",
       "      <td>25</td>\n",
       "      <td>train</td>\n",
       "      <td>foo</td>\n",
       "    </tr>\n",
       "  </tbody>\n",
       "</table>\n",
       "</div>"
      ]
     },
     "execution_count": 85,
     "metadata": {},
     "output_type": "execute_result"
    }
   ],
   "execution_count": 85
  },
  {
   "metadata": {
    "ExecuteTime": {
     "end_time": "2025-09-20T16:25:09.801885Z",
     "start_time": "2025-09-20T16:25:08.278014Z"
    }
   },
   "cell_type": "code",
   "source": "df.index",
   "id": "330188f87189c6a",
   "outputs": [
    {
     "data": {
      "text/plain": [
       "DatetimeIndex(['2025-01-01', '2025-01-02', '2025-01-03', '2025-01-04',\n",
       "               '2025-01-05', '2025-01-06'],\n",
       "              dtype='datetime64[ns]', freq='D')"
      ]
     },
     "execution_count": 86,
     "metadata": {},
     "output_type": "execute_result"
    }
   ],
   "execution_count": 86
  },
  {
   "metadata": {
    "ExecuteTime": {
     "end_time": "2025-09-20T16:25:12.293309Z",
     "start_time": "2025-09-20T16:25:12.281226Z"
    }
   },
   "cell_type": "code",
   "source": "df2.index",
   "id": "d87bacbd9a2cb6c9",
   "outputs": [
    {
     "data": {
      "text/plain": [
       "Index([0, 1, 2, 3, 4, 5, 6, 7], dtype='int64')"
      ]
     },
     "execution_count": 87,
     "metadata": {},
     "output_type": "execute_result"
    }
   ],
   "execution_count": 87
  },
  {
   "metadata": {
    "ExecuteTime": {
     "end_time": "2025-09-20T16:25:12.500772Z",
     "start_time": "2025-09-20T16:25:12.341310Z"
    }
   },
   "cell_type": "code",
   "source": "df.columns",
   "id": "23ac5612eeda184c",
   "outputs": [
    {
     "data": {
      "text/plain": [
       "Index(['A', 'B', 'C', 'D'], dtype='object')"
      ]
     },
     "execution_count": 88,
     "metadata": {},
     "output_type": "execute_result"
    }
   ],
   "execution_count": 88
  },
  {
   "metadata": {
    "ExecuteTime": {
     "end_time": "2025-09-20T16:25:12.804790Z",
     "start_time": "2025-09-20T16:25:12.574389Z"
    }
   },
   "cell_type": "code",
   "source": "df2.columns",
   "id": "6f7a4ceeacd727a4",
   "outputs": [
    {
     "data": {
      "text/plain": [
       "Index(['A', 'B', 'C', 'D', 'E', 'Z'], dtype='object')"
      ]
     },
     "execution_count": 89,
     "metadata": {},
     "output_type": "execute_result"
    }
   ],
   "execution_count": 89
  },
  {
   "metadata": {
    "ExecuteTime": {
     "end_time": "2025-09-20T16:25:12.894756Z",
     "start_time": "2025-09-20T16:25:12.832790Z"
    }
   },
   "cell_type": "code",
   "source": [
    "# df2.dtypes\n",
    "# df2.to_numpy()"
   ],
   "id": "4fcddea3b5ef469d",
   "outputs": [],
   "execution_count": 90
  },
  {
   "metadata": {
    "ExecuteTime": {
     "end_time": "2025-09-20T16:25:13.599969Z",
     "start_time": "2025-09-20T16:25:12.951755Z"
    }
   },
   "cell_type": "code",
   "source": [
    "# Describe numeric columns by default ifmixed\n",
    "df2.describe()\n",
    "\n",
    "# Describe all columns\n",
    "df2.describe(include='all')"
   ],
   "id": "66a537b0869369c4",
   "outputs": [
    {
     "data": {
      "text/plain": [
       "          A                    B    C          D     E    Z\n",
       "count   8.0                    8  8.0   8.000000     8    8\n",
       "unique  NaN                  NaN  NaN        NaN     2    1\n",
       "top     NaN                  NaN  NaN        NaN  test  foo\n",
       "freq    NaN                  NaN  NaN        NaN     4    8\n",
       "mean    2.0  2025-01-01 00:00:00  1.0  11.125000   NaN  NaN\n",
       "min     2.0  2025-01-01 00:00:00  1.0   3.000000   NaN  NaN\n",
       "25%     2.0  2025-01-01 00:00:00  1.0   4.750000   NaN  NaN\n",
       "50%     2.0  2025-01-01 00:00:00  1.0   8.500000   NaN  NaN\n",
       "75%     2.0  2025-01-01 00:00:00  1.0  16.250000   NaN  NaN\n",
       "max     2.0  2025-01-01 00:00:00  1.0  25.000000   NaN  NaN\n",
       "std     0.0                  NaN  0.0   8.166788   NaN  NaN"
      ],
      "text/html": [
       "<div>\n",
       "<style scoped>\n",
       "    .dataframe tbody tr th:only-of-type {\n",
       "        vertical-align: middle;\n",
       "    }\n",
       "\n",
       "    .dataframe tbody tr th {\n",
       "        vertical-align: top;\n",
       "    }\n",
       "\n",
       "    .dataframe thead th {\n",
       "        text-align: right;\n",
       "    }\n",
       "</style>\n",
       "<table border=\"1\" class=\"dataframe\">\n",
       "  <thead>\n",
       "    <tr style=\"text-align: right;\">\n",
       "      <th></th>\n",
       "      <th>A</th>\n",
       "      <th>B</th>\n",
       "      <th>C</th>\n",
       "      <th>D</th>\n",
       "      <th>E</th>\n",
       "      <th>Z</th>\n",
       "    </tr>\n",
       "  </thead>\n",
       "  <tbody>\n",
       "    <tr>\n",
       "      <th>count</th>\n",
       "      <td>8.0</td>\n",
       "      <td>8</td>\n",
       "      <td>8.0</td>\n",
       "      <td>8.000000</td>\n",
       "      <td>8</td>\n",
       "      <td>8</td>\n",
       "    </tr>\n",
       "    <tr>\n",
       "      <th>unique</th>\n",
       "      <td>NaN</td>\n",
       "      <td>NaN</td>\n",
       "      <td>NaN</td>\n",
       "      <td>NaN</td>\n",
       "      <td>2</td>\n",
       "      <td>1</td>\n",
       "    </tr>\n",
       "    <tr>\n",
       "      <th>top</th>\n",
       "      <td>NaN</td>\n",
       "      <td>NaN</td>\n",
       "      <td>NaN</td>\n",
       "      <td>NaN</td>\n",
       "      <td>test</td>\n",
       "      <td>foo</td>\n",
       "    </tr>\n",
       "    <tr>\n",
       "      <th>freq</th>\n",
       "      <td>NaN</td>\n",
       "      <td>NaN</td>\n",
       "      <td>NaN</td>\n",
       "      <td>NaN</td>\n",
       "      <td>4</td>\n",
       "      <td>8</td>\n",
       "    </tr>\n",
       "    <tr>\n",
       "      <th>mean</th>\n",
       "      <td>2.0</td>\n",
       "      <td>2025-01-01 00:00:00</td>\n",
       "      <td>1.0</td>\n",
       "      <td>11.125000</td>\n",
       "      <td>NaN</td>\n",
       "      <td>NaN</td>\n",
       "    </tr>\n",
       "    <tr>\n",
       "      <th>min</th>\n",
       "      <td>2.0</td>\n",
       "      <td>2025-01-01 00:00:00</td>\n",
       "      <td>1.0</td>\n",
       "      <td>3.000000</td>\n",
       "      <td>NaN</td>\n",
       "      <td>NaN</td>\n",
       "    </tr>\n",
       "    <tr>\n",
       "      <th>25%</th>\n",
       "      <td>2.0</td>\n",
       "      <td>2025-01-01 00:00:00</td>\n",
       "      <td>1.0</td>\n",
       "      <td>4.750000</td>\n",
       "      <td>NaN</td>\n",
       "      <td>NaN</td>\n",
       "    </tr>\n",
       "    <tr>\n",
       "      <th>50%</th>\n",
       "      <td>2.0</td>\n",
       "      <td>2025-01-01 00:00:00</td>\n",
       "      <td>1.0</td>\n",
       "      <td>8.500000</td>\n",
       "      <td>NaN</td>\n",
       "      <td>NaN</td>\n",
       "    </tr>\n",
       "    <tr>\n",
       "      <th>75%</th>\n",
       "      <td>2.0</td>\n",
       "      <td>2025-01-01 00:00:00</td>\n",
       "      <td>1.0</td>\n",
       "      <td>16.250000</td>\n",
       "      <td>NaN</td>\n",
       "      <td>NaN</td>\n",
       "    </tr>\n",
       "    <tr>\n",
       "      <th>max</th>\n",
       "      <td>2.0</td>\n",
       "      <td>2025-01-01 00:00:00</td>\n",
       "      <td>1.0</td>\n",
       "      <td>25.000000</td>\n",
       "      <td>NaN</td>\n",
       "      <td>NaN</td>\n",
       "    </tr>\n",
       "    <tr>\n",
       "      <th>std</th>\n",
       "      <td>0.0</td>\n",
       "      <td>NaN</td>\n",
       "      <td>0.0</td>\n",
       "      <td>8.166788</td>\n",
       "      <td>NaN</td>\n",
       "      <td>NaN</td>\n",
       "    </tr>\n",
       "  </tbody>\n",
       "</table>\n",
       "</div>"
      ]
     },
     "execution_count": 91,
     "metadata": {},
     "output_type": "execute_result"
    }
   ],
   "execution_count": 91
  },
  {
   "metadata": {
    "ExecuteTime": {
     "end_time": "2025-09-20T16:25:13.650976Z",
     "start_time": "2025-09-20T16:25:13.612963Z"
    }
   },
   "cell_type": "code",
   "source": "# Transposing your data",
   "id": "cef8211cef312662",
   "outputs": [],
   "execution_count": 92
  },
  {
   "metadata": {
    "ExecuteTime": {
     "end_time": "2025-09-20T16:25:13.722986Z",
     "start_time": "2025-09-20T16:25:13.664976Z"
    }
   },
   "cell_type": "code",
   "source": "df2.T",
   "id": "4fd05bf3ac872b72",
   "outputs": [
    {
     "data": {
      "text/plain": [
       "                     0                    1                    2  \\\n",
       "A                  2.0                  2.0                  2.0   \n",
       "B  2025-01-01 00:00:00  2025-01-01 00:00:00  2025-01-01 00:00:00   \n",
       "C                  1.0                  1.0                  1.0   \n",
       "D                    3                    4                    5   \n",
       "E                 test                train                 test   \n",
       "Z                  foo                  foo                  foo   \n",
       "\n",
       "                     3                    4                    5  \\\n",
       "A                  2.0                  2.0                  2.0   \n",
       "B  2025-01-01 00:00:00  2025-01-01 00:00:00  2025-01-01 00:00:00   \n",
       "C                  1.0                  1.0                  1.0   \n",
       "D                    6                   11                   15   \n",
       "E                train                 test                train   \n",
       "Z                  foo                  foo                  foo   \n",
       "\n",
       "                     6                    7  \n",
       "A                  2.0                  2.0  \n",
       "B  2025-01-01 00:00:00  2025-01-01 00:00:00  \n",
       "C                  1.0                  1.0  \n",
       "D                   20                   25  \n",
       "E                 test                train  \n",
       "Z                  foo                  foo  "
      ],
      "text/html": [
       "<div>\n",
       "<style scoped>\n",
       "    .dataframe tbody tr th:only-of-type {\n",
       "        vertical-align: middle;\n",
       "    }\n",
       "\n",
       "    .dataframe tbody tr th {\n",
       "        vertical-align: top;\n",
       "    }\n",
       "\n",
       "    .dataframe thead th {\n",
       "        text-align: right;\n",
       "    }\n",
       "</style>\n",
       "<table border=\"1\" class=\"dataframe\">\n",
       "  <thead>\n",
       "    <tr style=\"text-align: right;\">\n",
       "      <th></th>\n",
       "      <th>0</th>\n",
       "      <th>1</th>\n",
       "      <th>2</th>\n",
       "      <th>3</th>\n",
       "      <th>4</th>\n",
       "      <th>5</th>\n",
       "      <th>6</th>\n",
       "      <th>7</th>\n",
       "    </tr>\n",
       "  </thead>\n",
       "  <tbody>\n",
       "    <tr>\n",
       "      <th>A</th>\n",
       "      <td>2.0</td>\n",
       "      <td>2.0</td>\n",
       "      <td>2.0</td>\n",
       "      <td>2.0</td>\n",
       "      <td>2.0</td>\n",
       "      <td>2.0</td>\n",
       "      <td>2.0</td>\n",
       "      <td>2.0</td>\n",
       "    </tr>\n",
       "    <tr>\n",
       "      <th>B</th>\n",
       "      <td>2025-01-01 00:00:00</td>\n",
       "      <td>2025-01-01 00:00:00</td>\n",
       "      <td>2025-01-01 00:00:00</td>\n",
       "      <td>2025-01-01 00:00:00</td>\n",
       "      <td>2025-01-01 00:00:00</td>\n",
       "      <td>2025-01-01 00:00:00</td>\n",
       "      <td>2025-01-01 00:00:00</td>\n",
       "      <td>2025-01-01 00:00:00</td>\n",
       "    </tr>\n",
       "    <tr>\n",
       "      <th>C</th>\n",
       "      <td>1.0</td>\n",
       "      <td>1.0</td>\n",
       "      <td>1.0</td>\n",
       "      <td>1.0</td>\n",
       "      <td>1.0</td>\n",
       "      <td>1.0</td>\n",
       "      <td>1.0</td>\n",
       "      <td>1.0</td>\n",
       "    </tr>\n",
       "    <tr>\n",
       "      <th>D</th>\n",
       "      <td>3</td>\n",
       "      <td>4</td>\n",
       "      <td>5</td>\n",
       "      <td>6</td>\n",
       "      <td>11</td>\n",
       "      <td>15</td>\n",
       "      <td>20</td>\n",
       "      <td>25</td>\n",
       "    </tr>\n",
       "    <tr>\n",
       "      <th>E</th>\n",
       "      <td>test</td>\n",
       "      <td>train</td>\n",
       "      <td>test</td>\n",
       "      <td>train</td>\n",
       "      <td>test</td>\n",
       "      <td>train</td>\n",
       "      <td>test</td>\n",
       "      <td>train</td>\n",
       "    </tr>\n",
       "    <tr>\n",
       "      <th>Z</th>\n",
       "      <td>foo</td>\n",
       "      <td>foo</td>\n",
       "      <td>foo</td>\n",
       "      <td>foo</td>\n",
       "      <td>foo</td>\n",
       "      <td>foo</td>\n",
       "      <td>foo</td>\n",
       "      <td>foo</td>\n",
       "    </tr>\n",
       "  </tbody>\n",
       "</table>\n",
       "</div>"
      ]
     },
     "execution_count": 93,
     "metadata": {},
     "output_type": "execute_result"
    }
   ],
   "execution_count": 93
  },
  {
   "metadata": {
    "ExecuteTime": {
     "end_time": "2025-09-20T16:25:13.862760Z",
     "start_time": "2025-09-20T16:25:13.742986Z"
    }
   },
   "cell_type": "code",
   "source": [
    "#sorting your data\n",
    "#by index\n",
    "df2.sort_index(axis=1, ascending=False)"
   ],
   "id": "dade1492d119b6e",
   "outputs": [
    {
     "data": {
      "text/plain": [
       "     Z      E   D    C          B    A\n",
       "0  foo   test   3  1.0 2025-01-01  2.0\n",
       "1  foo  train   4  1.0 2025-01-01  2.0\n",
       "2  foo   test   5  1.0 2025-01-01  2.0\n",
       "3  foo  train   6  1.0 2025-01-01  2.0\n",
       "4  foo   test  11  1.0 2025-01-01  2.0\n",
       "5  foo  train  15  1.0 2025-01-01  2.0\n",
       "6  foo   test  20  1.0 2025-01-01  2.0\n",
       "7  foo  train  25  1.0 2025-01-01  2.0"
      ],
      "text/html": [
       "<div>\n",
       "<style scoped>\n",
       "    .dataframe tbody tr th:only-of-type {\n",
       "        vertical-align: middle;\n",
       "    }\n",
       "\n",
       "    .dataframe tbody tr th {\n",
       "        vertical-align: top;\n",
       "    }\n",
       "\n",
       "    .dataframe thead th {\n",
       "        text-align: right;\n",
       "    }\n",
       "</style>\n",
       "<table border=\"1\" class=\"dataframe\">\n",
       "  <thead>\n",
       "    <tr style=\"text-align: right;\">\n",
       "      <th></th>\n",
       "      <th>Z</th>\n",
       "      <th>E</th>\n",
       "      <th>D</th>\n",
       "      <th>C</th>\n",
       "      <th>B</th>\n",
       "      <th>A</th>\n",
       "    </tr>\n",
       "  </thead>\n",
       "  <tbody>\n",
       "    <tr>\n",
       "      <th>0</th>\n",
       "      <td>foo</td>\n",
       "      <td>test</td>\n",
       "      <td>3</td>\n",
       "      <td>1.0</td>\n",
       "      <td>2025-01-01</td>\n",
       "      <td>2.0</td>\n",
       "    </tr>\n",
       "    <tr>\n",
       "      <th>1</th>\n",
       "      <td>foo</td>\n",
       "      <td>train</td>\n",
       "      <td>4</td>\n",
       "      <td>1.0</td>\n",
       "      <td>2025-01-01</td>\n",
       "      <td>2.0</td>\n",
       "    </tr>\n",
       "    <tr>\n",
       "      <th>2</th>\n",
       "      <td>foo</td>\n",
       "      <td>test</td>\n",
       "      <td>5</td>\n",
       "      <td>1.0</td>\n",
       "      <td>2025-01-01</td>\n",
       "      <td>2.0</td>\n",
       "    </tr>\n",
       "    <tr>\n",
       "      <th>3</th>\n",
       "      <td>foo</td>\n",
       "      <td>train</td>\n",
       "      <td>6</td>\n",
       "      <td>1.0</td>\n",
       "      <td>2025-01-01</td>\n",
       "      <td>2.0</td>\n",
       "    </tr>\n",
       "    <tr>\n",
       "      <th>4</th>\n",
       "      <td>foo</td>\n",
       "      <td>test</td>\n",
       "      <td>11</td>\n",
       "      <td>1.0</td>\n",
       "      <td>2025-01-01</td>\n",
       "      <td>2.0</td>\n",
       "    </tr>\n",
       "    <tr>\n",
       "      <th>5</th>\n",
       "      <td>foo</td>\n",
       "      <td>train</td>\n",
       "      <td>15</td>\n",
       "      <td>1.0</td>\n",
       "      <td>2025-01-01</td>\n",
       "      <td>2.0</td>\n",
       "    </tr>\n",
       "    <tr>\n",
       "      <th>6</th>\n",
       "      <td>foo</td>\n",
       "      <td>test</td>\n",
       "      <td>20</td>\n",
       "      <td>1.0</td>\n",
       "      <td>2025-01-01</td>\n",
       "      <td>2.0</td>\n",
       "    </tr>\n",
       "    <tr>\n",
       "      <th>7</th>\n",
       "      <td>foo</td>\n",
       "      <td>train</td>\n",
       "      <td>25</td>\n",
       "      <td>1.0</td>\n",
       "      <td>2025-01-01</td>\n",
       "      <td>2.0</td>\n",
       "    </tr>\n",
       "  </tbody>\n",
       "</table>\n",
       "</div>"
      ]
     },
     "execution_count": 94,
     "metadata": {},
     "output_type": "execute_result"
    }
   ],
   "execution_count": 94
  },
  {
   "metadata": {
    "ExecuteTime": {
     "end_time": "2025-09-20T16:25:13.944191Z",
     "start_time": "2025-09-20T16:25:13.882177Z"
    }
   },
   "cell_type": "code",
   "source": [
    "df2.sort_values(by='D', ascending=True)\n",
    "df2.sort_values(by=['E','D'], ascending=False)"
   ],
   "id": "3deb24de23150053",
   "outputs": [
    {
     "data": {
      "text/plain": [
       "     A          B    C   D      E    Z\n",
       "7  2.0 2025-01-01  1.0  25  train  foo\n",
       "5  2.0 2025-01-01  1.0  15  train  foo\n",
       "3  2.0 2025-01-01  1.0   6  train  foo\n",
       "1  2.0 2025-01-01  1.0   4  train  foo\n",
       "6  2.0 2025-01-01  1.0  20   test  foo\n",
       "4  2.0 2025-01-01  1.0  11   test  foo\n",
       "2  2.0 2025-01-01  1.0   5   test  foo\n",
       "0  2.0 2025-01-01  1.0   3   test  foo"
      ],
      "text/html": [
       "<div>\n",
       "<style scoped>\n",
       "    .dataframe tbody tr th:only-of-type {\n",
       "        vertical-align: middle;\n",
       "    }\n",
       "\n",
       "    .dataframe tbody tr th {\n",
       "        vertical-align: top;\n",
       "    }\n",
       "\n",
       "    .dataframe thead th {\n",
       "        text-align: right;\n",
       "    }\n",
       "</style>\n",
       "<table border=\"1\" class=\"dataframe\">\n",
       "  <thead>\n",
       "    <tr style=\"text-align: right;\">\n",
       "      <th></th>\n",
       "      <th>A</th>\n",
       "      <th>B</th>\n",
       "      <th>C</th>\n",
       "      <th>D</th>\n",
       "      <th>E</th>\n",
       "      <th>Z</th>\n",
       "    </tr>\n",
       "  </thead>\n",
       "  <tbody>\n",
       "    <tr>\n",
       "      <th>7</th>\n",
       "      <td>2.0</td>\n",
       "      <td>2025-01-01</td>\n",
       "      <td>1.0</td>\n",
       "      <td>25</td>\n",
       "      <td>train</td>\n",
       "      <td>foo</td>\n",
       "    </tr>\n",
       "    <tr>\n",
       "      <th>5</th>\n",
       "      <td>2.0</td>\n",
       "      <td>2025-01-01</td>\n",
       "      <td>1.0</td>\n",
       "      <td>15</td>\n",
       "      <td>train</td>\n",
       "      <td>foo</td>\n",
       "    </tr>\n",
       "    <tr>\n",
       "      <th>3</th>\n",
       "      <td>2.0</td>\n",
       "      <td>2025-01-01</td>\n",
       "      <td>1.0</td>\n",
       "      <td>6</td>\n",
       "      <td>train</td>\n",
       "      <td>foo</td>\n",
       "    </tr>\n",
       "    <tr>\n",
       "      <th>1</th>\n",
       "      <td>2.0</td>\n",
       "      <td>2025-01-01</td>\n",
       "      <td>1.0</td>\n",
       "      <td>4</td>\n",
       "      <td>train</td>\n",
       "      <td>foo</td>\n",
       "    </tr>\n",
       "    <tr>\n",
       "      <th>6</th>\n",
       "      <td>2.0</td>\n",
       "      <td>2025-01-01</td>\n",
       "      <td>1.0</td>\n",
       "      <td>20</td>\n",
       "      <td>test</td>\n",
       "      <td>foo</td>\n",
       "    </tr>\n",
       "    <tr>\n",
       "      <th>4</th>\n",
       "      <td>2.0</td>\n",
       "      <td>2025-01-01</td>\n",
       "      <td>1.0</td>\n",
       "      <td>11</td>\n",
       "      <td>test</td>\n",
       "      <td>foo</td>\n",
       "    </tr>\n",
       "    <tr>\n",
       "      <th>2</th>\n",
       "      <td>2.0</td>\n",
       "      <td>2025-01-01</td>\n",
       "      <td>1.0</td>\n",
       "      <td>5</td>\n",
       "      <td>test</td>\n",
       "      <td>foo</td>\n",
       "    </tr>\n",
       "    <tr>\n",
       "      <th>0</th>\n",
       "      <td>2.0</td>\n",
       "      <td>2025-01-01</td>\n",
       "      <td>1.0</td>\n",
       "      <td>3</td>\n",
       "      <td>test</td>\n",
       "      <td>foo</td>\n",
       "    </tr>\n",
       "  </tbody>\n",
       "</table>\n",
       "</div>"
      ]
     },
     "execution_count": 95,
     "metadata": {},
     "output_type": "execute_result"
    }
   ],
   "execution_count": 95
  },
  {
   "metadata": {},
   "cell_type": "markdown",
   "source": "### Selection",
   "id": "7468f7083c9c93bb"
  },
  {
   "metadata": {},
   "cell_type": "markdown",
   "source": "#### GetItem([])",
   "id": "533389326ec33811"
  },
  {
   "metadata": {
    "ExecuteTime": {
     "end_time": "2025-09-20T16:25:13.990746Z",
     "start_time": "2025-09-20T16:25:13.961200Z"
    }
   },
   "cell_type": "code",
   "source": [
    "# GetItem([])\n",
    "df['A']"
   ],
   "id": "9d15ed4dcbe6ceb0",
   "outputs": [
    {
     "data": {
      "text/plain": [
       "2025-01-01   -0.685904\n",
       "2025-01-02    1.279021\n",
       "2025-01-03    0.870803\n",
       "2025-01-04    1.105289\n",
       "2025-01-05   -0.308253\n",
       "2025-01-06   -0.224270\n",
       "Freq: D, Name: A, dtype: float64"
      ]
     },
     "execution_count": 96,
     "metadata": {},
     "output_type": "execute_result"
    }
   ],
   "execution_count": 96
  },
  {
   "metadata": {
    "ExecuteTime": {
     "end_time": "2025-09-20T16:25:14.129943Z",
     "start_time": "2025-09-20T16:25:14.006291Z"
    }
   },
   "cell_type": "code",
   "source": "df[0:3]",
   "id": "770cd6e313a3d063",
   "outputs": [
    {
     "data": {
      "text/plain": [
       "                   A         B         C         D\n",
       "2025-01-01 -0.685904  0.141574 -1.374438 -0.797057\n",
       "2025-01-02  1.279021 -0.373057  0.139537  0.040292\n",
       "2025-01-03  0.870803  1.201307  1.037000  0.111405"
      ],
      "text/html": [
       "<div>\n",
       "<style scoped>\n",
       "    .dataframe tbody tr th:only-of-type {\n",
       "        vertical-align: middle;\n",
       "    }\n",
       "\n",
       "    .dataframe tbody tr th {\n",
       "        vertical-align: top;\n",
       "    }\n",
       "\n",
       "    .dataframe thead th {\n",
       "        text-align: right;\n",
       "    }\n",
       "</style>\n",
       "<table border=\"1\" class=\"dataframe\">\n",
       "  <thead>\n",
       "    <tr style=\"text-align: right;\">\n",
       "      <th></th>\n",
       "      <th>A</th>\n",
       "      <th>B</th>\n",
       "      <th>C</th>\n",
       "      <th>D</th>\n",
       "    </tr>\n",
       "  </thead>\n",
       "  <tbody>\n",
       "    <tr>\n",
       "      <th>2025-01-01</th>\n",
       "      <td>-0.685904</td>\n",
       "      <td>0.141574</td>\n",
       "      <td>-1.374438</td>\n",
       "      <td>-0.797057</td>\n",
       "    </tr>\n",
       "    <tr>\n",
       "      <th>2025-01-02</th>\n",
       "      <td>1.279021</td>\n",
       "      <td>-0.373057</td>\n",
       "      <td>0.139537</td>\n",
       "      <td>0.040292</td>\n",
       "    </tr>\n",
       "    <tr>\n",
       "      <th>2025-01-03</th>\n",
       "      <td>0.870803</td>\n",
       "      <td>1.201307</td>\n",
       "      <td>1.037000</td>\n",
       "      <td>0.111405</td>\n",
       "    </tr>\n",
       "  </tbody>\n",
       "</table>\n",
       "</div>"
      ]
     },
     "execution_count": 97,
     "metadata": {},
     "output_type": "execute_result"
    }
   ],
   "execution_count": 97
  },
  {
   "metadata": {},
   "cell_type": "markdown",
   "source": "#### Selection by label",
   "id": "5f92f97ff80cddf6"
  },
  {
   "metadata": {
    "ExecuteTime": {
     "end_time": "2025-09-20T16:25:15.482493Z",
     "start_time": "2025-09-20T16:25:15.471892Z"
    }
   },
   "cell_type": "code",
   "source": [
    "# Selection by Label\n",
    "df.loc[dates[0]]"
   ],
   "id": "ac3fb30c4365b034",
   "outputs": [
    {
     "data": {
      "text/plain": [
       "A   -0.685904\n",
       "B    0.141574\n",
       "C   -1.374438\n",
       "D   -0.797057\n",
       "Name: 2025-01-01 00:00:00, dtype: float64"
      ]
     },
     "execution_count": 98,
     "metadata": {},
     "output_type": "execute_result"
    }
   ],
   "execution_count": 98
  },
  {
   "metadata": {
    "ExecuteTime": {
     "end_time": "2025-09-20T16:25:15.548080Z",
     "start_time": "2025-09-20T16:25:15.496520Z"
    }
   },
   "cell_type": "code",
   "source": "df.loc[:, ['A', 'B']]",
   "id": "66f527963693c4d1",
   "outputs": [
    {
     "data": {
      "text/plain": [
       "                   A         B\n",
       "2025-01-01 -0.685904  0.141574\n",
       "2025-01-02  1.279021 -0.373057\n",
       "2025-01-03  0.870803  1.201307\n",
       "2025-01-04  1.105289 -0.432941\n",
       "2025-01-05 -0.308253 -1.149304\n",
       "2025-01-06 -0.224270 -0.494670"
      ],
      "text/html": [
       "<div>\n",
       "<style scoped>\n",
       "    .dataframe tbody tr th:only-of-type {\n",
       "        vertical-align: middle;\n",
       "    }\n",
       "\n",
       "    .dataframe tbody tr th {\n",
       "        vertical-align: top;\n",
       "    }\n",
       "\n",
       "    .dataframe thead th {\n",
       "        text-align: right;\n",
       "    }\n",
       "</style>\n",
       "<table border=\"1\" class=\"dataframe\">\n",
       "  <thead>\n",
       "    <tr style=\"text-align: right;\">\n",
       "      <th></th>\n",
       "      <th>A</th>\n",
       "      <th>B</th>\n",
       "    </tr>\n",
       "  </thead>\n",
       "  <tbody>\n",
       "    <tr>\n",
       "      <th>2025-01-01</th>\n",
       "      <td>-0.685904</td>\n",
       "      <td>0.141574</td>\n",
       "    </tr>\n",
       "    <tr>\n",
       "      <th>2025-01-02</th>\n",
       "      <td>1.279021</td>\n",
       "      <td>-0.373057</td>\n",
       "    </tr>\n",
       "    <tr>\n",
       "      <th>2025-01-03</th>\n",
       "      <td>0.870803</td>\n",
       "      <td>1.201307</td>\n",
       "    </tr>\n",
       "    <tr>\n",
       "      <th>2025-01-04</th>\n",
       "      <td>1.105289</td>\n",
       "      <td>-0.432941</td>\n",
       "    </tr>\n",
       "    <tr>\n",
       "      <th>2025-01-05</th>\n",
       "      <td>-0.308253</td>\n",
       "      <td>-1.149304</td>\n",
       "    </tr>\n",
       "    <tr>\n",
       "      <th>2025-01-06</th>\n",
       "      <td>-0.224270</td>\n",
       "      <td>-0.494670</td>\n",
       "    </tr>\n",
       "  </tbody>\n",
       "</table>\n",
       "</div>"
      ]
     },
     "execution_count": 99,
     "metadata": {},
     "output_type": "execute_result"
    }
   ],
   "execution_count": 99
  },
  {
   "metadata": {
    "ExecuteTime": {
     "end_time": "2025-09-20T16:25:15.627690Z",
     "start_time": "2025-09-20T16:25:15.574693Z"
    }
   },
   "cell_type": "code",
   "source": "df.loc[\"20250102\":\"20250104\", [\"A\", \"B\"]]",
   "id": "176d2d5ede10a682",
   "outputs": [
    {
     "data": {
      "text/plain": [
       "                   A         B\n",
       "2025-01-02  1.279021 -0.373057\n",
       "2025-01-03  0.870803  1.201307\n",
       "2025-01-04  1.105289 -0.432941"
      ],
      "text/html": [
       "<div>\n",
       "<style scoped>\n",
       "    .dataframe tbody tr th:only-of-type {\n",
       "        vertical-align: middle;\n",
       "    }\n",
       "\n",
       "    .dataframe tbody tr th {\n",
       "        vertical-align: top;\n",
       "    }\n",
       "\n",
       "    .dataframe thead th {\n",
       "        text-align: right;\n",
       "    }\n",
       "</style>\n",
       "<table border=\"1\" class=\"dataframe\">\n",
       "  <thead>\n",
       "    <tr style=\"text-align: right;\">\n",
       "      <th></th>\n",
       "      <th>A</th>\n",
       "      <th>B</th>\n",
       "    </tr>\n",
       "  </thead>\n",
       "  <tbody>\n",
       "    <tr>\n",
       "      <th>2025-01-02</th>\n",
       "      <td>1.279021</td>\n",
       "      <td>-0.373057</td>\n",
       "    </tr>\n",
       "    <tr>\n",
       "      <th>2025-01-03</th>\n",
       "      <td>0.870803</td>\n",
       "      <td>1.201307</td>\n",
       "    </tr>\n",
       "    <tr>\n",
       "      <th>2025-01-04</th>\n",
       "      <td>1.105289</td>\n",
       "      <td>-0.432941</td>\n",
       "    </tr>\n",
       "  </tbody>\n",
       "</table>\n",
       "</div>"
      ]
     },
     "execution_count": 100,
     "metadata": {},
     "output_type": "execute_result"
    }
   ],
   "execution_count": 100
  },
  {
   "metadata": {
    "ExecuteTime": {
     "end_time": "2025-09-20T16:25:15.691359Z",
     "start_time": "2025-09-20T16:25:15.651663Z"
    }
   },
   "cell_type": "code",
   "source": "df.loc[dates[0], 'A']",
   "id": "b3886954e4139050",
   "outputs": [
    {
     "data": {
      "text/plain": [
       "np.float64(-0.6859035050439375)"
      ]
     },
     "execution_count": 101,
     "metadata": {},
     "output_type": "execute_result"
    }
   ],
   "execution_count": 101
  },
  {
   "metadata": {},
   "cell_type": "markdown",
   "source": "#### Selection by position",
   "id": "9d2529e8f0d4efa9"
  },
  {
   "metadata": {
    "ExecuteTime": {
     "end_time": "2025-09-20T16:25:15.794561Z",
     "start_time": "2025-09-20T16:25:15.719960Z"
    }
   },
   "cell_type": "code",
   "source": "df.iloc[3]",
   "id": "a50127f572a58d56",
   "outputs": [
    {
     "data": {
      "text/plain": [
       "A    1.105289\n",
       "B   -0.432941\n",
       "C    0.815832\n",
       "D    0.754984\n",
       "Name: 2025-01-04 00:00:00, dtype: float64"
      ]
     },
     "execution_count": 102,
     "metadata": {},
     "output_type": "execute_result"
    }
   ],
   "execution_count": 102
  },
  {
   "metadata": {
    "ExecuteTime": {
     "end_time": "2025-09-20T16:25:15.858158Z",
     "start_time": "2025-09-20T16:25:15.813144Z"
    }
   },
   "cell_type": "code",
   "source": "df.iloc[3:5, 0:2]",
   "id": "71402280b520f0d5",
   "outputs": [
    {
     "data": {
      "text/plain": [
       "                   A         B\n",
       "2025-01-04  1.105289 -0.432941\n",
       "2025-01-05 -0.308253 -1.149304"
      ],
      "text/html": [
       "<div>\n",
       "<style scoped>\n",
       "    .dataframe tbody tr th:only-of-type {\n",
       "        vertical-align: middle;\n",
       "    }\n",
       "\n",
       "    .dataframe tbody tr th {\n",
       "        vertical-align: top;\n",
       "    }\n",
       "\n",
       "    .dataframe thead th {\n",
       "        text-align: right;\n",
       "    }\n",
       "</style>\n",
       "<table border=\"1\" class=\"dataframe\">\n",
       "  <thead>\n",
       "    <tr style=\"text-align: right;\">\n",
       "      <th></th>\n",
       "      <th>A</th>\n",
       "      <th>B</th>\n",
       "    </tr>\n",
       "  </thead>\n",
       "  <tbody>\n",
       "    <tr>\n",
       "      <th>2025-01-04</th>\n",
       "      <td>1.105289</td>\n",
       "      <td>-0.432941</td>\n",
       "    </tr>\n",
       "    <tr>\n",
       "      <th>2025-01-05</th>\n",
       "      <td>-0.308253</td>\n",
       "      <td>-1.149304</td>\n",
       "    </tr>\n",
       "  </tbody>\n",
       "</table>\n",
       "</div>"
      ]
     },
     "execution_count": 103,
     "metadata": {},
     "output_type": "execute_result"
    }
   ],
   "execution_count": 103
  },
  {
   "metadata": {
    "ExecuteTime": {
     "end_time": "2025-09-20T16:25:15.939146Z",
     "start_time": "2025-09-20T16:25:15.880162Z"
    }
   },
   "cell_type": "code",
   "source": "df.iloc[[1, 2, 4], [0, 2]]",
   "id": "1e35b5de4b2b497d",
   "outputs": [
    {
     "data": {
      "text/plain": [
       "                   A         C\n",
       "2025-01-02  1.279021  0.139537\n",
       "2025-01-03  0.870803  1.037000\n",
       "2025-01-05 -0.308253 -0.610502"
      ],
      "text/html": [
       "<div>\n",
       "<style scoped>\n",
       "    .dataframe tbody tr th:only-of-type {\n",
       "        vertical-align: middle;\n",
       "    }\n",
       "\n",
       "    .dataframe tbody tr th {\n",
       "        vertical-align: top;\n",
       "    }\n",
       "\n",
       "    .dataframe thead th {\n",
       "        text-align: right;\n",
       "    }\n",
       "</style>\n",
       "<table border=\"1\" class=\"dataframe\">\n",
       "  <thead>\n",
       "    <tr style=\"text-align: right;\">\n",
       "      <th></th>\n",
       "      <th>A</th>\n",
       "      <th>C</th>\n",
       "    </tr>\n",
       "  </thead>\n",
       "  <tbody>\n",
       "    <tr>\n",
       "      <th>2025-01-02</th>\n",
       "      <td>1.279021</td>\n",
       "      <td>0.139537</td>\n",
       "    </tr>\n",
       "    <tr>\n",
       "      <th>2025-01-03</th>\n",
       "      <td>0.870803</td>\n",
       "      <td>1.037000</td>\n",
       "    </tr>\n",
       "    <tr>\n",
       "      <th>2025-01-05</th>\n",
       "      <td>-0.308253</td>\n",
       "      <td>-0.610502</td>\n",
       "    </tr>\n",
       "  </tbody>\n",
       "</table>\n",
       "</div>"
      ]
     },
     "execution_count": 104,
     "metadata": {},
     "output_type": "execute_result"
    }
   ],
   "execution_count": 104
  },
  {
   "metadata": {
    "ExecuteTime": {
     "end_time": "2025-09-20T16:25:15.989143Z",
     "start_time": "2025-09-20T16:25:15.957140Z"
    }
   },
   "cell_type": "code",
   "source": "df.iloc[1:3, :]",
   "id": "1e6accfefbe0ced1",
   "outputs": [
    {
     "data": {
      "text/plain": [
       "                   A         B         C         D\n",
       "2025-01-02  1.279021 -0.373057  0.139537  0.040292\n",
       "2025-01-03  0.870803  1.201307  1.037000  0.111405"
      ],
      "text/html": [
       "<div>\n",
       "<style scoped>\n",
       "    .dataframe tbody tr th:only-of-type {\n",
       "        vertical-align: middle;\n",
       "    }\n",
       "\n",
       "    .dataframe tbody tr th {\n",
       "        vertical-align: top;\n",
       "    }\n",
       "\n",
       "    .dataframe thead th {\n",
       "        text-align: right;\n",
       "    }\n",
       "</style>\n",
       "<table border=\"1\" class=\"dataframe\">\n",
       "  <thead>\n",
       "    <tr style=\"text-align: right;\">\n",
       "      <th></th>\n",
       "      <th>A</th>\n",
       "      <th>B</th>\n",
       "      <th>C</th>\n",
       "      <th>D</th>\n",
       "    </tr>\n",
       "  </thead>\n",
       "  <tbody>\n",
       "    <tr>\n",
       "      <th>2025-01-02</th>\n",
       "      <td>1.279021</td>\n",
       "      <td>-0.373057</td>\n",
       "      <td>0.139537</td>\n",
       "      <td>0.040292</td>\n",
       "    </tr>\n",
       "    <tr>\n",
       "      <th>2025-01-03</th>\n",
       "      <td>0.870803</td>\n",
       "      <td>1.201307</td>\n",
       "      <td>1.037000</td>\n",
       "      <td>0.111405</td>\n",
       "    </tr>\n",
       "  </tbody>\n",
       "</table>\n",
       "</div>"
      ]
     },
     "execution_count": 105,
     "metadata": {},
     "output_type": "execute_result"
    }
   ],
   "execution_count": 105
  },
  {
   "metadata": {
    "ExecuteTime": {
     "end_time": "2025-09-20T16:25:16.078181Z",
     "start_time": "2025-09-20T16:25:16.023164Z"
    }
   },
   "cell_type": "code",
   "source": "df.iloc[:, 1:3]",
   "id": "5afb1e44d08b472d",
   "outputs": [
    {
     "data": {
      "text/plain": [
       "                   B         C\n",
       "2025-01-01  0.141574 -1.374438\n",
       "2025-01-02 -0.373057  0.139537\n",
       "2025-01-03  1.201307  1.037000\n",
       "2025-01-04 -0.432941  0.815832\n",
       "2025-01-05 -1.149304 -0.610502\n",
       "2025-01-06 -0.494670 -0.119892"
      ],
      "text/html": [
       "<div>\n",
       "<style scoped>\n",
       "    .dataframe tbody tr th:only-of-type {\n",
       "        vertical-align: middle;\n",
       "    }\n",
       "\n",
       "    .dataframe tbody tr th {\n",
       "        vertical-align: top;\n",
       "    }\n",
       "\n",
       "    .dataframe thead th {\n",
       "        text-align: right;\n",
       "    }\n",
       "</style>\n",
       "<table border=\"1\" class=\"dataframe\">\n",
       "  <thead>\n",
       "    <tr style=\"text-align: right;\">\n",
       "      <th></th>\n",
       "      <th>B</th>\n",
       "      <th>C</th>\n",
       "    </tr>\n",
       "  </thead>\n",
       "  <tbody>\n",
       "    <tr>\n",
       "      <th>2025-01-01</th>\n",
       "      <td>0.141574</td>\n",
       "      <td>-1.374438</td>\n",
       "    </tr>\n",
       "    <tr>\n",
       "      <th>2025-01-02</th>\n",
       "      <td>-0.373057</td>\n",
       "      <td>0.139537</td>\n",
       "    </tr>\n",
       "    <tr>\n",
       "      <th>2025-01-03</th>\n",
       "      <td>1.201307</td>\n",
       "      <td>1.037000</td>\n",
       "    </tr>\n",
       "    <tr>\n",
       "      <th>2025-01-04</th>\n",
       "      <td>-0.432941</td>\n",
       "      <td>0.815832</td>\n",
       "    </tr>\n",
       "    <tr>\n",
       "      <th>2025-01-05</th>\n",
       "      <td>-1.149304</td>\n",
       "      <td>-0.610502</td>\n",
       "    </tr>\n",
       "    <tr>\n",
       "      <th>2025-01-06</th>\n",
       "      <td>-0.494670</td>\n",
       "      <td>-0.119892</td>\n",
       "    </tr>\n",
       "  </tbody>\n",
       "</table>\n",
       "</div>"
      ]
     },
     "execution_count": 106,
     "metadata": {},
     "output_type": "execute_result"
    }
   ],
   "execution_count": 106
  },
  {
   "metadata": {
    "ExecuteTime": {
     "end_time": "2025-09-20T16:25:16.116729Z",
     "start_time": "2025-09-20T16:25:16.093171Z"
    }
   },
   "cell_type": "code",
   "source": "df.iloc[2,2]",
   "id": "65574b1ab02b0d4b",
   "outputs": [
    {
     "data": {
      "text/plain": [
       "np.float64(1.0370003281467157)"
      ]
     },
     "execution_count": 107,
     "metadata": {},
     "output_type": "execute_result"
    }
   ],
   "execution_count": 107
  },
  {
   "metadata": {
    "ExecuteTime": {
     "end_time": "2025-09-20T16:25:16.154921Z",
     "start_time": "2025-09-20T16:25:16.128724Z"
    }
   },
   "cell_type": "code",
   "source": "df.iat[2,2]",
   "id": "d1c932aa297c6faa",
   "outputs": [
    {
     "data": {
      "text/plain": [
       "np.float64(1.0370003281467157)"
      ]
     },
     "execution_count": 108,
     "metadata": {},
     "output_type": "execute_result"
    }
   ],
   "execution_count": 108
  },
  {
   "metadata": {},
   "cell_type": "markdown",
   "source": "#### Boolean Indexing",
   "id": "4a305f09a4f93dc6"
  },
  {
   "metadata": {
    "ExecuteTime": {
     "end_time": "2025-09-20T16:25:16.192779Z",
     "start_time": "2025-09-20T16:25:16.167918Z"
    }
   },
   "cell_type": "code",
   "source": "df[df[\"A\"] > 0]",
   "id": "a248ddad94757930",
   "outputs": [
    {
     "data": {
      "text/plain": [
       "                   A         B         C         D\n",
       "2025-01-02  1.279021 -0.373057  0.139537  0.040292\n",
       "2025-01-03  0.870803  1.201307  1.037000  0.111405\n",
       "2025-01-04  1.105289 -0.432941  0.815832  0.754984"
      ],
      "text/html": [
       "<div>\n",
       "<style scoped>\n",
       "    .dataframe tbody tr th:only-of-type {\n",
       "        vertical-align: middle;\n",
       "    }\n",
       "\n",
       "    .dataframe tbody tr th {\n",
       "        vertical-align: top;\n",
       "    }\n",
       "\n",
       "    .dataframe thead th {\n",
       "        text-align: right;\n",
       "    }\n",
       "</style>\n",
       "<table border=\"1\" class=\"dataframe\">\n",
       "  <thead>\n",
       "    <tr style=\"text-align: right;\">\n",
       "      <th></th>\n",
       "      <th>A</th>\n",
       "      <th>B</th>\n",
       "      <th>C</th>\n",
       "      <th>D</th>\n",
       "    </tr>\n",
       "  </thead>\n",
       "  <tbody>\n",
       "    <tr>\n",
       "      <th>2025-01-02</th>\n",
       "      <td>1.279021</td>\n",
       "      <td>-0.373057</td>\n",
       "      <td>0.139537</td>\n",
       "      <td>0.040292</td>\n",
       "    </tr>\n",
       "    <tr>\n",
       "      <th>2025-01-03</th>\n",
       "      <td>0.870803</td>\n",
       "      <td>1.201307</td>\n",
       "      <td>1.037000</td>\n",
       "      <td>0.111405</td>\n",
       "    </tr>\n",
       "    <tr>\n",
       "      <th>2025-01-04</th>\n",
       "      <td>1.105289</td>\n",
       "      <td>-0.432941</td>\n",
       "      <td>0.815832</td>\n",
       "      <td>0.754984</td>\n",
       "    </tr>\n",
       "  </tbody>\n",
       "</table>\n",
       "</div>"
      ]
     },
     "execution_count": 109,
     "metadata": {},
     "output_type": "execute_result"
    }
   ],
   "execution_count": 109
  },
  {
   "metadata": {
    "ExecuteTime": {
     "end_time": "2025-09-20T16:25:16.295831Z",
     "start_time": "2025-09-20T16:25:16.212778Z"
    }
   },
   "cell_type": "code",
   "source": "df[df > 0]",
   "id": "1276d50a4fae365d",
   "outputs": [
    {
     "data": {
      "text/plain": [
       "                   A         B         C         D\n",
       "2025-01-01       NaN  0.141574       NaN       NaN\n",
       "2025-01-02  1.279021       NaN  0.139537  0.040292\n",
       "2025-01-03  0.870803  1.201307  1.037000  0.111405\n",
       "2025-01-04  1.105289       NaN  0.815832  0.754984\n",
       "2025-01-05       NaN       NaN       NaN  0.344888\n",
       "2025-01-06       NaN       NaN       NaN  1.511535"
      ],
      "text/html": [
       "<div>\n",
       "<style scoped>\n",
       "    .dataframe tbody tr th:only-of-type {\n",
       "        vertical-align: middle;\n",
       "    }\n",
       "\n",
       "    .dataframe tbody tr th {\n",
       "        vertical-align: top;\n",
       "    }\n",
       "\n",
       "    .dataframe thead th {\n",
       "        text-align: right;\n",
       "    }\n",
       "</style>\n",
       "<table border=\"1\" class=\"dataframe\">\n",
       "  <thead>\n",
       "    <tr style=\"text-align: right;\">\n",
       "      <th></th>\n",
       "      <th>A</th>\n",
       "      <th>B</th>\n",
       "      <th>C</th>\n",
       "      <th>D</th>\n",
       "    </tr>\n",
       "  </thead>\n",
       "  <tbody>\n",
       "    <tr>\n",
       "      <th>2025-01-01</th>\n",
       "      <td>NaN</td>\n",
       "      <td>0.141574</td>\n",
       "      <td>NaN</td>\n",
       "      <td>NaN</td>\n",
       "    </tr>\n",
       "    <tr>\n",
       "      <th>2025-01-02</th>\n",
       "      <td>1.279021</td>\n",
       "      <td>NaN</td>\n",
       "      <td>0.139537</td>\n",
       "      <td>0.040292</td>\n",
       "    </tr>\n",
       "    <tr>\n",
       "      <th>2025-01-03</th>\n",
       "      <td>0.870803</td>\n",
       "      <td>1.201307</td>\n",
       "      <td>1.037000</td>\n",
       "      <td>0.111405</td>\n",
       "    </tr>\n",
       "    <tr>\n",
       "      <th>2025-01-04</th>\n",
       "      <td>1.105289</td>\n",
       "      <td>NaN</td>\n",
       "      <td>0.815832</td>\n",
       "      <td>0.754984</td>\n",
       "    </tr>\n",
       "    <tr>\n",
       "      <th>2025-01-05</th>\n",
       "      <td>NaN</td>\n",
       "      <td>NaN</td>\n",
       "      <td>NaN</td>\n",
       "      <td>0.344888</td>\n",
       "    </tr>\n",
       "    <tr>\n",
       "      <th>2025-01-06</th>\n",
       "      <td>NaN</td>\n",
       "      <td>NaN</td>\n",
       "      <td>NaN</td>\n",
       "      <td>1.511535</td>\n",
       "    </tr>\n",
       "  </tbody>\n",
       "</table>\n",
       "</div>"
      ]
     },
     "execution_count": 110,
     "metadata": {},
     "output_type": "execute_result"
    }
   ],
   "execution_count": 110
  },
  {
   "metadata": {
    "ExecuteTime": {
     "end_time": "2025-09-20T16:25:16.413027Z",
     "start_time": "2025-09-20T16:25:16.388868Z"
    }
   },
   "cell_type": "code",
   "source": [
    "df3 = df.copy()\n",
    "\n",
    "df3['E'] = [\"one\", \"two\", \"three\", \"four\", \"one\", \"four\"]\n",
    "df3"
   ],
   "id": "bd9043dc56cb3b40",
   "outputs": [
    {
     "data": {
      "text/plain": [
       "                   A         B         C         D      E\n",
       "2025-01-01 -0.685904  0.141574 -1.374438 -0.797057    one\n",
       "2025-01-02  1.279021 -0.373057  0.139537  0.040292    two\n",
       "2025-01-03  0.870803  1.201307  1.037000  0.111405  three\n",
       "2025-01-04  1.105289 -0.432941  0.815832  0.754984   four\n",
       "2025-01-05 -0.308253 -1.149304 -0.610502  0.344888    one\n",
       "2025-01-06 -0.224270 -0.494670 -0.119892  1.511535   four"
      ],
      "text/html": [
       "<div>\n",
       "<style scoped>\n",
       "    .dataframe tbody tr th:only-of-type {\n",
       "        vertical-align: middle;\n",
       "    }\n",
       "\n",
       "    .dataframe tbody tr th {\n",
       "        vertical-align: top;\n",
       "    }\n",
       "\n",
       "    .dataframe thead th {\n",
       "        text-align: right;\n",
       "    }\n",
       "</style>\n",
       "<table border=\"1\" class=\"dataframe\">\n",
       "  <thead>\n",
       "    <tr style=\"text-align: right;\">\n",
       "      <th></th>\n",
       "      <th>A</th>\n",
       "      <th>B</th>\n",
       "      <th>C</th>\n",
       "      <th>D</th>\n",
       "      <th>E</th>\n",
       "    </tr>\n",
       "  </thead>\n",
       "  <tbody>\n",
       "    <tr>\n",
       "      <th>2025-01-01</th>\n",
       "      <td>-0.685904</td>\n",
       "      <td>0.141574</td>\n",
       "      <td>-1.374438</td>\n",
       "      <td>-0.797057</td>\n",
       "      <td>one</td>\n",
       "    </tr>\n",
       "    <tr>\n",
       "      <th>2025-01-02</th>\n",
       "      <td>1.279021</td>\n",
       "      <td>-0.373057</td>\n",
       "      <td>0.139537</td>\n",
       "      <td>0.040292</td>\n",
       "      <td>two</td>\n",
       "    </tr>\n",
       "    <tr>\n",
       "      <th>2025-01-03</th>\n",
       "      <td>0.870803</td>\n",
       "      <td>1.201307</td>\n",
       "      <td>1.037000</td>\n",
       "      <td>0.111405</td>\n",
       "      <td>three</td>\n",
       "    </tr>\n",
       "    <tr>\n",
       "      <th>2025-01-04</th>\n",
       "      <td>1.105289</td>\n",
       "      <td>-0.432941</td>\n",
       "      <td>0.815832</td>\n",
       "      <td>0.754984</td>\n",
       "      <td>four</td>\n",
       "    </tr>\n",
       "    <tr>\n",
       "      <th>2025-01-05</th>\n",
       "      <td>-0.308253</td>\n",
       "      <td>-1.149304</td>\n",
       "      <td>-0.610502</td>\n",
       "      <td>0.344888</td>\n",
       "      <td>one</td>\n",
       "    </tr>\n",
       "    <tr>\n",
       "      <th>2025-01-06</th>\n",
       "      <td>-0.224270</td>\n",
       "      <td>-0.494670</td>\n",
       "      <td>-0.119892</td>\n",
       "      <td>1.511535</td>\n",
       "      <td>four</td>\n",
       "    </tr>\n",
       "  </tbody>\n",
       "</table>\n",
       "</div>"
      ]
     },
     "execution_count": 111,
     "metadata": {},
     "output_type": "execute_result"
    }
   ],
   "execution_count": 111
  },
  {
   "metadata": {
    "ExecuteTime": {
     "end_time": "2025-09-20T16:25:16.551055Z",
     "start_time": "2025-09-20T16:25:16.529066Z"
    }
   },
   "cell_type": "code",
   "source": "df3[df3['E'].isin(['one', 'four'])]",
   "id": "525d502056d53b89",
   "outputs": [
    {
     "data": {
      "text/plain": [
       "                   A         B         C         D     E\n",
       "2025-01-01 -0.685904  0.141574 -1.374438 -0.797057   one\n",
       "2025-01-04  1.105289 -0.432941  0.815832  0.754984  four\n",
       "2025-01-05 -0.308253 -1.149304 -0.610502  0.344888   one\n",
       "2025-01-06 -0.224270 -0.494670 -0.119892  1.511535  four"
      ],
      "text/html": [
       "<div>\n",
       "<style scoped>\n",
       "    .dataframe tbody tr th:only-of-type {\n",
       "        vertical-align: middle;\n",
       "    }\n",
       "\n",
       "    .dataframe tbody tr th {\n",
       "        vertical-align: top;\n",
       "    }\n",
       "\n",
       "    .dataframe thead th {\n",
       "        text-align: right;\n",
       "    }\n",
       "</style>\n",
       "<table border=\"1\" class=\"dataframe\">\n",
       "  <thead>\n",
       "    <tr style=\"text-align: right;\">\n",
       "      <th></th>\n",
       "      <th>A</th>\n",
       "      <th>B</th>\n",
       "      <th>C</th>\n",
       "      <th>D</th>\n",
       "      <th>E</th>\n",
       "    </tr>\n",
       "  </thead>\n",
       "  <tbody>\n",
       "    <tr>\n",
       "      <th>2025-01-01</th>\n",
       "      <td>-0.685904</td>\n",
       "      <td>0.141574</td>\n",
       "      <td>-1.374438</td>\n",
       "      <td>-0.797057</td>\n",
       "      <td>one</td>\n",
       "    </tr>\n",
       "    <tr>\n",
       "      <th>2025-01-04</th>\n",
       "      <td>1.105289</td>\n",
       "      <td>-0.432941</td>\n",
       "      <td>0.815832</td>\n",
       "      <td>0.754984</td>\n",
       "      <td>four</td>\n",
       "    </tr>\n",
       "    <tr>\n",
       "      <th>2025-01-05</th>\n",
       "      <td>-0.308253</td>\n",
       "      <td>-1.149304</td>\n",
       "      <td>-0.610502</td>\n",
       "      <td>0.344888</td>\n",
       "      <td>one</td>\n",
       "    </tr>\n",
       "    <tr>\n",
       "      <th>2025-01-06</th>\n",
       "      <td>-0.224270</td>\n",
       "      <td>-0.494670</td>\n",
       "      <td>-0.119892</td>\n",
       "      <td>1.511535</td>\n",
       "      <td>four</td>\n",
       "    </tr>\n",
       "  </tbody>\n",
       "</table>\n",
       "</div>"
      ]
     },
     "execution_count": 112,
     "metadata": {},
     "output_type": "execute_result"
    }
   ],
   "execution_count": 112
  },
  {
   "metadata": {},
   "cell_type": "markdown",
   "source": "#### Setting",
   "id": "c4f84696218836e7"
  },
  {
   "metadata": {
    "ExecuteTime": {
     "end_time": "2025-09-20T16:25:16.668060Z",
     "start_time": "2025-09-20T16:25:16.650051Z"
    }
   },
   "cell_type": "code",
   "source": [
    "s1 = pd.Series([1,2,3,4,5,6], index=pd.date_range(\"20250102\", periods=6))\n",
    "s1"
   ],
   "id": "a0cd4d072a75a4e9",
   "outputs": [
    {
     "data": {
      "text/plain": [
       "2025-01-02    1\n",
       "2025-01-03    2\n",
       "2025-01-04    3\n",
       "2025-01-05    4\n",
       "2025-01-06    5\n",
       "2025-01-07    6\n",
       "Freq: D, dtype: int64"
      ]
     },
     "execution_count": 113,
     "metadata": {},
     "output_type": "execute_result"
    }
   ],
   "execution_count": 113
  },
  {
   "metadata": {
    "ExecuteTime": {
     "end_time": "2025-09-20T16:25:17.049867Z",
     "start_time": "2025-09-20T16:25:17.026665Z"
    }
   },
   "cell_type": "code",
   "source": [
    "df['F'] = s1\n",
    "df"
   ],
   "id": "41b231f90ddd3bea",
   "outputs": [
    {
     "data": {
      "text/plain": [
       "                   A         B         C         D    F\n",
       "2025-01-01 -0.685904  0.141574 -1.374438 -0.797057  NaN\n",
       "2025-01-02  1.279021 -0.373057  0.139537  0.040292  1.0\n",
       "2025-01-03  0.870803  1.201307  1.037000  0.111405  2.0\n",
       "2025-01-04  1.105289 -0.432941  0.815832  0.754984  3.0\n",
       "2025-01-05 -0.308253 -1.149304 -0.610502  0.344888  4.0\n",
       "2025-01-06 -0.224270 -0.494670 -0.119892  1.511535  5.0"
      ],
      "text/html": [
       "<div>\n",
       "<style scoped>\n",
       "    .dataframe tbody tr th:only-of-type {\n",
       "        vertical-align: middle;\n",
       "    }\n",
       "\n",
       "    .dataframe tbody tr th {\n",
       "        vertical-align: top;\n",
       "    }\n",
       "\n",
       "    .dataframe thead th {\n",
       "        text-align: right;\n",
       "    }\n",
       "</style>\n",
       "<table border=\"1\" class=\"dataframe\">\n",
       "  <thead>\n",
       "    <tr style=\"text-align: right;\">\n",
       "      <th></th>\n",
       "      <th>A</th>\n",
       "      <th>B</th>\n",
       "      <th>C</th>\n",
       "      <th>D</th>\n",
       "      <th>F</th>\n",
       "    </tr>\n",
       "  </thead>\n",
       "  <tbody>\n",
       "    <tr>\n",
       "      <th>2025-01-01</th>\n",
       "      <td>-0.685904</td>\n",
       "      <td>0.141574</td>\n",
       "      <td>-1.374438</td>\n",
       "      <td>-0.797057</td>\n",
       "      <td>NaN</td>\n",
       "    </tr>\n",
       "    <tr>\n",
       "      <th>2025-01-02</th>\n",
       "      <td>1.279021</td>\n",
       "      <td>-0.373057</td>\n",
       "      <td>0.139537</td>\n",
       "      <td>0.040292</td>\n",
       "      <td>1.0</td>\n",
       "    </tr>\n",
       "    <tr>\n",
       "      <th>2025-01-03</th>\n",
       "      <td>0.870803</td>\n",
       "      <td>1.201307</td>\n",
       "      <td>1.037000</td>\n",
       "      <td>0.111405</td>\n",
       "      <td>2.0</td>\n",
       "    </tr>\n",
       "    <tr>\n",
       "      <th>2025-01-04</th>\n",
       "      <td>1.105289</td>\n",
       "      <td>-0.432941</td>\n",
       "      <td>0.815832</td>\n",
       "      <td>0.754984</td>\n",
       "      <td>3.0</td>\n",
       "    </tr>\n",
       "    <tr>\n",
       "      <th>2025-01-05</th>\n",
       "      <td>-0.308253</td>\n",
       "      <td>-1.149304</td>\n",
       "      <td>-0.610502</td>\n",
       "      <td>0.344888</td>\n",
       "      <td>4.0</td>\n",
       "    </tr>\n",
       "    <tr>\n",
       "      <th>2025-01-06</th>\n",
       "      <td>-0.224270</td>\n",
       "      <td>-0.494670</td>\n",
       "      <td>-0.119892</td>\n",
       "      <td>1.511535</td>\n",
       "      <td>5.0</td>\n",
       "    </tr>\n",
       "  </tbody>\n",
       "</table>\n",
       "</div>"
      ]
     },
     "execution_count": 114,
     "metadata": {},
     "output_type": "execute_result"
    }
   ],
   "execution_count": 114
  },
  {
   "metadata": {
    "ExecuteTime": {
     "end_time": "2025-09-20T16:25:18.155064Z",
     "start_time": "2025-09-20T16:25:18.134051Z"
    }
   },
   "cell_type": "code",
   "source": [
    "df.at[dates[0], 'A'] = 0\n",
    "df"
   ],
   "id": "f76fc65402453134",
   "outputs": [
    {
     "data": {
      "text/plain": [
       "                   A         B         C         D    F\n",
       "2025-01-01  0.000000  0.141574 -1.374438 -0.797057  NaN\n",
       "2025-01-02  1.279021 -0.373057  0.139537  0.040292  1.0\n",
       "2025-01-03  0.870803  1.201307  1.037000  0.111405  2.0\n",
       "2025-01-04  1.105289 -0.432941  0.815832  0.754984  3.0\n",
       "2025-01-05 -0.308253 -1.149304 -0.610502  0.344888  4.0\n",
       "2025-01-06 -0.224270 -0.494670 -0.119892  1.511535  5.0"
      ],
      "text/html": [
       "<div>\n",
       "<style scoped>\n",
       "    .dataframe tbody tr th:only-of-type {\n",
       "        vertical-align: middle;\n",
       "    }\n",
       "\n",
       "    .dataframe tbody tr th {\n",
       "        vertical-align: top;\n",
       "    }\n",
       "\n",
       "    .dataframe thead th {\n",
       "        text-align: right;\n",
       "    }\n",
       "</style>\n",
       "<table border=\"1\" class=\"dataframe\">\n",
       "  <thead>\n",
       "    <tr style=\"text-align: right;\">\n",
       "      <th></th>\n",
       "      <th>A</th>\n",
       "      <th>B</th>\n",
       "      <th>C</th>\n",
       "      <th>D</th>\n",
       "      <th>F</th>\n",
       "    </tr>\n",
       "  </thead>\n",
       "  <tbody>\n",
       "    <tr>\n",
       "      <th>2025-01-01</th>\n",
       "      <td>0.000000</td>\n",
       "      <td>0.141574</td>\n",
       "      <td>-1.374438</td>\n",
       "      <td>-0.797057</td>\n",
       "      <td>NaN</td>\n",
       "    </tr>\n",
       "    <tr>\n",
       "      <th>2025-01-02</th>\n",
       "      <td>1.279021</td>\n",
       "      <td>-0.373057</td>\n",
       "      <td>0.139537</td>\n",
       "      <td>0.040292</td>\n",
       "      <td>1.0</td>\n",
       "    </tr>\n",
       "    <tr>\n",
       "      <th>2025-01-03</th>\n",
       "      <td>0.870803</td>\n",
       "      <td>1.201307</td>\n",
       "      <td>1.037000</td>\n",
       "      <td>0.111405</td>\n",
       "      <td>2.0</td>\n",
       "    </tr>\n",
       "    <tr>\n",
       "      <th>2025-01-04</th>\n",
       "      <td>1.105289</td>\n",
       "      <td>-0.432941</td>\n",
       "      <td>0.815832</td>\n",
       "      <td>0.754984</td>\n",
       "      <td>3.0</td>\n",
       "    </tr>\n",
       "    <tr>\n",
       "      <th>2025-01-05</th>\n",
       "      <td>-0.308253</td>\n",
       "      <td>-1.149304</td>\n",
       "      <td>-0.610502</td>\n",
       "      <td>0.344888</td>\n",
       "      <td>4.0</td>\n",
       "    </tr>\n",
       "    <tr>\n",
       "      <th>2025-01-06</th>\n",
       "      <td>-0.224270</td>\n",
       "      <td>-0.494670</td>\n",
       "      <td>-0.119892</td>\n",
       "      <td>1.511535</td>\n",
       "      <td>5.0</td>\n",
       "    </tr>\n",
       "  </tbody>\n",
       "</table>\n",
       "</div>"
      ]
     },
     "execution_count": 115,
     "metadata": {},
     "output_type": "execute_result"
    }
   ],
   "execution_count": 115
  },
  {
   "metadata": {
    "ExecuteTime": {
     "end_time": "2025-09-20T16:25:18.758054Z",
     "start_time": "2025-09-20T16:25:18.734046Z"
    }
   },
   "cell_type": "code",
   "source": [
    "df.iat[0, 1] = 0\n",
    "df"
   ],
   "id": "c5c11656e0b68b1b",
   "outputs": [
    {
     "data": {
      "text/plain": [
       "                   A         B         C         D    F\n",
       "2025-01-01  0.000000  0.000000 -1.374438 -0.797057  NaN\n",
       "2025-01-02  1.279021 -0.373057  0.139537  0.040292  1.0\n",
       "2025-01-03  0.870803  1.201307  1.037000  0.111405  2.0\n",
       "2025-01-04  1.105289 -0.432941  0.815832  0.754984  3.0\n",
       "2025-01-05 -0.308253 -1.149304 -0.610502  0.344888  4.0\n",
       "2025-01-06 -0.224270 -0.494670 -0.119892  1.511535  5.0"
      ],
      "text/html": [
       "<div>\n",
       "<style scoped>\n",
       "    .dataframe tbody tr th:only-of-type {\n",
       "        vertical-align: middle;\n",
       "    }\n",
       "\n",
       "    .dataframe tbody tr th {\n",
       "        vertical-align: top;\n",
       "    }\n",
       "\n",
       "    .dataframe thead th {\n",
       "        text-align: right;\n",
       "    }\n",
       "</style>\n",
       "<table border=\"1\" class=\"dataframe\">\n",
       "  <thead>\n",
       "    <tr style=\"text-align: right;\">\n",
       "      <th></th>\n",
       "      <th>A</th>\n",
       "      <th>B</th>\n",
       "      <th>C</th>\n",
       "      <th>D</th>\n",
       "      <th>F</th>\n",
       "    </tr>\n",
       "  </thead>\n",
       "  <tbody>\n",
       "    <tr>\n",
       "      <th>2025-01-01</th>\n",
       "      <td>0.000000</td>\n",
       "      <td>0.000000</td>\n",
       "      <td>-1.374438</td>\n",
       "      <td>-0.797057</td>\n",
       "      <td>NaN</td>\n",
       "    </tr>\n",
       "    <tr>\n",
       "      <th>2025-01-02</th>\n",
       "      <td>1.279021</td>\n",
       "      <td>-0.373057</td>\n",
       "      <td>0.139537</td>\n",
       "      <td>0.040292</td>\n",
       "      <td>1.0</td>\n",
       "    </tr>\n",
       "    <tr>\n",
       "      <th>2025-01-03</th>\n",
       "      <td>0.870803</td>\n",
       "      <td>1.201307</td>\n",
       "      <td>1.037000</td>\n",
       "      <td>0.111405</td>\n",
       "      <td>2.0</td>\n",
       "    </tr>\n",
       "    <tr>\n",
       "      <th>2025-01-04</th>\n",
       "      <td>1.105289</td>\n",
       "      <td>-0.432941</td>\n",
       "      <td>0.815832</td>\n",
       "      <td>0.754984</td>\n",
       "      <td>3.0</td>\n",
       "    </tr>\n",
       "    <tr>\n",
       "      <th>2025-01-05</th>\n",
       "      <td>-0.308253</td>\n",
       "      <td>-1.149304</td>\n",
       "      <td>-0.610502</td>\n",
       "      <td>0.344888</td>\n",
       "      <td>4.0</td>\n",
       "    </tr>\n",
       "    <tr>\n",
       "      <th>2025-01-06</th>\n",
       "      <td>-0.224270</td>\n",
       "      <td>-0.494670</td>\n",
       "      <td>-0.119892</td>\n",
       "      <td>1.511535</td>\n",
       "      <td>5.0</td>\n",
       "    </tr>\n",
       "  </tbody>\n",
       "</table>\n",
       "</div>"
      ]
     },
     "execution_count": 116,
     "metadata": {},
     "output_type": "execute_result"
    }
   ],
   "execution_count": 116
  },
  {
   "metadata": {
    "ExecuteTime": {
     "end_time": "2025-09-20T16:25:20.375703Z",
     "start_time": "2025-09-20T16:25:20.026244Z"
    }
   },
   "cell_type": "code",
   "source": [
    "df.loc[:, \"D\"] = np.array([5] * len(df))\n",
    "df"
   ],
   "id": "ce222de700375366",
   "outputs": [
    {
     "data": {
      "text/plain": [
       "                   A         B         C    D    F\n",
       "2025-01-01  0.000000  0.000000 -1.374438  5.0  NaN\n",
       "2025-01-02  1.279021 -0.373057  0.139537  5.0  1.0\n",
       "2025-01-03  0.870803  1.201307  1.037000  5.0  2.0\n",
       "2025-01-04  1.105289 -0.432941  0.815832  5.0  3.0\n",
       "2025-01-05 -0.308253 -1.149304 -0.610502  5.0  4.0\n",
       "2025-01-06 -0.224270 -0.494670 -0.119892  5.0  5.0"
      ],
      "text/html": [
       "<div>\n",
       "<style scoped>\n",
       "    .dataframe tbody tr th:only-of-type {\n",
       "        vertical-align: middle;\n",
       "    }\n",
       "\n",
       "    .dataframe tbody tr th {\n",
       "        vertical-align: top;\n",
       "    }\n",
       "\n",
       "    .dataframe thead th {\n",
       "        text-align: right;\n",
       "    }\n",
       "</style>\n",
       "<table border=\"1\" class=\"dataframe\">\n",
       "  <thead>\n",
       "    <tr style=\"text-align: right;\">\n",
       "      <th></th>\n",
       "      <th>A</th>\n",
       "      <th>B</th>\n",
       "      <th>C</th>\n",
       "      <th>D</th>\n",
       "      <th>F</th>\n",
       "    </tr>\n",
       "  </thead>\n",
       "  <tbody>\n",
       "    <tr>\n",
       "      <th>2025-01-01</th>\n",
       "      <td>0.000000</td>\n",
       "      <td>0.000000</td>\n",
       "      <td>-1.374438</td>\n",
       "      <td>5.0</td>\n",
       "      <td>NaN</td>\n",
       "    </tr>\n",
       "    <tr>\n",
       "      <th>2025-01-02</th>\n",
       "      <td>1.279021</td>\n",
       "      <td>-0.373057</td>\n",
       "      <td>0.139537</td>\n",
       "      <td>5.0</td>\n",
       "      <td>1.0</td>\n",
       "    </tr>\n",
       "    <tr>\n",
       "      <th>2025-01-03</th>\n",
       "      <td>0.870803</td>\n",
       "      <td>1.201307</td>\n",
       "      <td>1.037000</td>\n",
       "      <td>5.0</td>\n",
       "      <td>2.0</td>\n",
       "    </tr>\n",
       "    <tr>\n",
       "      <th>2025-01-04</th>\n",
       "      <td>1.105289</td>\n",
       "      <td>-0.432941</td>\n",
       "      <td>0.815832</td>\n",
       "      <td>5.0</td>\n",
       "      <td>3.0</td>\n",
       "    </tr>\n",
       "    <tr>\n",
       "      <th>2025-01-05</th>\n",
       "      <td>-0.308253</td>\n",
       "      <td>-1.149304</td>\n",
       "      <td>-0.610502</td>\n",
       "      <td>5.0</td>\n",
       "      <td>4.0</td>\n",
       "    </tr>\n",
       "    <tr>\n",
       "      <th>2025-01-06</th>\n",
       "      <td>-0.224270</td>\n",
       "      <td>-0.494670</td>\n",
       "      <td>-0.119892</td>\n",
       "      <td>5.0</td>\n",
       "      <td>5.0</td>\n",
       "    </tr>\n",
       "  </tbody>\n",
       "</table>\n",
       "</div>"
      ]
     },
     "execution_count": 117,
     "metadata": {},
     "output_type": "execute_result"
    }
   ],
   "execution_count": 117
  },
  {
   "metadata": {
    "ExecuteTime": {
     "end_time": "2025-09-20T16:25:20.726658Z",
     "start_time": "2025-09-20T16:25:20.670913Z"
    }
   },
   "cell_type": "code",
   "source": [
    "df4 = df.copy()\n",
    "df4[df4 > 0] = -df4\n",
    "df4"
   ],
   "id": "64810f57cbba0a54",
   "outputs": [
    {
     "data": {
      "text/plain": [
       "                   A         B         C    D    F\n",
       "2025-01-01  0.000000  0.000000 -1.374438 -5.0  NaN\n",
       "2025-01-02 -1.279021 -0.373057 -0.139537 -5.0 -1.0\n",
       "2025-01-03 -0.870803 -1.201307 -1.037000 -5.0 -2.0\n",
       "2025-01-04 -1.105289 -0.432941 -0.815832 -5.0 -3.0\n",
       "2025-01-05 -0.308253 -1.149304 -0.610502 -5.0 -4.0\n",
       "2025-01-06 -0.224270 -0.494670 -0.119892 -5.0 -5.0"
      ],
      "text/html": [
       "<div>\n",
       "<style scoped>\n",
       "    .dataframe tbody tr th:only-of-type {\n",
       "        vertical-align: middle;\n",
       "    }\n",
       "\n",
       "    .dataframe tbody tr th {\n",
       "        vertical-align: top;\n",
       "    }\n",
       "\n",
       "    .dataframe thead th {\n",
       "        text-align: right;\n",
       "    }\n",
       "</style>\n",
       "<table border=\"1\" class=\"dataframe\">\n",
       "  <thead>\n",
       "    <tr style=\"text-align: right;\">\n",
       "      <th></th>\n",
       "      <th>A</th>\n",
       "      <th>B</th>\n",
       "      <th>C</th>\n",
       "      <th>D</th>\n",
       "      <th>F</th>\n",
       "    </tr>\n",
       "  </thead>\n",
       "  <tbody>\n",
       "    <tr>\n",
       "      <th>2025-01-01</th>\n",
       "      <td>0.000000</td>\n",
       "      <td>0.000000</td>\n",
       "      <td>-1.374438</td>\n",
       "      <td>-5.0</td>\n",
       "      <td>NaN</td>\n",
       "    </tr>\n",
       "    <tr>\n",
       "      <th>2025-01-02</th>\n",
       "      <td>-1.279021</td>\n",
       "      <td>-0.373057</td>\n",
       "      <td>-0.139537</td>\n",
       "      <td>-5.0</td>\n",
       "      <td>-1.0</td>\n",
       "    </tr>\n",
       "    <tr>\n",
       "      <th>2025-01-03</th>\n",
       "      <td>-0.870803</td>\n",
       "      <td>-1.201307</td>\n",
       "      <td>-1.037000</td>\n",
       "      <td>-5.0</td>\n",
       "      <td>-2.0</td>\n",
       "    </tr>\n",
       "    <tr>\n",
       "      <th>2025-01-04</th>\n",
       "      <td>-1.105289</td>\n",
       "      <td>-0.432941</td>\n",
       "      <td>-0.815832</td>\n",
       "      <td>-5.0</td>\n",
       "      <td>-3.0</td>\n",
       "    </tr>\n",
       "    <tr>\n",
       "      <th>2025-01-05</th>\n",
       "      <td>-0.308253</td>\n",
       "      <td>-1.149304</td>\n",
       "      <td>-0.610502</td>\n",
       "      <td>-5.0</td>\n",
       "      <td>-4.0</td>\n",
       "    </tr>\n",
       "    <tr>\n",
       "      <th>2025-01-06</th>\n",
       "      <td>-0.224270</td>\n",
       "      <td>-0.494670</td>\n",
       "      <td>-0.119892</td>\n",
       "      <td>-5.0</td>\n",
       "      <td>-5.0</td>\n",
       "    </tr>\n",
       "  </tbody>\n",
       "</table>\n",
       "</div>"
      ]
     },
     "execution_count": 118,
     "metadata": {},
     "output_type": "execute_result"
    }
   ],
   "execution_count": 118
  },
  {
   "metadata": {},
   "cell_type": "markdown",
   "source": "### Missing Data",
   "id": "eb870ebeee4bf1c1"
  },
  {
   "metadata": {
    "ExecuteTime": {
     "end_time": "2025-09-20T16:24:07.517361Z",
     "start_time": "2025-09-20T16:24:07.488289Z"
    }
   },
   "cell_type": "code",
   "source": [
    "df_ = df.reindex(index=dates[0:4], columns=list(df.columns) + [\"E\"])\n",
    "df_.loc[dates[0] : dates[1], \"E\"] = 1\n",
    "df_"
   ],
   "id": "1d0144c46eda3061",
   "outputs": [
    {
     "data": {
      "text/plain": [
       "                   A         B         C    D    F    E\n",
       "2025-01-01  0.000000  0.000000 -1.248914  5.0  NaN  1.0\n",
       "2025-01-02 -1.721199 -0.260787 -1.438006  5.0  1.0  1.0\n",
       "2025-01-03  0.518596  1.887472 -0.160073  5.0  2.0  NaN\n",
       "2025-01-04  1.919670 -1.468073  1.833157  5.0  3.0  NaN"
      ],
      "text/html": [
       "<div>\n",
       "<style scoped>\n",
       "    .dataframe tbody tr th:only-of-type {\n",
       "        vertical-align: middle;\n",
       "    }\n",
       "\n",
       "    .dataframe tbody tr th {\n",
       "        vertical-align: top;\n",
       "    }\n",
       "\n",
       "    .dataframe thead th {\n",
       "        text-align: right;\n",
       "    }\n",
       "</style>\n",
       "<table border=\"1\" class=\"dataframe\">\n",
       "  <thead>\n",
       "    <tr style=\"text-align: right;\">\n",
       "      <th></th>\n",
       "      <th>A</th>\n",
       "      <th>B</th>\n",
       "      <th>C</th>\n",
       "      <th>D</th>\n",
       "      <th>F</th>\n",
       "      <th>E</th>\n",
       "    </tr>\n",
       "  </thead>\n",
       "  <tbody>\n",
       "    <tr>\n",
       "      <th>2025-01-01</th>\n",
       "      <td>0.000000</td>\n",
       "      <td>0.000000</td>\n",
       "      <td>-1.248914</td>\n",
       "      <td>5.0</td>\n",
       "      <td>NaN</td>\n",
       "      <td>1.0</td>\n",
       "    </tr>\n",
       "    <tr>\n",
       "      <th>2025-01-02</th>\n",
       "      <td>-1.721199</td>\n",
       "      <td>-0.260787</td>\n",
       "      <td>-1.438006</td>\n",
       "      <td>5.0</td>\n",
       "      <td>1.0</td>\n",
       "      <td>1.0</td>\n",
       "    </tr>\n",
       "    <tr>\n",
       "      <th>2025-01-03</th>\n",
       "      <td>0.518596</td>\n",
       "      <td>1.887472</td>\n",
       "      <td>-0.160073</td>\n",
       "      <td>5.0</td>\n",
       "      <td>2.0</td>\n",
       "      <td>NaN</td>\n",
       "    </tr>\n",
       "    <tr>\n",
       "      <th>2025-01-04</th>\n",
       "      <td>1.919670</td>\n",
       "      <td>-1.468073</td>\n",
       "      <td>1.833157</td>\n",
       "      <td>5.0</td>\n",
       "      <td>3.0</td>\n",
       "      <td>NaN</td>\n",
       "    </tr>\n",
       "  </tbody>\n",
       "</table>\n",
       "</div>"
      ]
     },
     "execution_count": 42,
     "metadata": {},
     "output_type": "execute_result"
    }
   ],
   "execution_count": 42
  },
  {
   "metadata": {
    "ExecuteTime": {
     "end_time": "2025-09-20T16:24:07.802470Z",
     "start_time": "2025-09-20T16:24:07.778527Z"
    }
   },
   "cell_type": "code",
   "source": "df_.dropna(how='any')",
   "id": "5e2bc0c5e963b609",
   "outputs": [
    {
     "data": {
      "text/plain": [
       "                   A         B         C    D    F    E\n",
       "2025-01-02 -1.721199 -0.260787 -1.438006  5.0  1.0  1.0"
      ],
      "text/html": [
       "<div>\n",
       "<style scoped>\n",
       "    .dataframe tbody tr th:only-of-type {\n",
       "        vertical-align: middle;\n",
       "    }\n",
       "\n",
       "    .dataframe tbody tr th {\n",
       "        vertical-align: top;\n",
       "    }\n",
       "\n",
       "    .dataframe thead th {\n",
       "        text-align: right;\n",
       "    }\n",
       "</style>\n",
       "<table border=\"1\" class=\"dataframe\">\n",
       "  <thead>\n",
       "    <tr style=\"text-align: right;\">\n",
       "      <th></th>\n",
       "      <th>A</th>\n",
       "      <th>B</th>\n",
       "      <th>C</th>\n",
       "      <th>D</th>\n",
       "      <th>F</th>\n",
       "      <th>E</th>\n",
       "    </tr>\n",
       "  </thead>\n",
       "  <tbody>\n",
       "    <tr>\n",
       "      <th>2025-01-02</th>\n",
       "      <td>-1.721199</td>\n",
       "      <td>-0.260787</td>\n",
       "      <td>-1.438006</td>\n",
       "      <td>5.0</td>\n",
       "      <td>1.0</td>\n",
       "      <td>1.0</td>\n",
       "    </tr>\n",
       "  </tbody>\n",
       "</table>\n",
       "</div>"
      ]
     },
     "execution_count": 43,
     "metadata": {},
     "output_type": "execute_result"
    }
   ],
   "execution_count": 43
  },
  {
   "metadata": {
    "ExecuteTime": {
     "end_time": "2025-09-20T16:24:07.902467Z",
     "start_time": "2025-09-20T16:24:07.817932Z"
    }
   },
   "cell_type": "code",
   "source": "df_.fillna(value=5)",
   "id": "904d50603f891485",
   "outputs": [
    {
     "data": {
      "text/plain": [
       "                   A         B         C    D    F    E\n",
       "2025-01-01  0.000000  0.000000 -1.248914  5.0  5.0  1.0\n",
       "2025-01-02 -1.721199 -0.260787 -1.438006  5.0  1.0  1.0\n",
       "2025-01-03  0.518596  1.887472 -0.160073  5.0  2.0  5.0\n",
       "2025-01-04  1.919670 -1.468073  1.833157  5.0  3.0  5.0"
      ],
      "text/html": [
       "<div>\n",
       "<style scoped>\n",
       "    .dataframe tbody tr th:only-of-type {\n",
       "        vertical-align: middle;\n",
       "    }\n",
       "\n",
       "    .dataframe tbody tr th {\n",
       "        vertical-align: top;\n",
       "    }\n",
       "\n",
       "    .dataframe thead th {\n",
       "        text-align: right;\n",
       "    }\n",
       "</style>\n",
       "<table border=\"1\" class=\"dataframe\">\n",
       "  <thead>\n",
       "    <tr style=\"text-align: right;\">\n",
       "      <th></th>\n",
       "      <th>A</th>\n",
       "      <th>B</th>\n",
       "      <th>C</th>\n",
       "      <th>D</th>\n",
       "      <th>F</th>\n",
       "      <th>E</th>\n",
       "    </tr>\n",
       "  </thead>\n",
       "  <tbody>\n",
       "    <tr>\n",
       "      <th>2025-01-01</th>\n",
       "      <td>0.000000</td>\n",
       "      <td>0.000000</td>\n",
       "      <td>-1.248914</td>\n",
       "      <td>5.0</td>\n",
       "      <td>5.0</td>\n",
       "      <td>1.0</td>\n",
       "    </tr>\n",
       "    <tr>\n",
       "      <th>2025-01-02</th>\n",
       "      <td>-1.721199</td>\n",
       "      <td>-0.260787</td>\n",
       "      <td>-1.438006</td>\n",
       "      <td>5.0</td>\n",
       "      <td>1.0</td>\n",
       "      <td>1.0</td>\n",
       "    </tr>\n",
       "    <tr>\n",
       "      <th>2025-01-03</th>\n",
       "      <td>0.518596</td>\n",
       "      <td>1.887472</td>\n",
       "      <td>-0.160073</td>\n",
       "      <td>5.0</td>\n",
       "      <td>2.0</td>\n",
       "      <td>5.0</td>\n",
       "    </tr>\n",
       "    <tr>\n",
       "      <th>2025-01-04</th>\n",
       "      <td>1.919670</td>\n",
       "      <td>-1.468073</td>\n",
       "      <td>1.833157</td>\n",
       "      <td>5.0</td>\n",
       "      <td>3.0</td>\n",
       "      <td>5.0</td>\n",
       "    </tr>\n",
       "  </tbody>\n",
       "</table>\n",
       "</div>"
      ]
     },
     "execution_count": 44,
     "metadata": {},
     "output_type": "execute_result"
    }
   ],
   "execution_count": 44
  },
  {
   "metadata": {
    "ExecuteTime": {
     "end_time": "2025-09-20T16:24:07.952193Z",
     "start_time": "2025-09-20T16:24:07.917080Z"
    }
   },
   "cell_type": "code",
   "source": "pd.isna(df_)",
   "id": "a01c3fd4e370659d",
   "outputs": [
    {
     "data": {
      "text/plain": [
       "                A      B      C      D      F      E\n",
       "2025-01-01  False  False  False  False   True  False\n",
       "2025-01-02  False  False  False  False  False  False\n",
       "2025-01-03  False  False  False  False  False   True\n",
       "2025-01-04  False  False  False  False  False   True"
      ],
      "text/html": [
       "<div>\n",
       "<style scoped>\n",
       "    .dataframe tbody tr th:only-of-type {\n",
       "        vertical-align: middle;\n",
       "    }\n",
       "\n",
       "    .dataframe tbody tr th {\n",
       "        vertical-align: top;\n",
       "    }\n",
       "\n",
       "    .dataframe thead th {\n",
       "        text-align: right;\n",
       "    }\n",
       "</style>\n",
       "<table border=\"1\" class=\"dataframe\">\n",
       "  <thead>\n",
       "    <tr style=\"text-align: right;\">\n",
       "      <th></th>\n",
       "      <th>A</th>\n",
       "      <th>B</th>\n",
       "      <th>C</th>\n",
       "      <th>D</th>\n",
       "      <th>F</th>\n",
       "      <th>E</th>\n",
       "    </tr>\n",
       "  </thead>\n",
       "  <tbody>\n",
       "    <tr>\n",
       "      <th>2025-01-01</th>\n",
       "      <td>False</td>\n",
       "      <td>False</td>\n",
       "      <td>False</td>\n",
       "      <td>False</td>\n",
       "      <td>True</td>\n",
       "      <td>False</td>\n",
       "    </tr>\n",
       "    <tr>\n",
       "      <th>2025-01-02</th>\n",
       "      <td>False</td>\n",
       "      <td>False</td>\n",
       "      <td>False</td>\n",
       "      <td>False</td>\n",
       "      <td>False</td>\n",
       "      <td>False</td>\n",
       "    </tr>\n",
       "    <tr>\n",
       "      <th>2025-01-03</th>\n",
       "      <td>False</td>\n",
       "      <td>False</td>\n",
       "      <td>False</td>\n",
       "      <td>False</td>\n",
       "      <td>False</td>\n",
       "      <td>True</td>\n",
       "    </tr>\n",
       "    <tr>\n",
       "      <th>2025-01-04</th>\n",
       "      <td>False</td>\n",
       "      <td>False</td>\n",
       "      <td>False</td>\n",
       "      <td>False</td>\n",
       "      <td>False</td>\n",
       "      <td>True</td>\n",
       "    </tr>\n",
       "  </tbody>\n",
       "</table>\n",
       "</div>"
      ]
     },
     "execution_count": 45,
     "metadata": {},
     "output_type": "execute_result"
    }
   ],
   "execution_count": 45
  },
  {
   "metadata": {},
   "cell_type": "markdown",
   "source": "### Operations",
   "id": "8811b2f7f8541d34"
  },
  {
   "metadata": {},
   "cell_type": "markdown",
   "source": "#### Stats",
   "id": "5a081ea85345439a"
  },
  {
   "metadata": {
    "ExecuteTime": {
     "end_time": "2025-09-20T16:24:08.057145Z",
     "start_time": "2025-09-20T16:24:07.964212Z"
    }
   },
   "cell_type": "code",
   "source": "df.mean",
   "id": "b90dcd8acaa001f",
   "outputs": [
    {
     "data": {
      "text/plain": [
       "<bound method DataFrame.mean of                    A         B         C    D    F\n",
       "2025-01-01  0.000000  0.000000 -1.248914  5.0  NaN\n",
       "2025-01-02 -1.721199 -0.260787 -1.438006  5.0  1.0\n",
       "2025-01-03  0.518596  1.887472 -0.160073  5.0  2.0\n",
       "2025-01-04  1.919670 -1.468073  1.833157  5.0  3.0\n",
       "2025-01-05  0.062789 -0.549094 -0.147110  5.0  4.0\n",
       "2025-01-06  0.856270  0.206588  0.363219  5.0  5.0>"
      ]
     },
     "execution_count": 46,
     "metadata": {},
     "output_type": "execute_result"
    }
   ],
   "execution_count": 46
  },
  {
   "metadata": {
    "ExecuteTime": {
     "end_time": "2025-09-20T16:24:08.119373Z",
     "start_time": "2025-09-20T16:24:08.066924Z"
    }
   },
   "cell_type": "code",
   "source": "df.mean(axis=0)",
   "id": "166cc9c2b5747281",
   "outputs": [
    {
     "data": {
      "text/plain": [
       "A    0.272688\n",
       "B   -0.030649\n",
       "C   -0.132955\n",
       "D    5.000000\n",
       "F    3.000000\n",
       "dtype: float64"
      ]
     },
     "execution_count": 47,
     "metadata": {},
     "output_type": "execute_result"
    }
   ],
   "execution_count": 47
  },
  {
   "metadata": {
    "ExecuteTime": {
     "end_time": "2025-09-20T16:24:08.182565Z",
     "start_time": "2025-09-20T16:24:08.139402Z"
    }
   },
   "cell_type": "code",
   "source": [
    "s = pd.Series([1, 3, 5, np.nan, 6, 8], index=dates).shift(2)\n",
    "s"
   ],
   "id": "8d08d7a9cbaa0797",
   "outputs": [
    {
     "data": {
      "text/plain": [
       "2025-01-01    NaN\n",
       "2025-01-02    NaN\n",
       "2025-01-03    1.0\n",
       "2025-01-04    3.0\n",
       "2025-01-05    5.0\n",
       "2025-01-06    NaN\n",
       "Freq: D, dtype: float64"
      ]
     },
     "execution_count": 48,
     "metadata": {},
     "output_type": "execute_result"
    }
   ],
   "execution_count": 48
  },
  {
   "metadata": {
    "ExecuteTime": {
     "end_time": "2025-09-20T16:24:08.236575Z",
     "start_time": "2025-09-20T16:24:08.197803Z"
    }
   },
   "cell_type": "code",
   "source": [
    "df.sub(s, axis=\"index\")\n",
    "df"
   ],
   "id": "6376ac4ec3fcf916",
   "outputs": [
    {
     "data": {
      "text/plain": [
       "                   A         B         C    D    F\n",
       "2025-01-01  0.000000  0.000000 -1.248914  5.0  NaN\n",
       "2025-01-02 -1.721199 -0.260787 -1.438006  5.0  1.0\n",
       "2025-01-03  0.518596  1.887472 -0.160073  5.0  2.0\n",
       "2025-01-04  1.919670 -1.468073  1.833157  5.0  3.0\n",
       "2025-01-05  0.062789 -0.549094 -0.147110  5.0  4.0\n",
       "2025-01-06  0.856270  0.206588  0.363219  5.0  5.0"
      ],
      "text/html": [
       "<div>\n",
       "<style scoped>\n",
       "    .dataframe tbody tr th:only-of-type {\n",
       "        vertical-align: middle;\n",
       "    }\n",
       "\n",
       "    .dataframe tbody tr th {\n",
       "        vertical-align: top;\n",
       "    }\n",
       "\n",
       "    .dataframe thead th {\n",
       "        text-align: right;\n",
       "    }\n",
       "</style>\n",
       "<table border=\"1\" class=\"dataframe\">\n",
       "  <thead>\n",
       "    <tr style=\"text-align: right;\">\n",
       "      <th></th>\n",
       "      <th>A</th>\n",
       "      <th>B</th>\n",
       "      <th>C</th>\n",
       "      <th>D</th>\n",
       "      <th>F</th>\n",
       "    </tr>\n",
       "  </thead>\n",
       "  <tbody>\n",
       "    <tr>\n",
       "      <th>2025-01-01</th>\n",
       "      <td>0.000000</td>\n",
       "      <td>0.000000</td>\n",
       "      <td>-1.248914</td>\n",
       "      <td>5.0</td>\n",
       "      <td>NaN</td>\n",
       "    </tr>\n",
       "    <tr>\n",
       "      <th>2025-01-02</th>\n",
       "      <td>-1.721199</td>\n",
       "      <td>-0.260787</td>\n",
       "      <td>-1.438006</td>\n",
       "      <td>5.0</td>\n",
       "      <td>1.0</td>\n",
       "    </tr>\n",
       "    <tr>\n",
       "      <th>2025-01-03</th>\n",
       "      <td>0.518596</td>\n",
       "      <td>1.887472</td>\n",
       "      <td>-0.160073</td>\n",
       "      <td>5.0</td>\n",
       "      <td>2.0</td>\n",
       "    </tr>\n",
       "    <tr>\n",
       "      <th>2025-01-04</th>\n",
       "      <td>1.919670</td>\n",
       "      <td>-1.468073</td>\n",
       "      <td>1.833157</td>\n",
       "      <td>5.0</td>\n",
       "      <td>3.0</td>\n",
       "    </tr>\n",
       "    <tr>\n",
       "      <th>2025-01-05</th>\n",
       "      <td>0.062789</td>\n",
       "      <td>-0.549094</td>\n",
       "      <td>-0.147110</td>\n",
       "      <td>5.0</td>\n",
       "      <td>4.0</td>\n",
       "    </tr>\n",
       "    <tr>\n",
       "      <th>2025-01-06</th>\n",
       "      <td>0.856270</td>\n",
       "      <td>0.206588</td>\n",
       "      <td>0.363219</td>\n",
       "      <td>5.0</td>\n",
       "      <td>5.0</td>\n",
       "    </tr>\n",
       "  </tbody>\n",
       "</table>\n",
       "</div>"
      ]
     },
     "execution_count": 49,
     "metadata": {},
     "output_type": "execute_result"
    }
   ],
   "execution_count": 49
  },
  {
   "metadata": {},
   "cell_type": "markdown",
   "source": "#### User defined function",
   "id": "d1d66da7eec1945b"
  },
  {
   "metadata": {
    "ExecuteTime": {
     "end_time": "2025-09-20T16:24:08.282852Z",
     "start_time": "2025-09-20T16:24:08.251020Z"
    }
   },
   "cell_type": "code",
   "source": "df.agg(lambda x: np.mean(x) * 5.6)",
   "id": "df09ee5ac47821d5",
   "outputs": [
    {
     "data": {
      "text/plain": [
       "A     1.527051\n",
       "B    -0.171634\n",
       "C    -0.744546\n",
       "D    28.000000\n",
       "F    16.800000\n",
       "dtype: float64"
      ]
     },
     "execution_count": 50,
     "metadata": {},
     "output_type": "execute_result"
    }
   ],
   "execution_count": 50
  },
  {
   "metadata": {
    "ExecuteTime": {
     "end_time": "2025-09-20T16:24:08.332889Z",
     "start_time": "2025-09-20T16:24:08.299588Z"
    }
   },
   "cell_type": "code",
   "source": "df.transform(lambda x: x * 101.2)",
   "id": "ef4d50a0e70a0f0e",
   "outputs": [
    {
     "data": {
      "text/plain": [
       "                     A           B           C      D      F\n",
       "2025-01-01    0.000000    0.000000 -126.390090  506.0    NaN\n",
       "2025-01-02 -174.185381  -26.391634 -145.526241  506.0  101.2\n",
       "2025-01-03   52.481927  191.012128  -16.199403  506.0  202.4\n",
       "2025-01-04  194.270608 -148.568965  185.515479  506.0  303.6\n",
       "2025-01-05    6.354271  -55.568326  -14.887540  506.0  404.8\n",
       "2025-01-06   86.654545   20.906744   36.757789  506.0  506.0"
      ],
      "text/html": [
       "<div>\n",
       "<style scoped>\n",
       "    .dataframe tbody tr th:only-of-type {\n",
       "        vertical-align: middle;\n",
       "    }\n",
       "\n",
       "    .dataframe tbody tr th {\n",
       "        vertical-align: top;\n",
       "    }\n",
       "\n",
       "    .dataframe thead th {\n",
       "        text-align: right;\n",
       "    }\n",
       "</style>\n",
       "<table border=\"1\" class=\"dataframe\">\n",
       "  <thead>\n",
       "    <tr style=\"text-align: right;\">\n",
       "      <th></th>\n",
       "      <th>A</th>\n",
       "      <th>B</th>\n",
       "      <th>C</th>\n",
       "      <th>D</th>\n",
       "      <th>F</th>\n",
       "    </tr>\n",
       "  </thead>\n",
       "  <tbody>\n",
       "    <tr>\n",
       "      <th>2025-01-01</th>\n",
       "      <td>0.000000</td>\n",
       "      <td>0.000000</td>\n",
       "      <td>-126.390090</td>\n",
       "      <td>506.0</td>\n",
       "      <td>NaN</td>\n",
       "    </tr>\n",
       "    <tr>\n",
       "      <th>2025-01-02</th>\n",
       "      <td>-174.185381</td>\n",
       "      <td>-26.391634</td>\n",
       "      <td>-145.526241</td>\n",
       "      <td>506.0</td>\n",
       "      <td>101.2</td>\n",
       "    </tr>\n",
       "    <tr>\n",
       "      <th>2025-01-03</th>\n",
       "      <td>52.481927</td>\n",
       "      <td>191.012128</td>\n",
       "      <td>-16.199403</td>\n",
       "      <td>506.0</td>\n",
       "      <td>202.4</td>\n",
       "    </tr>\n",
       "    <tr>\n",
       "      <th>2025-01-04</th>\n",
       "      <td>194.270608</td>\n",
       "      <td>-148.568965</td>\n",
       "      <td>185.515479</td>\n",
       "      <td>506.0</td>\n",
       "      <td>303.6</td>\n",
       "    </tr>\n",
       "    <tr>\n",
       "      <th>2025-01-05</th>\n",
       "      <td>6.354271</td>\n",
       "      <td>-55.568326</td>\n",
       "      <td>-14.887540</td>\n",
       "      <td>506.0</td>\n",
       "      <td>404.8</td>\n",
       "    </tr>\n",
       "    <tr>\n",
       "      <th>2025-01-06</th>\n",
       "      <td>86.654545</td>\n",
       "      <td>20.906744</td>\n",
       "      <td>36.757789</td>\n",
       "      <td>506.0</td>\n",
       "      <td>506.0</td>\n",
       "    </tr>\n",
       "  </tbody>\n",
       "</table>\n",
       "</div>"
      ]
     },
     "execution_count": 51,
     "metadata": {},
     "output_type": "execute_result"
    }
   ],
   "execution_count": 51
  },
  {
   "metadata": {},
   "cell_type": "markdown",
   "source": "#### Value counts",
   "id": "8fa717306eb6346f"
  },
  {
   "metadata": {
    "ExecuteTime": {
     "end_time": "2025-09-20T16:24:08.394909Z",
     "start_time": "2025-09-20T16:24:08.353628Z"
    }
   },
   "cell_type": "code",
   "source": [
    "s = pd.Series(np.random.randint(0, 7, size=10))\n",
    "s\n",
    "s.value_counts()"
   ],
   "id": "271343662fe23ba3",
   "outputs": [
    {
     "data": {
      "text/plain": [
       "3    3\n",
       "0    2\n",
       "4    2\n",
       "2    2\n",
       "6    1\n",
       "Name: count, dtype: int64"
      ]
     },
     "execution_count": 52,
     "metadata": {},
     "output_type": "execute_result"
    }
   ],
   "execution_count": 52
  },
  {
   "metadata": {},
   "cell_type": "markdown",
   "source": "#### String methods",
   "id": "378391e17dc1089c"
  },
  {
   "metadata": {
    "ExecuteTime": {
     "end_time": "2025-09-20T16:24:08.463604Z",
     "start_time": "2025-09-20T16:24:08.411943Z"
    }
   },
   "cell_type": "code",
   "source": [
    "s = pd.Series([\"A\", \"B\", \"C\", \"Aaba\", \"Baca\", np.nan, \"CABA\", \"dog\", \"cat\"])\n",
    "s.str.lower()"
   ],
   "id": "cf39bc0a592b8399",
   "outputs": [
    {
     "data": {
      "text/plain": [
       "0       a\n",
       "1       b\n",
       "2       c\n",
       "3    aaba\n",
       "4    baca\n",
       "5     NaN\n",
       "6    caba\n",
       "7     dog\n",
       "8     cat\n",
       "dtype: object"
      ]
     },
     "execution_count": 53,
     "metadata": {},
     "output_type": "execute_result"
    }
   ],
   "execution_count": 53
  },
  {
   "metadata": {},
   "cell_type": "markdown",
   "source": "### Merge",
   "id": "ab8f7e0b704d25e6"
  },
  {
   "metadata": {},
   "cell_type": "markdown",
   "source": "#### Concat",
   "id": "c9f6903e49527f73"
  },
  {
   "metadata": {
    "ExecuteTime": {
     "end_time": "2025-09-20T16:24:08.583253Z",
     "start_time": "2025-09-20T16:24:08.483699Z"
    }
   },
   "cell_type": "code",
   "source": [
    "df = pd.DataFrame(np.random.randn(10,4))\n",
    "df"
   ],
   "id": "985de47d6934b697",
   "outputs": [
    {
     "data": {
      "text/plain": [
       "          0         1         2         3\n",
       "0  2.234242  0.641429  2.523012  0.188121\n",
       "1 -0.573001  1.268782  0.177751 -1.850816\n",
       "2 -0.695961  0.342440  0.036284  1.285908\n",
       "3  0.249112  0.983730  1.005666  1.604770\n",
       "4 -1.091754  2.351312 -0.783213  1.979712\n",
       "5  0.718648 -0.235962 -0.384220  0.207939\n",
       "6  0.153632  1.988010 -0.355553  0.528707\n",
       "7  0.542209 -0.994205  1.671940 -2.080751\n",
       "8  0.881533  0.154991 -0.554084 -0.150110\n",
       "9 -0.163267 -1.859469 -1.141187 -0.299102"
      ],
      "text/html": [
       "<div>\n",
       "<style scoped>\n",
       "    .dataframe tbody tr th:only-of-type {\n",
       "        vertical-align: middle;\n",
       "    }\n",
       "\n",
       "    .dataframe tbody tr th {\n",
       "        vertical-align: top;\n",
       "    }\n",
       "\n",
       "    .dataframe thead th {\n",
       "        text-align: right;\n",
       "    }\n",
       "</style>\n",
       "<table border=\"1\" class=\"dataframe\">\n",
       "  <thead>\n",
       "    <tr style=\"text-align: right;\">\n",
       "      <th></th>\n",
       "      <th>0</th>\n",
       "      <th>1</th>\n",
       "      <th>2</th>\n",
       "      <th>3</th>\n",
       "    </tr>\n",
       "  </thead>\n",
       "  <tbody>\n",
       "    <tr>\n",
       "      <th>0</th>\n",
       "      <td>2.234242</td>\n",
       "      <td>0.641429</td>\n",
       "      <td>2.523012</td>\n",
       "      <td>0.188121</td>\n",
       "    </tr>\n",
       "    <tr>\n",
       "      <th>1</th>\n",
       "      <td>-0.573001</td>\n",
       "      <td>1.268782</td>\n",
       "      <td>0.177751</td>\n",
       "      <td>-1.850816</td>\n",
       "    </tr>\n",
       "    <tr>\n",
       "      <th>2</th>\n",
       "      <td>-0.695961</td>\n",
       "      <td>0.342440</td>\n",
       "      <td>0.036284</td>\n",
       "      <td>1.285908</td>\n",
       "    </tr>\n",
       "    <tr>\n",
       "      <th>3</th>\n",
       "      <td>0.249112</td>\n",
       "      <td>0.983730</td>\n",
       "      <td>1.005666</td>\n",
       "      <td>1.604770</td>\n",
       "    </tr>\n",
       "    <tr>\n",
       "      <th>4</th>\n",
       "      <td>-1.091754</td>\n",
       "      <td>2.351312</td>\n",
       "      <td>-0.783213</td>\n",
       "      <td>1.979712</td>\n",
       "    </tr>\n",
       "    <tr>\n",
       "      <th>5</th>\n",
       "      <td>0.718648</td>\n",
       "      <td>-0.235962</td>\n",
       "      <td>-0.384220</td>\n",
       "      <td>0.207939</td>\n",
       "    </tr>\n",
       "    <tr>\n",
       "      <th>6</th>\n",
       "      <td>0.153632</td>\n",
       "      <td>1.988010</td>\n",
       "      <td>-0.355553</td>\n",
       "      <td>0.528707</td>\n",
       "    </tr>\n",
       "    <tr>\n",
       "      <th>7</th>\n",
       "      <td>0.542209</td>\n",
       "      <td>-0.994205</td>\n",
       "      <td>1.671940</td>\n",
       "      <td>-2.080751</td>\n",
       "    </tr>\n",
       "    <tr>\n",
       "      <th>8</th>\n",
       "      <td>0.881533</td>\n",
       "      <td>0.154991</td>\n",
       "      <td>-0.554084</td>\n",
       "      <td>-0.150110</td>\n",
       "    </tr>\n",
       "    <tr>\n",
       "      <th>9</th>\n",
       "      <td>-0.163267</td>\n",
       "      <td>-1.859469</td>\n",
       "      <td>-1.141187</td>\n",
       "      <td>-0.299102</td>\n",
       "    </tr>\n",
       "  </tbody>\n",
       "</table>\n",
       "</div>"
      ]
     },
     "execution_count": 54,
     "metadata": {},
     "output_type": "execute_result"
    }
   ],
   "execution_count": 54
  },
  {
   "metadata": {
    "ExecuteTime": {
     "end_time": "2025-09-20T16:24:09.761617Z",
     "start_time": "2025-09-20T16:24:09.732601Z"
    }
   },
   "cell_type": "code",
   "source": [
    "pieces = [df[:3], df[3:7], df[7:]]\n",
    "pieces"
   ],
   "id": "b5f187c7c41da625",
   "outputs": [
    {
     "data": {
      "text/plain": [
       "[          0         1         2         3\n",
       " 0  2.234242  0.641429  2.523012  0.188121\n",
       " 1 -0.573001  1.268782  0.177751 -1.850816\n",
       " 2 -0.695961  0.342440  0.036284  1.285908,\n",
       "           0         1         2         3\n",
       " 3  0.249112  0.983730  1.005666  1.604770\n",
       " 4 -1.091754  2.351312 -0.783213  1.979712\n",
       " 5  0.718648 -0.235962 -0.384220  0.207939\n",
       " 6  0.153632  1.988010 -0.355553  0.528707,\n",
       "           0         1         2         3\n",
       " 7  0.542209 -0.994205  1.671940 -2.080751\n",
       " 8  0.881533  0.154991 -0.554084 -0.150110\n",
       " 9 -0.163267 -1.859469 -1.141187 -0.299102]"
      ]
     },
     "execution_count": 55,
     "metadata": {},
     "output_type": "execute_result"
    }
   ],
   "execution_count": 55
  },
  {
   "metadata": {
    "ExecuteTime": {
     "end_time": "2025-09-20T16:24:10.657071Z",
     "start_time": "2025-09-20T16:24:10.633285Z"
    }
   },
   "cell_type": "code",
   "source": "pd.concat(pieces)",
   "id": "32a6e394d3cdb89",
   "outputs": [
    {
     "data": {
      "text/plain": [
       "          0         1         2         3\n",
       "0  2.234242  0.641429  2.523012  0.188121\n",
       "1 -0.573001  1.268782  0.177751 -1.850816\n",
       "2 -0.695961  0.342440  0.036284  1.285908\n",
       "3  0.249112  0.983730  1.005666  1.604770\n",
       "4 -1.091754  2.351312 -0.783213  1.979712\n",
       "5  0.718648 -0.235962 -0.384220  0.207939\n",
       "6  0.153632  1.988010 -0.355553  0.528707\n",
       "7  0.542209 -0.994205  1.671940 -2.080751\n",
       "8  0.881533  0.154991 -0.554084 -0.150110\n",
       "9 -0.163267 -1.859469 -1.141187 -0.299102"
      ],
      "text/html": [
       "<div>\n",
       "<style scoped>\n",
       "    .dataframe tbody tr th:only-of-type {\n",
       "        vertical-align: middle;\n",
       "    }\n",
       "\n",
       "    .dataframe tbody tr th {\n",
       "        vertical-align: top;\n",
       "    }\n",
       "\n",
       "    .dataframe thead th {\n",
       "        text-align: right;\n",
       "    }\n",
       "</style>\n",
       "<table border=\"1\" class=\"dataframe\">\n",
       "  <thead>\n",
       "    <tr style=\"text-align: right;\">\n",
       "      <th></th>\n",
       "      <th>0</th>\n",
       "      <th>1</th>\n",
       "      <th>2</th>\n",
       "      <th>3</th>\n",
       "    </tr>\n",
       "  </thead>\n",
       "  <tbody>\n",
       "    <tr>\n",
       "      <th>0</th>\n",
       "      <td>2.234242</td>\n",
       "      <td>0.641429</td>\n",
       "      <td>2.523012</td>\n",
       "      <td>0.188121</td>\n",
       "    </tr>\n",
       "    <tr>\n",
       "      <th>1</th>\n",
       "      <td>-0.573001</td>\n",
       "      <td>1.268782</td>\n",
       "      <td>0.177751</td>\n",
       "      <td>-1.850816</td>\n",
       "    </tr>\n",
       "    <tr>\n",
       "      <th>2</th>\n",
       "      <td>-0.695961</td>\n",
       "      <td>0.342440</td>\n",
       "      <td>0.036284</td>\n",
       "      <td>1.285908</td>\n",
       "    </tr>\n",
       "    <tr>\n",
       "      <th>3</th>\n",
       "      <td>0.249112</td>\n",
       "      <td>0.983730</td>\n",
       "      <td>1.005666</td>\n",
       "      <td>1.604770</td>\n",
       "    </tr>\n",
       "    <tr>\n",
       "      <th>4</th>\n",
       "      <td>-1.091754</td>\n",
       "      <td>2.351312</td>\n",
       "      <td>-0.783213</td>\n",
       "      <td>1.979712</td>\n",
       "    </tr>\n",
       "    <tr>\n",
       "      <th>5</th>\n",
       "      <td>0.718648</td>\n",
       "      <td>-0.235962</td>\n",
       "      <td>-0.384220</td>\n",
       "      <td>0.207939</td>\n",
       "    </tr>\n",
       "    <tr>\n",
       "      <th>6</th>\n",
       "      <td>0.153632</td>\n",
       "      <td>1.988010</td>\n",
       "      <td>-0.355553</td>\n",
       "      <td>0.528707</td>\n",
       "    </tr>\n",
       "    <tr>\n",
       "      <th>7</th>\n",
       "      <td>0.542209</td>\n",
       "      <td>-0.994205</td>\n",
       "      <td>1.671940</td>\n",
       "      <td>-2.080751</td>\n",
       "    </tr>\n",
       "    <tr>\n",
       "      <th>8</th>\n",
       "      <td>0.881533</td>\n",
       "      <td>0.154991</td>\n",
       "      <td>-0.554084</td>\n",
       "      <td>-0.150110</td>\n",
       "    </tr>\n",
       "    <tr>\n",
       "      <th>9</th>\n",
       "      <td>-0.163267</td>\n",
       "      <td>-1.859469</td>\n",
       "      <td>-1.141187</td>\n",
       "      <td>-0.299102</td>\n",
       "    </tr>\n",
       "  </tbody>\n",
       "</table>\n",
       "</div>"
      ]
     },
     "execution_count": 56,
     "metadata": {},
     "output_type": "execute_result"
    }
   ],
   "execution_count": 56
  },
  {
   "metadata": {},
   "cell_type": "markdown",
   "source": "#### Join",
   "id": "471cea50b1c9210e"
  },
  {
   "metadata": {
    "ExecuteTime": {
     "end_time": "2025-09-20T16:24:10.855750Z",
     "start_time": "2025-09-20T16:24:10.832813Z"
    }
   },
   "cell_type": "code",
   "source": [
    "left = pd.DataFrame({\"key\": [\"foo\", \"foo\"], \"lval\": [1, 2]})\n",
    "left"
   ],
   "id": "2abef6d7f8b06f2b",
   "outputs": [
    {
     "data": {
      "text/plain": [
       "   key  lval\n",
       "0  foo     1\n",
       "1  foo     2"
      ],
      "text/html": [
       "<div>\n",
       "<style scoped>\n",
       "    .dataframe tbody tr th:only-of-type {\n",
       "        vertical-align: middle;\n",
       "    }\n",
       "\n",
       "    .dataframe tbody tr th {\n",
       "        vertical-align: top;\n",
       "    }\n",
       "\n",
       "    .dataframe thead th {\n",
       "        text-align: right;\n",
       "    }\n",
       "</style>\n",
       "<table border=\"1\" class=\"dataframe\">\n",
       "  <thead>\n",
       "    <tr style=\"text-align: right;\">\n",
       "      <th></th>\n",
       "      <th>key</th>\n",
       "      <th>lval</th>\n",
       "    </tr>\n",
       "  </thead>\n",
       "  <tbody>\n",
       "    <tr>\n",
       "      <th>0</th>\n",
       "      <td>foo</td>\n",
       "      <td>1</td>\n",
       "    </tr>\n",
       "    <tr>\n",
       "      <th>1</th>\n",
       "      <td>foo</td>\n",
       "      <td>2</td>\n",
       "    </tr>\n",
       "  </tbody>\n",
       "</table>\n",
       "</div>"
      ]
     },
     "execution_count": 57,
     "metadata": {},
     "output_type": "execute_result"
    }
   ],
   "execution_count": 57
  },
  {
   "metadata": {
    "ExecuteTime": {
     "end_time": "2025-09-20T16:24:11.674968Z",
     "start_time": "2025-09-20T16:24:11.647031Z"
    }
   },
   "cell_type": "code",
   "source": [
    "right = pd.DataFrame({\"key\": [\"foo\", \"foo\"], \"rval\": [4, 5]})\n",
    "right"
   ],
   "id": "fc16aced1ae3334e",
   "outputs": [
    {
     "data": {
      "text/plain": [
       "   key  rval\n",
       "0  foo     4\n",
       "1  foo     5"
      ],
      "text/html": [
       "<div>\n",
       "<style scoped>\n",
       "    .dataframe tbody tr th:only-of-type {\n",
       "        vertical-align: middle;\n",
       "    }\n",
       "\n",
       "    .dataframe tbody tr th {\n",
       "        vertical-align: top;\n",
       "    }\n",
       "\n",
       "    .dataframe thead th {\n",
       "        text-align: right;\n",
       "    }\n",
       "</style>\n",
       "<table border=\"1\" class=\"dataframe\">\n",
       "  <thead>\n",
       "    <tr style=\"text-align: right;\">\n",
       "      <th></th>\n",
       "      <th>key</th>\n",
       "      <th>rval</th>\n",
       "    </tr>\n",
       "  </thead>\n",
       "  <tbody>\n",
       "    <tr>\n",
       "      <th>0</th>\n",
       "      <td>foo</td>\n",
       "      <td>4</td>\n",
       "    </tr>\n",
       "    <tr>\n",
       "      <th>1</th>\n",
       "      <td>foo</td>\n",
       "      <td>5</td>\n",
       "    </tr>\n",
       "  </tbody>\n",
       "</table>\n",
       "</div>"
      ]
     },
     "execution_count": 58,
     "metadata": {},
     "output_type": "execute_result"
    }
   ],
   "execution_count": 58
  },
  {
   "metadata": {
    "ExecuteTime": {
     "end_time": "2025-09-20T16:24:12.156405Z",
     "start_time": "2025-09-20T16:24:12.127542Z"
    }
   },
   "cell_type": "code",
   "source": "pd.merge(left, right, on='key')",
   "id": "cb650cb0f7857f85",
   "outputs": [
    {
     "data": {
      "text/plain": [
       "   key  lval  rval\n",
       "0  foo     1     4\n",
       "1  foo     1     5\n",
       "2  foo     2     4\n",
       "3  foo     2     5"
      ],
      "text/html": [
       "<div>\n",
       "<style scoped>\n",
       "    .dataframe tbody tr th:only-of-type {\n",
       "        vertical-align: middle;\n",
       "    }\n",
       "\n",
       "    .dataframe tbody tr th {\n",
       "        vertical-align: top;\n",
       "    }\n",
       "\n",
       "    .dataframe thead th {\n",
       "        text-align: right;\n",
       "    }\n",
       "</style>\n",
       "<table border=\"1\" class=\"dataframe\">\n",
       "  <thead>\n",
       "    <tr style=\"text-align: right;\">\n",
       "      <th></th>\n",
       "      <th>key</th>\n",
       "      <th>lval</th>\n",
       "      <th>rval</th>\n",
       "    </tr>\n",
       "  </thead>\n",
       "  <tbody>\n",
       "    <tr>\n",
       "      <th>0</th>\n",
       "      <td>foo</td>\n",
       "      <td>1</td>\n",
       "      <td>4</td>\n",
       "    </tr>\n",
       "    <tr>\n",
       "      <th>1</th>\n",
       "      <td>foo</td>\n",
       "      <td>1</td>\n",
       "      <td>5</td>\n",
       "    </tr>\n",
       "    <tr>\n",
       "      <th>2</th>\n",
       "      <td>foo</td>\n",
       "      <td>2</td>\n",
       "      <td>4</td>\n",
       "    </tr>\n",
       "    <tr>\n",
       "      <th>3</th>\n",
       "      <td>foo</td>\n",
       "      <td>2</td>\n",
       "      <td>5</td>\n",
       "    </tr>\n",
       "  </tbody>\n",
       "</table>\n",
       "</div>"
      ]
     },
     "execution_count": 59,
     "metadata": {},
     "output_type": "execute_result"
    }
   ],
   "execution_count": 59
  },
  {
   "metadata": {
    "ExecuteTime": {
     "end_time": "2025-09-20T16:24:13.133771Z",
     "start_time": "2025-09-20T16:24:13.124365Z"
    }
   },
   "cell_type": "code",
   "source": [
    "left = pd.DataFrame({\"key\": [\"foo\", \"bar\"], \"lval\": [1, 2]})\n",
    "\n",
    "right = pd.DataFrame({\"key\": [\"foo\", \"bar\"], \"rval\": [4, 5]})"
   ],
   "id": "331b36eff0633ad2",
   "outputs": [],
   "execution_count": 60
  },
  {
   "metadata": {
    "ExecuteTime": {
     "end_time": "2025-09-20T16:24:13.255400Z",
     "start_time": "2025-09-20T16:24:13.236048Z"
    }
   },
   "cell_type": "code",
   "source": "pd.merge(left, right, on=\"key\")",
   "id": "5e8ebdbe2abcb41e",
   "outputs": [
    {
     "data": {
      "text/plain": [
       "   key  lval  rval\n",
       "0  foo     1     4\n",
       "1  bar     2     5"
      ],
      "text/html": [
       "<div>\n",
       "<style scoped>\n",
       "    .dataframe tbody tr th:only-of-type {\n",
       "        vertical-align: middle;\n",
       "    }\n",
       "\n",
       "    .dataframe tbody tr th {\n",
       "        vertical-align: top;\n",
       "    }\n",
       "\n",
       "    .dataframe thead th {\n",
       "        text-align: right;\n",
       "    }\n",
       "</style>\n",
       "<table border=\"1\" class=\"dataframe\">\n",
       "  <thead>\n",
       "    <tr style=\"text-align: right;\">\n",
       "      <th></th>\n",
       "      <th>key</th>\n",
       "      <th>lval</th>\n",
       "      <th>rval</th>\n",
       "    </tr>\n",
       "  </thead>\n",
       "  <tbody>\n",
       "    <tr>\n",
       "      <th>0</th>\n",
       "      <td>foo</td>\n",
       "      <td>1</td>\n",
       "      <td>4</td>\n",
       "    </tr>\n",
       "    <tr>\n",
       "      <th>1</th>\n",
       "      <td>bar</td>\n",
       "      <td>2</td>\n",
       "      <td>5</td>\n",
       "    </tr>\n",
       "  </tbody>\n",
       "</table>\n",
       "</div>"
      ]
     },
     "execution_count": 61,
     "metadata": {},
     "output_type": "execute_result"
    }
   ],
   "execution_count": 61
  },
  {
   "metadata": {},
   "cell_type": "markdown",
   "source": "### Grouping",
   "id": "470ea4ee8578cdbc"
  },
  {
   "metadata": {},
   "cell_type": "markdown",
   "source": [
    "By “group by” we are referring to a process involving one or more of the following steps:\n",
    "\n",
    "- Splitting the data into groups based on some criteria\n",
    "\n",
    "- Applying a function to each group independently\n",
    "\n",
    "- Combining the results into a data structure"
   ],
   "id": "cb7569da9a58c463"
  },
  {
   "metadata": {
    "ExecuteTime": {
     "end_time": "2025-09-20T16:24:13.695452Z",
     "start_time": "2025-09-20T16:24:13.670679Z"
    }
   },
   "cell_type": "code",
   "source": [
    "df = pd.DataFrame(\n",
    "    {\n",
    "        \"A\": [\"foo\", \"bar\", \"foo\", \"bar\", \"foo\", \"bar\", \"foo\", \"foo\"],\n",
    "        \"B\": [\"one\", \"one\", \"two\", \"three\", \"two\", \"two\", \"one\", \"three\"],\n",
    "        \"C\": np.random.randn(8),\n",
    "        \"D\": np.random.randn(8),\n",
    "    }\n",
    ")\n",
    "df"
   ],
   "id": "a48c4a615c3735d9",
   "outputs": [
    {
     "data": {
      "text/plain": [
       "     A      B         C         D\n",
       "0  foo    one  1.180816 -0.865551\n",
       "1  bar    one -0.626245 -1.209875\n",
       "2  foo    two -0.013470 -2.218641\n",
       "3  bar  three -0.697841 -1.089757\n",
       "4  foo    two  0.583069  0.310856\n",
       "5  bar    two  0.015633  0.453251\n",
       "6  foo    one  1.577822  1.243251\n",
       "7  foo  three  1.188706  0.962927"
      ],
      "text/html": [
       "<div>\n",
       "<style scoped>\n",
       "    .dataframe tbody tr th:only-of-type {\n",
       "        vertical-align: middle;\n",
       "    }\n",
       "\n",
       "    .dataframe tbody tr th {\n",
       "        vertical-align: top;\n",
       "    }\n",
       "\n",
       "    .dataframe thead th {\n",
       "        text-align: right;\n",
       "    }\n",
       "</style>\n",
       "<table border=\"1\" class=\"dataframe\">\n",
       "  <thead>\n",
       "    <tr style=\"text-align: right;\">\n",
       "      <th></th>\n",
       "      <th>A</th>\n",
       "      <th>B</th>\n",
       "      <th>C</th>\n",
       "      <th>D</th>\n",
       "    </tr>\n",
       "  </thead>\n",
       "  <tbody>\n",
       "    <tr>\n",
       "      <th>0</th>\n",
       "      <td>foo</td>\n",
       "      <td>one</td>\n",
       "      <td>1.180816</td>\n",
       "      <td>-0.865551</td>\n",
       "    </tr>\n",
       "    <tr>\n",
       "      <th>1</th>\n",
       "      <td>bar</td>\n",
       "      <td>one</td>\n",
       "      <td>-0.626245</td>\n",
       "      <td>-1.209875</td>\n",
       "    </tr>\n",
       "    <tr>\n",
       "      <th>2</th>\n",
       "      <td>foo</td>\n",
       "      <td>two</td>\n",
       "      <td>-0.013470</td>\n",
       "      <td>-2.218641</td>\n",
       "    </tr>\n",
       "    <tr>\n",
       "      <th>3</th>\n",
       "      <td>bar</td>\n",
       "      <td>three</td>\n",
       "      <td>-0.697841</td>\n",
       "      <td>-1.089757</td>\n",
       "    </tr>\n",
       "    <tr>\n",
       "      <th>4</th>\n",
       "      <td>foo</td>\n",
       "      <td>two</td>\n",
       "      <td>0.583069</td>\n",
       "      <td>0.310856</td>\n",
       "    </tr>\n",
       "    <tr>\n",
       "      <th>5</th>\n",
       "      <td>bar</td>\n",
       "      <td>two</td>\n",
       "      <td>0.015633</td>\n",
       "      <td>0.453251</td>\n",
       "    </tr>\n",
       "    <tr>\n",
       "      <th>6</th>\n",
       "      <td>foo</td>\n",
       "      <td>one</td>\n",
       "      <td>1.577822</td>\n",
       "      <td>1.243251</td>\n",
       "    </tr>\n",
       "    <tr>\n",
       "      <th>7</th>\n",
       "      <td>foo</td>\n",
       "      <td>three</td>\n",
       "      <td>1.188706</td>\n",
       "      <td>0.962927</td>\n",
       "    </tr>\n",
       "  </tbody>\n",
       "</table>\n",
       "</div>"
      ]
     },
     "execution_count": 62,
     "metadata": {},
     "output_type": "execute_result"
    }
   ],
   "execution_count": 62
  },
  {
   "metadata": {
    "ExecuteTime": {
     "end_time": "2025-09-20T16:24:14.418888Z",
     "start_time": "2025-09-20T16:24:14.394670Z"
    }
   },
   "cell_type": "code",
   "source": "df.groupby('A')[['C', 'D']].sum()\n",
   "id": "ce1a513d345825dc",
   "outputs": [
    {
     "data": {
      "text/plain": [
       "            C         D\n",
       "A                      \n",
       "bar -1.308454 -1.846381\n",
       "foo  4.516943 -0.567158"
      ],
      "text/html": [
       "<div>\n",
       "<style scoped>\n",
       "    .dataframe tbody tr th:only-of-type {\n",
       "        vertical-align: middle;\n",
       "    }\n",
       "\n",
       "    .dataframe tbody tr th {\n",
       "        vertical-align: top;\n",
       "    }\n",
       "\n",
       "    .dataframe thead th {\n",
       "        text-align: right;\n",
       "    }\n",
       "</style>\n",
       "<table border=\"1\" class=\"dataframe\">\n",
       "  <thead>\n",
       "    <tr style=\"text-align: right;\">\n",
       "      <th></th>\n",
       "      <th>C</th>\n",
       "      <th>D</th>\n",
       "    </tr>\n",
       "    <tr>\n",
       "      <th>A</th>\n",
       "      <th></th>\n",
       "      <th></th>\n",
       "    </tr>\n",
       "  </thead>\n",
       "  <tbody>\n",
       "    <tr>\n",
       "      <th>bar</th>\n",
       "      <td>-1.308454</td>\n",
       "      <td>-1.846381</td>\n",
       "    </tr>\n",
       "    <tr>\n",
       "      <th>foo</th>\n",
       "      <td>4.516943</td>\n",
       "      <td>-0.567158</td>\n",
       "    </tr>\n",
       "  </tbody>\n",
       "</table>\n",
       "</div>"
      ]
     },
     "execution_count": 63,
     "metadata": {},
     "output_type": "execute_result"
    }
   ],
   "execution_count": 63
  },
  {
   "metadata": {
    "ExecuteTime": {
     "end_time": "2025-09-20T16:24:14.836427Z",
     "start_time": "2025-09-20T16:24:14.784360Z"
    }
   },
   "cell_type": "code",
   "source": "df.groupby(['A','B']).sum()",
   "id": "6d919ebad48c438b",
   "outputs": [
    {
     "data": {
      "text/plain": [
       "                  C         D\n",
       "A   B                        \n",
       "bar one   -0.626245 -1.209875\n",
       "    three -0.697841 -1.089757\n",
       "    two    0.015633  0.453251\n",
       "foo one    2.758638  0.377700\n",
       "    three  1.188706  0.962927\n",
       "    two    0.569599 -1.907785"
      ],
      "text/html": [
       "<div>\n",
       "<style scoped>\n",
       "    .dataframe tbody tr th:only-of-type {\n",
       "        vertical-align: middle;\n",
       "    }\n",
       "\n",
       "    .dataframe tbody tr th {\n",
       "        vertical-align: top;\n",
       "    }\n",
       "\n",
       "    .dataframe thead th {\n",
       "        text-align: right;\n",
       "    }\n",
       "</style>\n",
       "<table border=\"1\" class=\"dataframe\">\n",
       "  <thead>\n",
       "    <tr style=\"text-align: right;\">\n",
       "      <th></th>\n",
       "      <th></th>\n",
       "      <th>C</th>\n",
       "      <th>D</th>\n",
       "    </tr>\n",
       "    <tr>\n",
       "      <th>A</th>\n",
       "      <th>B</th>\n",
       "      <th></th>\n",
       "      <th></th>\n",
       "    </tr>\n",
       "  </thead>\n",
       "  <tbody>\n",
       "    <tr>\n",
       "      <th rowspan=\"3\" valign=\"top\">bar</th>\n",
       "      <th>one</th>\n",
       "      <td>-0.626245</td>\n",
       "      <td>-1.209875</td>\n",
       "    </tr>\n",
       "    <tr>\n",
       "      <th>three</th>\n",
       "      <td>-0.697841</td>\n",
       "      <td>-1.089757</td>\n",
       "    </tr>\n",
       "    <tr>\n",
       "      <th>two</th>\n",
       "      <td>0.015633</td>\n",
       "      <td>0.453251</td>\n",
       "    </tr>\n",
       "    <tr>\n",
       "      <th rowspan=\"3\" valign=\"top\">foo</th>\n",
       "      <th>one</th>\n",
       "      <td>2.758638</td>\n",
       "      <td>0.377700</td>\n",
       "    </tr>\n",
       "    <tr>\n",
       "      <th>three</th>\n",
       "      <td>1.188706</td>\n",
       "      <td>0.962927</td>\n",
       "    </tr>\n",
       "    <tr>\n",
       "      <th>two</th>\n",
       "      <td>0.569599</td>\n",
       "      <td>-1.907785</td>\n",
       "    </tr>\n",
       "  </tbody>\n",
       "</table>\n",
       "</div>"
      ]
     },
     "execution_count": 64,
     "metadata": {},
     "output_type": "execute_result"
    }
   ],
   "execution_count": 64
  },
  {
   "metadata": {},
   "cell_type": "markdown",
   "source": "### Reshaping",
   "id": "d5bab8cce8d27b8f"
  },
  {
   "metadata": {
    "jupyter": {
     "is_executing": true
    },
    "SqlCellData": {
     "variableName$1": "df_sql1"
    }
   },
   "cell_type": "markdown",
   "source": "#### Stack",
   "id": "a49b167207d51feb"
  },
  {
   "metadata": {
    "ExecuteTime": {
     "end_time": "2025-09-20T16:24:15.495976Z",
     "start_time": "2025-09-20T16:24:15.463715Z"
    }
   },
   "cell_type": "code",
   "source": [
    "arrays = [\n",
    "[\"bar\", \"bar\", \"baz\", \"baz\", \"foo\", \"foo\", \"qux\", \"qux\"],\n",
    "[\"one\", \"two\", \"one\", \"two\", \"one\", \"two\", \"one\", \"two\"],\n",
    "]\n",
    "\n",
    "index = pd.MultiIndex.from_arrays(arrays, names=[\"first\", \"second\"])\n",
    "\n",
    "df = pd.DataFrame(np.random.randn(8, 2), index=index, columns=[\"A\", \"B\"])\n",
    "\n",
    "df2 = df[:4]\n",
    "\n",
    "df2"
   ],
   "id": "ecd6a42b27ddc4a2",
   "outputs": [
    {
     "data": {
      "text/plain": [
       "                     A         B\n",
       "first second                    \n",
       "bar   one    -1.139138 -0.134818\n",
       "      two     0.476341  2.792390\n",
       "baz   one    -0.866034  0.810066\n",
       "      two     0.862971  0.865420"
      ],
      "text/html": [
       "<div>\n",
       "<style scoped>\n",
       "    .dataframe tbody tr th:only-of-type {\n",
       "        vertical-align: middle;\n",
       "    }\n",
       "\n",
       "    .dataframe tbody tr th {\n",
       "        vertical-align: top;\n",
       "    }\n",
       "\n",
       "    .dataframe thead th {\n",
       "        text-align: right;\n",
       "    }\n",
       "</style>\n",
       "<table border=\"1\" class=\"dataframe\">\n",
       "  <thead>\n",
       "    <tr style=\"text-align: right;\">\n",
       "      <th></th>\n",
       "      <th></th>\n",
       "      <th>A</th>\n",
       "      <th>B</th>\n",
       "    </tr>\n",
       "    <tr>\n",
       "      <th>first</th>\n",
       "      <th>second</th>\n",
       "      <th></th>\n",
       "      <th></th>\n",
       "    </tr>\n",
       "  </thead>\n",
       "  <tbody>\n",
       "    <tr>\n",
       "      <th rowspan=\"2\" valign=\"top\">bar</th>\n",
       "      <th>one</th>\n",
       "      <td>-1.139138</td>\n",
       "      <td>-0.134818</td>\n",
       "    </tr>\n",
       "    <tr>\n",
       "      <th>two</th>\n",
       "      <td>0.476341</td>\n",
       "      <td>2.792390</td>\n",
       "    </tr>\n",
       "    <tr>\n",
       "      <th rowspan=\"2\" valign=\"top\">baz</th>\n",
       "      <th>one</th>\n",
       "      <td>-0.866034</td>\n",
       "      <td>0.810066</td>\n",
       "    </tr>\n",
       "    <tr>\n",
       "      <th>two</th>\n",
       "      <td>0.862971</td>\n",
       "      <td>0.865420</td>\n",
       "    </tr>\n",
       "  </tbody>\n",
       "</table>\n",
       "</div>"
      ]
     },
     "execution_count": 65,
     "metadata": {},
     "output_type": "execute_result"
    }
   ],
   "execution_count": 65
  },
  {
   "metadata": {
    "ExecuteTime": {
     "end_time": "2025-09-20T16:24:16.064411Z",
     "start_time": "2025-09-20T16:24:16.012833Z"
    }
   },
   "cell_type": "code",
   "source": [
    "stacked = df2.stack(future_stack=True)\n",
    "stacked"
   ],
   "id": "d0880ad096087073",
   "outputs": [
    {
     "data": {
      "text/plain": [
       "first  second   \n",
       "bar    one     A   -1.139138\n",
       "               B   -0.134818\n",
       "       two     A    0.476341\n",
       "               B    2.792390\n",
       "baz    one     A   -0.866034\n",
       "               B    0.810066\n",
       "       two     A    0.862971\n",
       "               B    0.865420\n",
       "dtype: float64"
      ]
     },
     "execution_count": 66,
     "metadata": {},
     "output_type": "execute_result"
    }
   ],
   "execution_count": 66
  },
  {
   "metadata": {
    "ExecuteTime": {
     "end_time": "2025-09-20T16:24:16.623390Z",
     "start_time": "2025-09-20T16:24:16.598830Z"
    }
   },
   "cell_type": "code",
   "source": "stacked.unstack()",
   "id": "38561b627f6b2585",
   "outputs": [
    {
     "data": {
      "text/plain": [
       "                     A         B\n",
       "first second                    \n",
       "bar   one    -1.139138 -0.134818\n",
       "      two     0.476341  2.792390\n",
       "baz   one    -0.866034  0.810066\n",
       "      two     0.862971  0.865420"
      ],
      "text/html": [
       "<div>\n",
       "<style scoped>\n",
       "    .dataframe tbody tr th:only-of-type {\n",
       "        vertical-align: middle;\n",
       "    }\n",
       "\n",
       "    .dataframe tbody tr th {\n",
       "        vertical-align: top;\n",
       "    }\n",
       "\n",
       "    .dataframe thead th {\n",
       "        text-align: right;\n",
       "    }\n",
       "</style>\n",
       "<table border=\"1\" class=\"dataframe\">\n",
       "  <thead>\n",
       "    <tr style=\"text-align: right;\">\n",
       "      <th></th>\n",
       "      <th></th>\n",
       "      <th>A</th>\n",
       "      <th>B</th>\n",
       "    </tr>\n",
       "    <tr>\n",
       "      <th>first</th>\n",
       "      <th>second</th>\n",
       "      <th></th>\n",
       "      <th></th>\n",
       "    </tr>\n",
       "  </thead>\n",
       "  <tbody>\n",
       "    <tr>\n",
       "      <th rowspan=\"2\" valign=\"top\">bar</th>\n",
       "      <th>one</th>\n",
       "      <td>-1.139138</td>\n",
       "      <td>-0.134818</td>\n",
       "    </tr>\n",
       "    <tr>\n",
       "      <th>two</th>\n",
       "      <td>0.476341</td>\n",
       "      <td>2.792390</td>\n",
       "    </tr>\n",
       "    <tr>\n",
       "      <th rowspan=\"2\" valign=\"top\">baz</th>\n",
       "      <th>one</th>\n",
       "      <td>-0.866034</td>\n",
       "      <td>0.810066</td>\n",
       "    </tr>\n",
       "    <tr>\n",
       "      <th>two</th>\n",
       "      <td>0.862971</td>\n",
       "      <td>0.865420</td>\n",
       "    </tr>\n",
       "  </tbody>\n",
       "</table>\n",
       "</div>"
      ]
     },
     "execution_count": 67,
     "metadata": {},
     "output_type": "execute_result"
    }
   ],
   "execution_count": 67
  },
  {
   "metadata": {
    "ExecuteTime": {
     "end_time": "2025-09-20T16:24:17.597907Z",
     "start_time": "2025-09-20T16:24:17.574113Z"
    }
   },
   "cell_type": "code",
   "source": "stacked.unstack(1)",
   "id": "baccea6f42357349",
   "outputs": [
    {
     "data": {
      "text/plain": [
       "second        one       two\n",
       "first                      \n",
       "bar   A -1.139138  0.476341\n",
       "      B -0.134818  2.792390\n",
       "baz   A -0.866034  0.862971\n",
       "      B  0.810066  0.865420"
      ],
      "text/html": [
       "<div>\n",
       "<style scoped>\n",
       "    .dataframe tbody tr th:only-of-type {\n",
       "        vertical-align: middle;\n",
       "    }\n",
       "\n",
       "    .dataframe tbody tr th {\n",
       "        vertical-align: top;\n",
       "    }\n",
       "\n",
       "    .dataframe thead th {\n",
       "        text-align: right;\n",
       "    }\n",
       "</style>\n",
       "<table border=\"1\" class=\"dataframe\">\n",
       "  <thead>\n",
       "    <tr style=\"text-align: right;\">\n",
       "      <th></th>\n",
       "      <th>second</th>\n",
       "      <th>one</th>\n",
       "      <th>two</th>\n",
       "    </tr>\n",
       "    <tr>\n",
       "      <th>first</th>\n",
       "      <th></th>\n",
       "      <th></th>\n",
       "      <th></th>\n",
       "    </tr>\n",
       "  </thead>\n",
       "  <tbody>\n",
       "    <tr>\n",
       "      <th rowspan=\"2\" valign=\"top\">bar</th>\n",
       "      <th>A</th>\n",
       "      <td>-1.139138</td>\n",
       "      <td>0.476341</td>\n",
       "    </tr>\n",
       "    <tr>\n",
       "      <th>B</th>\n",
       "      <td>-0.134818</td>\n",
       "      <td>2.792390</td>\n",
       "    </tr>\n",
       "    <tr>\n",
       "      <th rowspan=\"2\" valign=\"top\">baz</th>\n",
       "      <th>A</th>\n",
       "      <td>-0.866034</td>\n",
       "      <td>0.862971</td>\n",
       "    </tr>\n",
       "    <tr>\n",
       "      <th>B</th>\n",
       "      <td>0.810066</td>\n",
       "      <td>0.865420</td>\n",
       "    </tr>\n",
       "  </tbody>\n",
       "</table>\n",
       "</div>"
      ]
     },
     "execution_count": 68,
     "metadata": {},
     "output_type": "execute_result"
    }
   ],
   "execution_count": 68
  },
  {
   "metadata": {
    "ExecuteTime": {
     "end_time": "2025-09-20T16:24:17.926305Z",
     "start_time": "2025-09-20T16:24:17.869848Z"
    }
   },
   "cell_type": "code",
   "source": "stacked.unstack(0)",
   "id": "f6af8ec0f306607c",
   "outputs": [
    {
     "data": {
      "text/plain": [
       "first          bar       baz\n",
       "second                      \n",
       "one    A -1.139138 -0.866034\n",
       "       B -0.134818  0.810066\n",
       "two    A  0.476341  0.862971\n",
       "       B  2.792390  0.865420"
      ],
      "text/html": [
       "<div>\n",
       "<style scoped>\n",
       "    .dataframe tbody tr th:only-of-type {\n",
       "        vertical-align: middle;\n",
       "    }\n",
       "\n",
       "    .dataframe tbody tr th {\n",
       "        vertical-align: top;\n",
       "    }\n",
       "\n",
       "    .dataframe thead th {\n",
       "        text-align: right;\n",
       "    }\n",
       "</style>\n",
       "<table border=\"1\" class=\"dataframe\">\n",
       "  <thead>\n",
       "    <tr style=\"text-align: right;\">\n",
       "      <th></th>\n",
       "      <th>first</th>\n",
       "      <th>bar</th>\n",
       "      <th>baz</th>\n",
       "    </tr>\n",
       "    <tr>\n",
       "      <th>second</th>\n",
       "      <th></th>\n",
       "      <th></th>\n",
       "      <th></th>\n",
       "    </tr>\n",
       "  </thead>\n",
       "  <tbody>\n",
       "    <tr>\n",
       "      <th rowspan=\"2\" valign=\"top\">one</th>\n",
       "      <th>A</th>\n",
       "      <td>-1.139138</td>\n",
       "      <td>-0.866034</td>\n",
       "    </tr>\n",
       "    <tr>\n",
       "      <th>B</th>\n",
       "      <td>-0.134818</td>\n",
       "      <td>0.810066</td>\n",
       "    </tr>\n",
       "    <tr>\n",
       "      <th rowspan=\"2\" valign=\"top\">two</th>\n",
       "      <th>A</th>\n",
       "      <td>0.476341</td>\n",
       "      <td>0.862971</td>\n",
       "    </tr>\n",
       "    <tr>\n",
       "      <th>B</th>\n",
       "      <td>2.792390</td>\n",
       "      <td>0.865420</td>\n",
       "    </tr>\n",
       "  </tbody>\n",
       "</table>\n",
       "</div>"
      ]
     },
     "execution_count": 69,
     "metadata": {},
     "output_type": "execute_result"
    }
   ],
   "execution_count": 69
  },
  {
   "metadata": {},
   "cell_type": "markdown",
   "source": "#### Pivot tables",
   "id": "c4732ad13d7e7595"
  },
  {
   "metadata": {
    "ExecuteTime": {
     "end_time": "2025-09-20T16:24:19.705355Z",
     "start_time": "2025-09-20T16:24:19.673461Z"
    }
   },
   "cell_type": "code",
   "source": [
    "df = pd.DataFrame(\n",
    "    {\n",
    "        \"A\": [\"one\", \"one\", \"two\", \"three\"] * 3,\n",
    "        \"B\": [\"A\", \"B\", \"C\"] * 4,\n",
    "        \"C\": [\"foo\", \"foo\", \"foo\", \"bar\", \"bar\", \"bar\"] * 2,\n",
    "        \"D\": np.random.randn(12),\n",
    "        \"E\": np.random.randn(12),\n",
    "    }\n",
    ")\n",
    "df"
   ],
   "id": "c80e75cc0c8f0144",
   "outputs": [
    {
     "data": {
      "text/plain": [
       "        A  B    C         D         E\n",
       "0     one  A  foo  0.137307  1.289433\n",
       "1     one  B  foo  0.423881 -0.172040\n",
       "2     two  C  foo -0.528754 -0.662675\n",
       "3   three  A  bar  0.035786 -1.663380\n",
       "4     one  B  bar  0.181039  1.987600\n",
       "5     one  C  bar -0.077032  0.877084\n",
       "6     two  A  foo -0.591565  0.357512\n",
       "7   three  B  foo  0.883134  0.577902\n",
       "8     one  C  foo -0.632318 -0.659128\n",
       "9     one  A  bar -0.941573  0.091637\n",
       "10    two  B  bar  1.352611 -0.042605\n",
       "11  three  C  bar -0.438136  0.074978"
      ],
      "text/html": [
       "<div>\n",
       "<style scoped>\n",
       "    .dataframe tbody tr th:only-of-type {\n",
       "        vertical-align: middle;\n",
       "    }\n",
       "\n",
       "    .dataframe tbody tr th {\n",
       "        vertical-align: top;\n",
       "    }\n",
       "\n",
       "    .dataframe thead th {\n",
       "        text-align: right;\n",
       "    }\n",
       "</style>\n",
       "<table border=\"1\" class=\"dataframe\">\n",
       "  <thead>\n",
       "    <tr style=\"text-align: right;\">\n",
       "      <th></th>\n",
       "      <th>A</th>\n",
       "      <th>B</th>\n",
       "      <th>C</th>\n",
       "      <th>D</th>\n",
       "      <th>E</th>\n",
       "    </tr>\n",
       "  </thead>\n",
       "  <tbody>\n",
       "    <tr>\n",
       "      <th>0</th>\n",
       "      <td>one</td>\n",
       "      <td>A</td>\n",
       "      <td>foo</td>\n",
       "      <td>0.137307</td>\n",
       "      <td>1.289433</td>\n",
       "    </tr>\n",
       "    <tr>\n",
       "      <th>1</th>\n",
       "      <td>one</td>\n",
       "      <td>B</td>\n",
       "      <td>foo</td>\n",
       "      <td>0.423881</td>\n",
       "      <td>-0.172040</td>\n",
       "    </tr>\n",
       "    <tr>\n",
       "      <th>2</th>\n",
       "      <td>two</td>\n",
       "      <td>C</td>\n",
       "      <td>foo</td>\n",
       "      <td>-0.528754</td>\n",
       "      <td>-0.662675</td>\n",
       "    </tr>\n",
       "    <tr>\n",
       "      <th>3</th>\n",
       "      <td>three</td>\n",
       "      <td>A</td>\n",
       "      <td>bar</td>\n",
       "      <td>0.035786</td>\n",
       "      <td>-1.663380</td>\n",
       "    </tr>\n",
       "    <tr>\n",
       "      <th>4</th>\n",
       "      <td>one</td>\n",
       "      <td>B</td>\n",
       "      <td>bar</td>\n",
       "      <td>0.181039</td>\n",
       "      <td>1.987600</td>\n",
       "    </tr>\n",
       "    <tr>\n",
       "      <th>5</th>\n",
       "      <td>one</td>\n",
       "      <td>C</td>\n",
       "      <td>bar</td>\n",
       "      <td>-0.077032</td>\n",
       "      <td>0.877084</td>\n",
       "    </tr>\n",
       "    <tr>\n",
       "      <th>6</th>\n",
       "      <td>two</td>\n",
       "      <td>A</td>\n",
       "      <td>foo</td>\n",
       "      <td>-0.591565</td>\n",
       "      <td>0.357512</td>\n",
       "    </tr>\n",
       "    <tr>\n",
       "      <th>7</th>\n",
       "      <td>three</td>\n",
       "      <td>B</td>\n",
       "      <td>foo</td>\n",
       "      <td>0.883134</td>\n",
       "      <td>0.577902</td>\n",
       "    </tr>\n",
       "    <tr>\n",
       "      <th>8</th>\n",
       "      <td>one</td>\n",
       "      <td>C</td>\n",
       "      <td>foo</td>\n",
       "      <td>-0.632318</td>\n",
       "      <td>-0.659128</td>\n",
       "    </tr>\n",
       "    <tr>\n",
       "      <th>9</th>\n",
       "      <td>one</td>\n",
       "      <td>A</td>\n",
       "      <td>bar</td>\n",
       "      <td>-0.941573</td>\n",
       "      <td>0.091637</td>\n",
       "    </tr>\n",
       "    <tr>\n",
       "      <th>10</th>\n",
       "      <td>two</td>\n",
       "      <td>B</td>\n",
       "      <td>bar</td>\n",
       "      <td>1.352611</td>\n",
       "      <td>-0.042605</td>\n",
       "    </tr>\n",
       "    <tr>\n",
       "      <th>11</th>\n",
       "      <td>three</td>\n",
       "      <td>C</td>\n",
       "      <td>bar</td>\n",
       "      <td>-0.438136</td>\n",
       "      <td>0.074978</td>\n",
       "    </tr>\n",
       "  </tbody>\n",
       "</table>\n",
       "</div>"
      ]
     },
     "execution_count": 70,
     "metadata": {},
     "output_type": "execute_result"
    }
   ],
   "execution_count": 70
  },
  {
   "metadata": {
    "ExecuteTime": {
     "end_time": "2025-09-20T16:24:22.037582Z",
     "start_time": "2025-09-20T16:24:21.976299Z"
    }
   },
   "cell_type": "code",
   "source": "pd.pivot_table(df, values=\"D\", index=[\"A\", \"B\"], columns=[\"C\"])",
   "id": "656643f7189d705b",
   "outputs": [
    {
     "data": {
      "text/plain": [
       "C             bar       foo\n",
       "A     B                    \n",
       "one   A -0.941573  0.137307\n",
       "      B  0.181039  0.423881\n",
       "      C -0.077032 -0.632318\n",
       "three A  0.035786       NaN\n",
       "      B       NaN  0.883134\n",
       "      C -0.438136       NaN\n",
       "two   A       NaN -0.591565\n",
       "      B  1.352611       NaN\n",
       "      C       NaN -0.528754"
      ],
      "text/html": [
       "<div>\n",
       "<style scoped>\n",
       "    .dataframe tbody tr th:only-of-type {\n",
       "        vertical-align: middle;\n",
       "    }\n",
       "\n",
       "    .dataframe tbody tr th {\n",
       "        vertical-align: top;\n",
       "    }\n",
       "\n",
       "    .dataframe thead th {\n",
       "        text-align: right;\n",
       "    }\n",
       "</style>\n",
       "<table border=\"1\" class=\"dataframe\">\n",
       "  <thead>\n",
       "    <tr style=\"text-align: right;\">\n",
       "      <th></th>\n",
       "      <th>C</th>\n",
       "      <th>bar</th>\n",
       "      <th>foo</th>\n",
       "    </tr>\n",
       "    <tr>\n",
       "      <th>A</th>\n",
       "      <th>B</th>\n",
       "      <th></th>\n",
       "      <th></th>\n",
       "    </tr>\n",
       "  </thead>\n",
       "  <tbody>\n",
       "    <tr>\n",
       "      <th rowspan=\"3\" valign=\"top\">one</th>\n",
       "      <th>A</th>\n",
       "      <td>-0.941573</td>\n",
       "      <td>0.137307</td>\n",
       "    </tr>\n",
       "    <tr>\n",
       "      <th>B</th>\n",
       "      <td>0.181039</td>\n",
       "      <td>0.423881</td>\n",
       "    </tr>\n",
       "    <tr>\n",
       "      <th>C</th>\n",
       "      <td>-0.077032</td>\n",
       "      <td>-0.632318</td>\n",
       "    </tr>\n",
       "    <tr>\n",
       "      <th rowspan=\"3\" valign=\"top\">three</th>\n",
       "      <th>A</th>\n",
       "      <td>0.035786</td>\n",
       "      <td>NaN</td>\n",
       "    </tr>\n",
       "    <tr>\n",
       "      <th>B</th>\n",
       "      <td>NaN</td>\n",
       "      <td>0.883134</td>\n",
       "    </tr>\n",
       "    <tr>\n",
       "      <th>C</th>\n",
       "      <td>-0.438136</td>\n",
       "      <td>NaN</td>\n",
       "    </tr>\n",
       "    <tr>\n",
       "      <th rowspan=\"3\" valign=\"top\">two</th>\n",
       "      <th>A</th>\n",
       "      <td>NaN</td>\n",
       "      <td>-0.591565</td>\n",
       "    </tr>\n",
       "    <tr>\n",
       "      <th>B</th>\n",
       "      <td>1.352611</td>\n",
       "      <td>NaN</td>\n",
       "    </tr>\n",
       "    <tr>\n",
       "      <th>C</th>\n",
       "      <td>NaN</td>\n",
       "      <td>-0.528754</td>\n",
       "    </tr>\n",
       "  </tbody>\n",
       "</table>\n",
       "</div>"
      ]
     },
     "execution_count": 71,
     "metadata": {},
     "output_type": "execute_result"
    }
   ],
   "execution_count": 71
  },
  {
   "metadata": {},
   "cell_type": "markdown",
   "source": "",
   "id": "3670079a70014be2"
  },
  {
   "metadata": {},
   "cell_type": "markdown",
   "source": "### Categoricals",
   "id": "3d7e1e69eb9b229a"
  },
  {
   "metadata": {
    "ExecuteTime": {
     "end_time": "2025-09-20T16:24:22.120012Z",
     "start_time": "2025-09-20T16:24:22.088559Z"
    }
   },
   "cell_type": "code",
   "source": [
    "df = pd.DataFrame(\n",
    "    {\"id\": [1, 2, 3, 4, 5, 6], \"raw_grade\": [\"a\", \"b\", \"b\", \"a\", \"a\", \"e\"]}\n",
    ")\n",
    "df"
   ],
   "id": "dfd6716b65296406",
   "outputs": [
    {
     "data": {
      "text/plain": [
       "   id raw_grade\n",
       "0   1         a\n",
       "1   2         b\n",
       "2   3         b\n",
       "3   4         a\n",
       "4   5         a\n",
       "5   6         e"
      ],
      "text/html": [
       "<div>\n",
       "<style scoped>\n",
       "    .dataframe tbody tr th:only-of-type {\n",
       "        vertical-align: middle;\n",
       "    }\n",
       "\n",
       "    .dataframe tbody tr th {\n",
       "        vertical-align: top;\n",
       "    }\n",
       "\n",
       "    .dataframe thead th {\n",
       "        text-align: right;\n",
       "    }\n",
       "</style>\n",
       "<table border=\"1\" class=\"dataframe\">\n",
       "  <thead>\n",
       "    <tr style=\"text-align: right;\">\n",
       "      <th></th>\n",
       "      <th>id</th>\n",
       "      <th>raw_grade</th>\n",
       "    </tr>\n",
       "  </thead>\n",
       "  <tbody>\n",
       "    <tr>\n",
       "      <th>0</th>\n",
       "      <td>1</td>\n",
       "      <td>a</td>\n",
       "    </tr>\n",
       "    <tr>\n",
       "      <th>1</th>\n",
       "      <td>2</td>\n",
       "      <td>b</td>\n",
       "    </tr>\n",
       "    <tr>\n",
       "      <th>2</th>\n",
       "      <td>3</td>\n",
       "      <td>b</td>\n",
       "    </tr>\n",
       "    <tr>\n",
       "      <th>3</th>\n",
       "      <td>4</td>\n",
       "      <td>a</td>\n",
       "    </tr>\n",
       "    <tr>\n",
       "      <th>4</th>\n",
       "      <td>5</td>\n",
       "      <td>a</td>\n",
       "    </tr>\n",
       "    <tr>\n",
       "      <th>5</th>\n",
       "      <td>6</td>\n",
       "      <td>e</td>\n",
       "    </tr>\n",
       "  </tbody>\n",
       "</table>\n",
       "</div>"
      ]
     },
     "execution_count": 72,
     "metadata": {},
     "output_type": "execute_result"
    }
   ],
   "execution_count": 72
  },
  {
   "metadata": {
    "ExecuteTime": {
     "end_time": "2025-09-20T16:24:23.200419Z",
     "start_time": "2025-09-20T16:24:23.181631Z"
    }
   },
   "cell_type": "code",
   "source": [
    "df[\"grade\"] = df[\"raw_grade\"].astype(\"category\")\n",
    "df['grade']"
   ],
   "id": "56f0d69efaf8dbc",
   "outputs": [
    {
     "data": {
      "text/plain": [
       "0    a\n",
       "1    b\n",
       "2    b\n",
       "3    a\n",
       "4    a\n",
       "5    e\n",
       "Name: grade, dtype: category\n",
       "Categories (3, object): ['a', 'b', 'e']"
      ]
     },
     "execution_count": 73,
     "metadata": {},
     "output_type": "execute_result"
    }
   ],
   "execution_count": 73
  },
  {
   "metadata": {
    "ExecuteTime": {
     "end_time": "2025-09-20T16:24:23.447889Z",
     "start_time": "2025-09-20T16:24:23.382391Z"
    }
   },
   "cell_type": "code",
   "source": [
    "new_categories = [\"very good\", \"good\", \"very bad\"]\n",
    "df['grade'] = df['grade'].cat.rename_categories(new_categories)"
   ],
   "id": "f1a53733529267c4",
   "outputs": [],
   "execution_count": 74
  },
  {
   "metadata": {
    "ExecuteTime": {
     "end_time": "2025-09-20T16:24:23.705044Z",
     "start_time": "2025-09-20T16:24:23.689683Z"
    }
   },
   "cell_type": "code",
   "source": [
    "df[\"grade\"] = df[\"grade\"].cat.set_categories(\n",
    "    [\"very bad\", \"bad\", \"medium\", \"good\", \"very good\"]\n",
    ")\n",
    "df['grade']"
   ],
   "id": "46802cbc7a1b30f",
   "outputs": [
    {
     "data": {
      "text/plain": [
       "0    very good\n",
       "1         good\n",
       "2         good\n",
       "3    very good\n",
       "4    very good\n",
       "5     very bad\n",
       "Name: grade, dtype: category\n",
       "Categories (5, object): ['very bad', 'bad', 'medium', 'good', 'very good']"
      ]
     },
     "execution_count": 75,
     "metadata": {},
     "output_type": "execute_result"
    }
   ],
   "execution_count": 75
  },
  {
   "metadata": {
    "ExecuteTime": {
     "end_time": "2025-09-20T16:24:23.782758Z",
     "start_time": "2025-09-20T16:24:23.734084Z"
    }
   },
   "cell_type": "code",
   "source": "df.sort_values(by=\"grade\")",
   "id": "2c5955409394cdea",
   "outputs": [
    {
     "data": {
      "text/plain": [
       "   id raw_grade      grade\n",
       "5   6         e   very bad\n",
       "1   2         b       good\n",
       "2   3         b       good\n",
       "0   1         a  very good\n",
       "3   4         a  very good\n",
       "4   5         a  very good"
      ],
      "text/html": [
       "<div>\n",
       "<style scoped>\n",
       "    .dataframe tbody tr th:only-of-type {\n",
       "        vertical-align: middle;\n",
       "    }\n",
       "\n",
       "    .dataframe tbody tr th {\n",
       "        vertical-align: top;\n",
       "    }\n",
       "\n",
       "    .dataframe thead th {\n",
       "        text-align: right;\n",
       "    }\n",
       "</style>\n",
       "<table border=\"1\" class=\"dataframe\">\n",
       "  <thead>\n",
       "    <tr style=\"text-align: right;\">\n",
       "      <th></th>\n",
       "      <th>id</th>\n",
       "      <th>raw_grade</th>\n",
       "      <th>grade</th>\n",
       "    </tr>\n",
       "  </thead>\n",
       "  <tbody>\n",
       "    <tr>\n",
       "      <th>5</th>\n",
       "      <td>6</td>\n",
       "      <td>e</td>\n",
       "      <td>very bad</td>\n",
       "    </tr>\n",
       "    <tr>\n",
       "      <th>1</th>\n",
       "      <td>2</td>\n",
       "      <td>b</td>\n",
       "      <td>good</td>\n",
       "    </tr>\n",
       "    <tr>\n",
       "      <th>2</th>\n",
       "      <td>3</td>\n",
       "      <td>b</td>\n",
       "      <td>good</td>\n",
       "    </tr>\n",
       "    <tr>\n",
       "      <th>0</th>\n",
       "      <td>1</td>\n",
       "      <td>a</td>\n",
       "      <td>very good</td>\n",
       "    </tr>\n",
       "    <tr>\n",
       "      <th>3</th>\n",
       "      <td>4</td>\n",
       "      <td>a</td>\n",
       "      <td>very good</td>\n",
       "    </tr>\n",
       "    <tr>\n",
       "      <th>4</th>\n",
       "      <td>5</td>\n",
       "      <td>a</td>\n",
       "      <td>very good</td>\n",
       "    </tr>\n",
       "  </tbody>\n",
       "</table>\n",
       "</div>"
      ]
     },
     "execution_count": 76,
     "metadata": {},
     "output_type": "execute_result"
    }
   ],
   "execution_count": 76
  },
  {
   "metadata": {
    "ExecuteTime": {
     "end_time": "2025-09-20T16:24:25.689194Z",
     "start_time": "2025-09-20T16:24:25.672872Z"
    }
   },
   "cell_type": "code",
   "source": "df.groupby(\"grade\", observed=False).size()",
   "id": "77793b747d950fb5",
   "outputs": [
    {
     "data": {
      "text/plain": [
       "grade\n",
       "very bad     1\n",
       "bad          0\n",
       "medium       0\n",
       "good         2\n",
       "very good    3\n",
       "dtype: int64"
      ]
     },
     "execution_count": 77,
     "metadata": {},
     "output_type": "execute_result"
    }
   ],
   "execution_count": 77
  },
  {
   "metadata": {
    "ExecuteTime": {
     "end_time": "2025-09-20T16:24:37.349566Z",
     "start_time": "2025-09-20T16:24:37.344335Z"
    }
   },
   "cell_type": "code",
   "source": "",
   "id": "69996c8da7d69571",
   "outputs": [],
   "execution_count": null
  }
 ],
 "metadata": {
  "kernelspec": {
   "name": "python3",
   "language": "python",
   "display_name": "Python 3 (ipykernel)"
  }
 },
 "nbformat": 4,
 "nbformat_minor": 5
}
